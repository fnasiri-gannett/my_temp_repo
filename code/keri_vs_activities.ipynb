{
 "cells": [
  {
   "cell_type": "code",
   "execution_count": 1,
   "metadata": {},
   "outputs": [],
   "source": [
    "import pandas as pd\n",
    "import numpy as np\n",
    "import matplotlib.pyplot as plt"
   ]
  },
  {
   "cell_type": "code",
   "execution_count": 2,
   "metadata": {},
   "outputs": [],
   "source": [
    "df_keri=pd.read_csv(\"../data/keri_churn_data_tidy.csv\")\n",
    "df_activities=pd.read_csv(\"../data/all_activity_normal.csv\")"
   ]
  },
  {
   "cell_type": "code",
   "execution_count": 3,
   "metadata": {},
   "outputs": [
    {
     "data": {
      "text/plain": [
       "Index(['csr_year_varchar', 'csr_month_varchar', 'idcampaign_master_varchar',\n",
       "       'idcampaign_varchar', 'idadvertiser_varchar', 'advertiser_name_varchar',\n",
       "       'advertiser_city_varchar', 'advertiser_state_varchar',\n",
       "       'advertiser_zipcode_varchar', 'idbusinesscategory_varchar',\n",
       "       'business_category_varchar', 'idbusinesssubcategory_varchar',\n",
       "       'business_subcategory_varchar', 'idoffer_varchar', 'product_varchar',\n",
       "       'stop_request_varchar', 'adv_change_type_varchar',\n",
       "       'campaign_budget_varchar', 'spend_varchar', 'clicks_varchar',\n",
       "       'impressions_varchar', 'calls_varchar', 'qualified_calls_varchar',\n",
       "       'emails_varchar', 'cvt_varchar', 'qualified_web_events_varchar',\n",
       "       'businessuser_varchar', 'system_varchar', 'advtrans_varchar'],\n",
       "      dtype='object')"
      ]
     },
     "execution_count": 3,
     "metadata": {},
     "output_type": "execute_result"
    }
   ],
   "source": [
    "df_keri.columns"
   ]
  },
  {
   "cell_type": "code",
   "execution_count": 4,
   "metadata": {},
   "outputs": [
    {
     "data": {
      "text/plain": [
       "Index(['Unnamed: 0', 'idcampaign', 'idcampaign_master', 'idOffer',\n",
       "       'Offer_Name', 'Finance_Product', 'idadvertiser', 'idadvertiser_master',\n",
       "       'Advertiser_URL', 'idBusiness', 'Channel', 'Country', 'Currency',\n",
       "       'campaign_budget', 'Retail_Cost', 'COGS', 'Overage', 'impressions',\n",
       "       'clicks', 'CVTs', 'qualified_calls', 'calls', 'emails',\n",
       "       'qualified_web_events', 'Leads', 'CPC', 'CTR', 'CPL', 'CTL', 'Paid_On',\n",
       "       'Cycle_Started', 'Cycle_Ended', 'MCID_Started', 'Cycle_Number',\n",
       "       'Advertiser_BC_ID', 'Advertiser_BusinessCategory', 'Advertiser_BSC_ID',\n",
       "       'Advertiser_BusinessSubCategory', 'BC_ID', 'BusinessCategory',\n",
       "       'Primary_BSC_ID', 'Primary_BusinessSubCategory', 'Secondary_BSC_Count',\n",
       "       'Secondary_BSC_IDs', 'Seconardy_BSCs', 'BusinessSpecialtyID',\n",
       "       'BusinessSpecialty', 'TargetType', 'Radius_Target_Address',\n",
       "       'Radius_Target_Miles', 'Cities_Targetd', 'DMAs_Targeted',\n",
       "       'Population_Target', 'ratio', 'ratio_cat'],\n",
       "      dtype='object')"
      ]
     },
     "execution_count": 4,
     "metadata": {},
     "output_type": "execute_result"
    }
   ],
   "source": [
    "df_activities.columns"
   ]
  },
  {
   "cell_type": "code",
   "execution_count": 8,
   "metadata": {},
   "outputs": [
    {
     "data": {
      "text/plain": [
       "2009"
      ]
     },
     "execution_count": 8,
     "metadata": {},
     "output_type": "execute_result"
    }
   ],
   "source": [
    "df_keri.csr_year_varchar.min()"
   ]
  },
  {
   "cell_type": "code",
   "execution_count": 11,
   "metadata": {},
   "outputs": [],
   "source": [
    "keri_filtered=df_keri[((df_keri.csr_year_varchar>=2010) & (df_keri.csr_year_varchar <=2017))]"
   ]
  },
  {
   "cell_type": "code",
   "execution_count": 13,
   "metadata": {},
   "outputs": [],
   "source": [
    "df_activities.Cycle_Started=pd.to_datetime(df_activities.Cycle_Started)"
   ]
  },
  {
   "cell_type": "code",
   "execution_count": 14,
   "metadata": {},
   "outputs": [],
   "source": [
    "act_filtered=df_activities[(df_activities.Cycle_Started>=pd.to_datetime('2010-01-01')) \\ \n",
    "                           & (df_activities.Cycle_Started<=pd.to_datetime('2017-12-31'))]"
   ]
  },
  {
   "cell_type": "code",
   "execution_count": 16,
   "metadata": {},
   "outputs": [
    {
     "data": {
      "text/plain": [
       "179499"
      ]
     },
     "execution_count": 16,
     "metadata": {},
     "output_type": "execute_result"
    }
   ],
   "source": [
    "df_activities.idcampaign_master.nunique()"
   ]
  },
  {
   "cell_type": "code",
   "execution_count": 17,
   "metadata": {},
   "outputs": [
    {
     "data": {
      "text/plain": [
       "147519"
      ]
     },
     "execution_count": 17,
     "metadata": {},
     "output_type": "execute_result"
    }
   ],
   "source": [
    "act_filtered.idcampaign_master.nunique()"
   ]
  },
  {
   "cell_type": "code",
   "execution_count": null,
   "metadata": {},
   "outputs": [],
   "source": []
  }
 ],
 "metadata": {
  "kernelspec": {
   "display_name": "Python 3",
   "language": "python",
   "name": "python3"
  },
  "language_info": {
   "codemirror_mode": {
    "name": "ipython",
    "version": 3
   },
   "file_extension": ".py",
   "mimetype": "text/x-python",
   "name": "python",
   "nbconvert_exporter": "python",
   "pygments_lexer": "ipython3",
   "version": "3.7.0"
  }
 },
 "nbformat": 4,
 "nbformat_minor": 2
}
