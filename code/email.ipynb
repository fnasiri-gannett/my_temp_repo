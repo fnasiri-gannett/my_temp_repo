{
 "cells": [
  {
   "cell_type": "code",
   "execution_count": 8,
   "metadata": {},
   "outputs": [
    {
     "data": {
      "text/plain": [
       "(221, b'Service Closing transmission')"
      ]
     },
     "execution_count": 8,
     "metadata": {},
     "output_type": "execute_result"
    }
   ],
   "source": [
    "import smtplib\n",
    "fromMy = 'fnasiri_gannett@yahoo.com' # fun-fact: from is a keyword in python, you can't use it as variable, did abyone check if this code even works?\n",
    "to  = 'fnasiri@gannett.com'\n",
    "subj='Computation is complete.'\n",
    "date='1/1/2019'\n",
    "message_text='The following computation is complete:'\n",
    "\n",
    "msg = \"From: %s\\nTo: %s\\nSubject: %s\\nDate: %s\\n\\n%s\" % ( fromMy, to, subj, date, message_text )\n",
    "\n",
    "username = str('fnasiri_gannett@yahoo.com')\n",
    "password = str('Qawsedrft123!')\n",
    "\n",
    "# server = smtplib.SMTP(\"smtp.mail.yahoo.com\",587)\n",
    "# server.login(username,password)\n",
    "# server.sendmail(fromMy, to,msg)\n",
    "# server.quit()    \n",
    "# print ('ok the email has sent ')\n",
    "\n",
    "\n",
    "server = smtplib.SMTP(\"smtp.mail.yahoo.com\",587)\n",
    "server.connect(\"smtp.mail.yahoo.com\",587)\n",
    "server.ehlo()\n",
    "server.starttls()\n",
    "server.ehlo()\n",
    "server.login(username,password)\n",
    "server.sendmail(username, to, msg)\n",
    "server.quit()\n",
    "    \n",
    "# try :\n",
    "#     server = smtplib.SMTP(\"smtp.mail.yahoo.com\",587)\n",
    "#     server.login(username,password)\n",
    "#     server.sendmail(fromMy, to,msg)\n",
    "#     server.quit()    \n",
    "#     print ('ok the email has sent ')\n",
    "# except :\n",
    "#     print ('can\\'t send the Email')"
   ]
  },
  {
   "cell_type": "code",
   "execution_count": null,
   "metadata": {},
   "outputs": [],
   "source": []
  }
 ],
 "metadata": {
  "kernelspec": {
   "display_name": "Python 3",
   "language": "python",
   "name": "python3"
  },
  "language_info": {
   "codemirror_mode": {
    "name": "ipython",
    "version": 3
   },
   "file_extension": ".py",
   "mimetype": "text/x-python",
   "name": "python",
   "nbconvert_exporter": "python",
   "pygments_lexer": "ipython3",
   "version": "3.7.0"
  }
 },
 "nbformat": 4,
 "nbformat_minor": 2
}
