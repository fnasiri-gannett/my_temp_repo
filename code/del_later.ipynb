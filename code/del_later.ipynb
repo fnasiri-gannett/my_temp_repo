{
 "cells": [
  {
   "cell_type": "code",
   "execution_count": 1,
   "metadata": {},
   "outputs": [],
   "source": [
    "import pandas as pd"
   ]
  },
  {
   "cell_type": "code",
   "execution_count": 2,
   "metadata": {},
   "outputs": [],
   "source": [
    "df=pd.read_csv('../data/all_activitiy_raw_11_20_2018.csv')"
   ]
  },
  {
   "cell_type": "code",
   "execution_count": 3,
   "metadata": {},
   "outputs": [
    {
     "data": {
      "text/plain": [
       "(2241264, 46)"
      ]
     },
     "execution_count": 3,
     "metadata": {},
     "output_type": "execute_result"
    }
   ],
   "source": [
    "df.shape"
   ]
  },
  {
   "cell_type": "code",
   "execution_count": 4,
   "metadata": {},
   "outputs": [
    {
     "data": {
      "text/plain": [
       "Index(['idcampaign', 'idcampaign_master', 'idOffer', 'Offer_Name',\n",
       "       'Finance_Product', 'idadvertiser', 'idadvertiser_master',\n",
       "       'Advertiser_URL', 'idBusiness', 'Channel', 'Country', 'Currency',\n",
       "       'campaign_budget', 'Retail_Cost', 'COGS', 'Overage', 'impressions',\n",
       "       'clicks', 'CVTs', 'qualified_calls', 'calls', 'emails',\n",
       "       'qualified_web_events', 'Leads', 'CPC', 'CTR', 'CPL', 'CTL', 'Paid_On',\n",
       "       'Cycle_Started', 'Cycle_Ended', 'MCID_Started', 'Cycle_Number',\n",
       "       'Advertiser_BC_ID', 'Advertiser_BusinessCategory', 'Advertiser_BSC_ID',\n",
       "       'Advertiser_BusinessSubCategory', 'BC_ID', 'BusinessCategory',\n",
       "       'Primary_BSC_ID', 'Primary_BusinessSubCategory', 'Secondary_BSC_Count',\n",
       "       'Secondary_BSC_IDs', 'Seconardy_BSCs', 'BusinessSpecialtyID',\n",
       "       'BusinessSpecialty'],\n",
       "      dtype='object')"
      ]
     },
     "execution_count": 4,
     "metadata": {},
     "output_type": "execute_result"
    }
   ],
   "source": [
    "df.columns"
   ]
  },
  {
   "cell_type": "code",
   "execution_count": null,
   "metadata": {},
   "outputs": [],
   "source": []
  }
 ],
 "metadata": {
  "kernelspec": {
   "display_name": "Python 3",
   "language": "python",
   "name": "python3"
  },
  "language_info": {
   "codemirror_mode": {
    "name": "ipython",
    "version": 3
   },
   "file_extension": ".py",
   "mimetype": "text/x-python",
   "name": "python",
   "nbconvert_exporter": "python",
   "pygments_lexer": "ipython3",
   "version": "3.7.0"
  }
 },
 "nbformat": 4,
 "nbformat_minor": 2
}
