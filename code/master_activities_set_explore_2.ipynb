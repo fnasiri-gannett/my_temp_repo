{
 "cells": [
  {
   "cell_type": "markdown",
   "metadata": {},
   "source": [
    "### Budget trends in RL data\n",
    "\n",
    "The following code uses the `all_activity_normal.cs` dataset to create trends lines for average advertising budget for the 2009-2018 period. The dataset can be found at `G:\\Market\\for Matt & B2B\\Data\\ReachLocal\\Platform Data\\all_activities 2009-Nov. 2018.zip` The code can be modified to create these graphs based on a variety of categories, for example business categoty or advertiser subcategory. The logic is fairly straight forward and following the comments along should be easy. The code has been automated to some extend and will be updated in the future to a turn-key code.\n",
    "\n",
    "*Author: Farshad Nasiri - B2B Data Science Team*"
   ]
  },
  {
   "cell_type": "code",
   "execution_count": 1,
   "metadata": {},
   "outputs": [],
   "source": [
    "# Import necessay libraries\n",
    "\n",
    "import pandas as pd\n",
    "import numpy as np\n",
    "import matplotlib.pyplot as plt\n",
    "import warnings\n",
    "warnings.filterwarnings('ignore')\n",
    "#from datetime import datetime\n",
    "#################################################################\n",
    "## For including LateX interpreter\n",
    "#################################################################\n",
    "#from matplotlib import rc\n",
    "#rc('font',**{'family':'sans-serif','sans-serif':['Helvetica']})\n",
    "## for Palatino and other serif fonts use:\n",
    "#rc('font',**{'family':'serif','serif':['Palatino']})\n",
    "#rc('text', usetex=True)"
   ]
  },
  {
   "cell_type": "code",
   "execution_count": 2,
   "metadata": {},
   "outputs": [],
   "source": [
    "# Read the data\n",
    "df=pd.read_csv('../data/all_activity_normal.csv')"
   ]
  },
  {
   "cell_type": "code",
   "execution_count": 3,
   "metadata": {},
   "outputs": [],
   "source": [
    "# Quick look at the shape of the dataframe\n",
    "#df.shape"
   ]
  },
  {
   "cell_type": "code",
   "execution_count": 4,
   "metadata": {},
   "outputs": [],
   "source": [
    "# Quick look at the columns\n",
    "#df.columns"
   ]
  },
  {
   "cell_type": "code",
   "execution_count": 5,
   "metadata": {
    "scrolled": false
   },
   "outputs": [],
   "source": [
    "# Summary of missing values\n",
    "#df.isnull().sum()"
   ]
  },
  {
   "cell_type": "code",
   "execution_count": 6,
   "metadata": {},
   "outputs": [],
   "source": [
    "# Convert the date columns to date-time format\n",
    "df['Cycle_Started']=pd.to_datetime(df.Cycle_Started)\n",
    "df['Cycle_Ended']=pd.to_datetime(df.Cycle_Ended)"
   ]
  },
  {
   "cell_type": "code",
   "execution_count": 7,
   "metadata": {},
   "outputs": [],
   "source": [
    "# Remove the one row with campaign start date missing\n",
    "# and reset the index\n",
    "df=df[~df.Cycle_Started.isnull()]\n",
    "df.reset_index(drop=True, inplace=True)"
   ]
  },
  {
   "cell_type": "code",
   "execution_count": 8,
   "metadata": {},
   "outputs": [],
   "source": [
    "# Drop the columns that we won't be using for graph generation \n",
    "# in order to reduce memory load\n",
    "\n",
    "df.drop(columns=['Unnamed: 0', 'Primary_BSC_ID', 'BusinessSpecialtyID', 'Advertiser_URL', \n",
    "                 'Country','Currency','BusinessSpecialty', 'CPC', 'CTR', 'CPL', 'CTL', \n",
    "                 'Paid_On'], axis=1, inplace=True)\n",
    "df.reset_index(drop=True, inplace=True)"
   ]
  },
  {
   "cell_type": "code",
   "execution_count": 9,
   "metadata": {},
   "outputs": [],
   "source": [
    "#temp=df.dropna(axis=0, subset=['BusinessCategory'])\n",
    "\n",
    "#temp=temp[['BusinessCategory', 'campaign_budget','Cycle_Started','Cycle_Ended']]\n",
    "\n",
    "#bc=df.BusinessCategory.unique()\n",
    "#bc[-1]='Other'"
   ]
  },
  {
   "cell_type": "code",
   "execution_count": 10,
   "metadata": {},
   "outputs": [],
   "source": [
    "def ma(array, window=1):  # Moving average\n",
    "    return np.convolve(array[0], np.ones((1,window))[0]/window, mode='same').reshape(1,array.shape[1])"
   ]
  },
  {
   "cell_type": "code",
   "execution_count": 11,
   "metadata": {},
   "outputs": [],
   "source": [
    "from sklearn.linear_model import LinearRegression\n",
    "mdl=LinearRegression(n_jobs=4)"
   ]
  },
  {
   "cell_type": "code",
   "execution_count": 14,
   "metadata": {},
   "outputs": [],
   "source": [
    "col='BusinessCategory'\n",
    "\n",
    "df[col].fillna('Other', inplace=True)\n",
    "\n",
    "temp=df[[col, 'campaign_budget','Cycle_Started','Cycle_Ended']]\n",
    "\n",
    "names=df[col].unique()\n",
    "row_size=len(names)\n",
    "\n",
    "years=range(2009,2019)\n",
    "col_names=[]\n",
    "for year in years:\n",
    "    for quarter in [1,2,3,4]:\n",
    "        col_names.append(str(year)+'-Q'+str(quarter))\n",
    "\n",
    "\n",
    "my_df=pd.DataFrame(data=np.zeros((row_size,4*len(years))), columns=col_names)\n",
    "\n",
    "my_df.index=sorted(names.tolist())\n",
    "\n",
    "for quarter in range(1,5):\n",
    "    if quarter==1:\n",
    "        start_str='-01-01'\n",
    "        end_str='-03-31'\n",
    "    if quarter==2:\n",
    "        start_str='-04-01'\n",
    "        end_str='-06-30'\n",
    "    if quarter==3:\n",
    "        start_str='-07-01'\n",
    "        end_str='-09-30'\n",
    "    if quarter==4:\n",
    "        start_str='-10-01'\n",
    "        end_str='-12-31'\n",
    "    \n",
    "    for year in years:\n",
    "        start=pd.to_datetime(str(year)+start_str)\n",
    "        end = pd.to_datetime(str(year)+end_str)\n",
    "\n",
    "        temp2=temp[(temp.Cycle_Started >= start) & (temp.Cycle_Ended <= end)]\n",
    "        temp2=temp2.groupby(by=[col]).agg({'campaign_budget':'mean'})\n",
    "       # print(temp2.shape[0])\n",
    "        temp2.sort_values(by=[col], inplace=True)\n",
    "        \n",
    "        my_col=str(year)+'-Q'+str(quarter)\n",
    "        my_df.loc[temp2.index, my_col]=temp2.campaign_budget\n",
    "#######################################################################################\n",
    "\n",
    "#pd.set_option(\"display.max_columns\",100)\n",
    "\n",
    "#my_df\n",
    "\n",
    "#from matplotlib import rc\n",
    "# for i in range(0, len(my_df.index)):\n",
    "#     location=i\n",
    "\n",
    "#     plt.figure(figsize=(12,6))\n",
    "#     plt.cla()\n",
    "#     plt.plot(my_df.columns, my_df.iloc[location,:],'k-o')\n",
    "#     plt.xticks(rotation='vertical');\n",
    "#     plt.tick_params(direction='in', length=10, width=2.5, colors='k',\n",
    "#                                grid_color='k', grid_alpha=1, labelsize=14)\n",
    "#     plt.ylabel('Ave. Budget', fontsize=16)\n",
    "#     plt.title(my_df.index[location], fontsize=16)\n",
    "#     #ax = plt.gca()\n",
    "    \n",
    "#     save_to='../output/BC-2009-2018/'+my_df.index[location].replace(' ', '_').replace('/','')+\".png\"\n",
    "#     plt.savefig(save_to, bbox_inches = 'tight')\n",
    "#     plt.close()\n"
   ]
  },
  {
   "cell_type": "code",
   "execution_count": null,
   "metadata": {},
   "outputs": [],
   "source": [
    "#my_df"
   ]
  },
  {
   "cell_type": "code",
   "execution_count": 23,
   "metadata": {},
   "outputs": [],
   "source": [
    "#for i in range(0, len(my_df.index)):\n",
    "\n",
    "threshold = 0.001\n",
    "ma_window=4\n",
    "\n",
    "seasonal=[]\n",
    "period=[]\n",
    "coefficient=[]\n",
    "for i in range(0, len(my_df.index)):\n",
    "    location=i\n",
    "\n",
    "    time_series=np.array(my_df.iloc[location,:]).reshape(1,-1)\n",
    "    time_series=time_series-ma(time_series, window=ma_window) # Remove the trend\n",
    "\n",
    "        # Next largest power of 2        \n",
    "    nfft=1<<(time_series.shape[1]-1).bit_length()\n",
    "\n",
    "    y=np.fft.fft(time_series, n=nfft)\n",
    "    y=abs(y**2)\n",
    "    y=(y-y.min())\n",
    "    y=y/y.max()\n",
    "\n",
    "    freq_ts=(np.linspace(0,nfft/2,int(nfft/2)) *1/float(nfft))\n",
    "    freq_ts=1/freq_ts\n",
    "    freq_ts=freq_ts[1:]\n",
    "    freq_ts=freq_ts.reshape(-1,1)\n",
    "\n",
    "    y=y[0][1:int(nfft/2)].reshape(1,-1).T\n",
    "\n",
    "    if time_series.shape == (1,1):\n",
    "        coeff=0.0\n",
    "    else:\n",
    "        mdl.fit(freq_ts, y)\n",
    "        coeff=mdl.coef_\n",
    "    \n",
    "    coefficient.append(coeff[0][0])\n",
    "    \n",
    "    if (np.abs(coeff) > threshold):\n",
    "        seasonal.append(1)\n",
    "        period.append( (freq_ts[ np.argmax(y) ])[0] )\n",
    "\n",
    "    else:\n",
    "        seasonal.append(0)\n",
    "        period.append(0)"
   ]
  },
  {
   "cell_type": "code",
   "execution_count": 27,
   "metadata": {},
   "outputs": [
    {
     "data": {
      "text/plain": [
       "array([ 3.44444444,  3.1       ,  3.44444444,  4.76923077,  6.2       ,\n",
       "       12.4       , 12.4       ,  2.81818182, 12.4       ,  3.1       ,\n",
       "        2.21428571,  0.        , 12.4       ,  4.13333333,  0.        ,\n",
       "        3.44444444,  6.2       ,  4.76923077,  2.38461538, 12.4       ,\n",
       "       12.4       ,  3.1       , 12.4       , 12.4       , 12.4       ,\n",
       "        2.38461538,  2.        ,  3.64705882,  6.2       ,  3.1       ,\n",
       "       12.4       ])"
      ]
     },
     "execution_count": 27,
     "metadata": {},
     "output_type": "execute_result"
    }
   ],
   "source": [
    "np.array(period)\n",
    "\n",
    "#period"
   ]
  },
  {
   "cell_type": "code",
   "execution_count": 26,
   "metadata": {},
   "outputs": [
    {
     "data": {
      "text/plain": [
       "array([ 7.76910988e-03,  2.98716245e-03, -3.74605319e-03,  5.64487366e-03,\n",
       "        7.69264717e-03,  3.52386051e-03,  7.30721202e-03, -6.98440359e-03,\n",
       "        6.56270366e-03, -2.51816242e-03, -4.66374204e-03, -9.77980514e-05,\n",
       "        7.58816223e-03,  1.12766900e-03, -6.01955354e-04, -1.77574761e-03,\n",
       "        3.95486640e-03, -2.57428233e-03, -4.77024104e-03,  4.07884811e-03,\n",
       "        5.65477760e-03,  2.53009366e-03,  5.27495546e-03,  5.32783575e-03,\n",
       "        7.84285796e-03, -6.08822553e-03,  3.66528005e-03,  1.51994365e-03,\n",
       "       -1.07636981e-03, -4.35303550e-03,  3.74462927e-03])"
      ]
     },
     "execution_count": 26,
     "metadata": {},
     "output_type": "execute_result"
    }
   ],
   "source": [
    "np.array(coefficient)"
   ]
  },
  {
   "cell_type": "code",
   "execution_count": null,
   "metadata": {},
   "outputs": [],
   "source": [
    "location=20\n",
    "\n",
    "print('Seasonality detected:', seasonal[location])\n",
    "print('Period detected:', period[location])\n",
    "\n",
    "plt.figure(figsize=(12,6))\n",
    "plt.cla()\n",
    "plt.plot(my_df.columns, my_df.iloc[location,:],'k-o')\n",
    "plt.xticks(rotation='vertical');\n",
    "plt.tick_params(direction='in', length=10, width=2.5, colors='k',\n",
    "                           grid_color='k', grid_alpha=1, labelsize=14)\n",
    "plt.ylabel('Ave. Budget', fontsize=16)\n",
    "plt.title(my_df.index[location], fontsize=16);\n",
    "\n",
    "time_series=np.array(my_df.iloc[location,:]).reshape(1,-1)\n",
    "mov_avg=ma(time_series, window=4)\n",
    "time_series=time_series-ma(time_series, window=4)\n",
    "nfft=1<<(time_series.shape[1]-1).bit_length()\n",
    "freq_ts=(np.linspace(0,nfft/2,int(nfft/2)) *1/float(nfft))\n",
    "freq_ts=freq_ts.reshape(1,-1).T\n",
    "\n",
    "\n",
    "# Perform FFT\n",
    "y=np.fft.fft(time_series, n=nfft)\n",
    "y=abs(y**2) # Get the power spectrum\n",
    "\n",
    "# Scale (optional)\n",
    "y=(y-y.min())\n",
    "y=y/y.max()\n",
    "\n",
    "# Reshaping because Python is stupid and doesn't take care of this \n",
    "# automatically. Boy I miss Matlab.\n",
    "y=y[0][0:int(nfft/2)].reshape(1,-1).T\n",
    "\n",
    "plt.figure(figsize=(12,6))\n",
    "plt.cla()\n",
    "plt.plot(my_df.columns,time_series[0],'k-o')\n",
    "plt.xticks(my_df.columns,rotation='vertical');\n",
    "plt.tick_params(direction='in', length=10, width=2.5, colors='k',\n",
    "                           grid_color='k', grid_alpha=1, labelsize=14)\n",
    "plt.grid(b=True, linewidth=0.2)\n",
    "plt.ylabel('Ave. Budget', fontsize=16)\n",
    "plt.title('Time series with trend removed', fontsize=16)\n",
    "\n",
    "\n",
    "plt.figure(figsize=(12,6))\n",
    "plt.cla()\n",
    "plt.plot(my_df.columns,mov_avg[0],'k-o')\n",
    "plt.xticks(my_df.columns,rotation='vertical');\n",
    "plt.tick_params(direction='in', length=10, width=2.5, colors='k',\n",
    "                           grid_color='k', grid_alpha=1, labelsize=14)\n",
    "plt.grid(b=True, linewidth=0.2)\n",
    "plt.ylabel('Ave. Budget', fontsize=16)\n",
    "plt.title('Moving average', fontsize=16)\n",
    "\n",
    "\n",
    "plt.figure(figsize=(12,6))\n",
    "plt.cla()\n",
    "plt.bar(freq_ts.T[0],y.T[0], width=0.01)\n",
    "plt.xticks(ticks=freq_ts.T[0],rotation='vertical');\n",
    "#plt.yscale('log')\n",
    "plt.tick_params(direction='in', length=10, width=2.5, colors='k',\n",
    "                           grid_color='k', grid_alpha=1, labelsize=14)\n",
    "plt.ylabel('Power spectrum', fontsize=16);\n",
    "plt.xlabel('Frequency', fontsize=16);"
   ]
  },
  {
   "cell_type": "code",
   "execution_count": null,
   "metadata": {},
   "outputs": [],
   "source": []
  }
 ],
 "metadata": {
  "kernelspec": {
   "display_name": "Python 3",
   "language": "python",
   "name": "python3"
  },
  "language_info": {
   "codemirror_mode": {
    "name": "ipython",
    "version": 3
   },
   "file_extension": ".py",
   "mimetype": "text/x-python",
   "name": "python",
   "nbconvert_exporter": "python",
   "pygments_lexer": "ipython3",
   "version": "3.7.0"
  }
 },
 "nbformat": 4,
 "nbformat_minor": 2
}
