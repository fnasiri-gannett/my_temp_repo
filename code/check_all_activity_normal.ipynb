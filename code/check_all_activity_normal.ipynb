{
 "cells": [
  {
   "cell_type": "code",
   "execution_count": 1,
   "metadata": {},
   "outputs": [],
   "source": [
    "import pandas as pd\n",
    "import numpy as np\n",
    "import matplotlib.pyplot as plt"
   ]
  },
  {
   "cell_type": "code",
   "execution_count": 2,
   "metadata": {},
   "outputs": [
    {
     "name": "stderr",
     "output_type": "stream",
     "text": [
      "C:\\Users\\FNasiri\\AppData\\Local\\Continuum\\anaconda3\\lib\\site-packages\\IPython\\core\\interactiveshell.py:2785: DtypeWarning: Columns (43) have mixed types. Specify dtype option on import or set low_memory=False.\n",
      "  interactivity=interactivity, compiler=compiler, result=result)\n"
     ]
    }
   ],
   "source": [
    "df=pd.read_csv('../data/all_activity_normalApr18.csv')"
   ]
  },
  {
   "cell_type": "code",
   "execution_count": 16,
   "metadata": {},
   "outputs": [
    {
     "data": {
      "text/plain": [
       "Index(['Unnamed: 0', 'idcampaign', 'idcampaign_master', 'idOffer',\n",
       "       'Offer_Name', 'Finance_Product', 'idadvertiser', 'idadvertiser_master',\n",
       "       'Advertiser_URL', 'idBusiness', 'Channel', 'Country', 'Currency',\n",
       "       'campaign_budget', 'Retail_Cost', 'COGS', 'Overage', 'impressions',\n",
       "       'clicks', 'CVTs', 'qualified_calls', 'calls', 'emails',\n",
       "       'qualified_web_events', 'Leads', 'CPC', 'CTR', 'CPL', 'CTL', 'Paid_On',\n",
       "       'Cycle_Started', 'Cycle_Ended', 'MCID_Started', 'Cycle_Number',\n",
       "       'Advertiser_BC_ID', 'Advertiser_BusinessCategory', 'Advertiser_BSC_ID',\n",
       "       'Advertiser_BusinessSubCategory', 'BC_ID', 'BusinessCategory',\n",
       "       'Primary_BSC_ID', 'Primary_BusinessSubCategory', 'Secondary_BSC_Count',\n",
       "       'Secondary_BSC_IDs', 'Seconardy_BSCs', 'BusinessSpecialtyID',\n",
       "       'BusinessSpecialty', 'TargetType', 'Radius_Target_Address',\n",
       "       'Radius_Target_Miles', 'Cities_Targetd', 'DMAs_Targeted',\n",
       "       'Population_Target', 'ratio', 'ratio_cat'],\n",
       "      dtype='object')"
      ]
     },
     "execution_count": 16,
     "metadata": {},
     "output_type": "execute_result"
    }
   ],
   "source": [
    "df.columns"
   ]
  },
  {
   "cell_type": "code",
   "execution_count": 4,
   "metadata": {},
   "outputs": [
    {
     "data": {
      "text/plain": [
       "(1232549, 55)"
      ]
     },
     "execution_count": 4,
     "metadata": {},
     "output_type": "execute_result"
    }
   ],
   "source": [
    "df.shape"
   ]
  },
  {
   "cell_type": "code",
   "execution_count": 5,
   "metadata": {
    "collapsed": true
   },
   "outputs": [
    {
     "data": {
      "text/plain": [
       "Unnamed: 0                          int64\n",
       "idcampaign                          int64\n",
       "idcampaign_master                   int64\n",
       "idOffer                             int64\n",
       "Offer_Name                         object\n",
       "Finance_Product                    object\n",
       "idadvertiser                        int64\n",
       "idadvertiser_master                 int64\n",
       "Advertiser_URL                     object\n",
       "idBusiness                          int64\n",
       "Channel                            object\n",
       "Country                            object\n",
       "Currency                           object\n",
       "campaign_budget                   float64\n",
       "Retail_Cost                       float64\n",
       "COGS                              float64\n",
       "Overage                           float64\n",
       "impressions                         int64\n",
       "clicks                              int64\n",
       "CVTs                                int64\n",
       "qualified_calls                     int64\n",
       "calls                               int64\n",
       "emails                              int64\n",
       "qualified_web_events                int64\n",
       "Leads                               int64\n",
       "CPC                               float64\n",
       "CTR                               float64\n",
       "CPL                               float64\n",
       "CTL                               float64\n",
       "Paid_On                            object\n",
       "Cycle_Started                      object\n",
       "Cycle_Ended                        object\n",
       "MCID_Started                       object\n",
       "Cycle_Number                        int64\n",
       "Advertiser_BC_ID                    int64\n",
       "Advertiser_BusinessCategory        object\n",
       "Advertiser_BSC_ID                   int64\n",
       "Advertiser_BusinessSubCategory     object\n",
       "BC_ID                               int64\n",
       "BusinessCategory                   object\n",
       "Primary_BSC_ID                    float64\n",
       "Primary_BusinessSubCategory        object\n",
       "Secondary_BSC_Count                 int64\n",
       "Secondary_BSC_IDs                  object\n",
       "Seconardy_BSCs                     object\n",
       "BusinessSpecialtyID               float64\n",
       "BusinessSpecialty                  object\n",
       "TargetType                         object\n",
       "Radius_Target_Address              object\n",
       "Radius_Target_Miles               float64\n",
       "Cities_Targetd                     object\n",
       "DMAs_Targeted                      object\n",
       "Population_Target                 float64\n",
       "ratio                             float64\n",
       "ratio_cat                          object\n",
       "dtype: object"
      ]
     },
     "execution_count": 5,
     "metadata": {},
     "output_type": "execute_result"
    }
   ],
   "source": [
    "df.dtypes"
   ]
  },
  {
   "cell_type": "code",
   "execution_count": 11,
   "metadata": {},
   "outputs": [
    {
     "data": {
      "text/html": [
       "<div>\n",
       "<style scoped>\n",
       "    .dataframe tbody tr th:only-of-type {\n",
       "        vertical-align: middle;\n",
       "    }\n",
       "\n",
       "    .dataframe tbody tr th {\n",
       "        vertical-align: top;\n",
       "    }\n",
       "\n",
       "    .dataframe thead th {\n",
       "        text-align: right;\n",
       "    }\n",
       "</style>\n",
       "<table border=\"1\" class=\"dataframe\">\n",
       "  <thead>\n",
       "    <tr style=\"text-align: right;\">\n",
       "      <th></th>\n",
       "      <th>Unnamed: 0</th>\n",
       "      <th>idcampaign</th>\n",
       "      <th>idcampaign_master</th>\n",
       "      <th>idOffer</th>\n",
       "      <th>Offer_Name</th>\n",
       "      <th>Finance_Product</th>\n",
       "      <th>idadvertiser</th>\n",
       "      <th>idadvertiser_master</th>\n",
       "      <th>Advertiser_URL</th>\n",
       "      <th>idBusiness</th>\n",
       "      <th>...</th>\n",
       "      <th>BusinessSpecialtyID</th>\n",
       "      <th>BusinessSpecialty</th>\n",
       "      <th>TargetType</th>\n",
       "      <th>Radius_Target_Address</th>\n",
       "      <th>Radius_Target_Miles</th>\n",
       "      <th>Cities_Targetd</th>\n",
       "      <th>DMAs_Targeted</th>\n",
       "      <th>Population_Target</th>\n",
       "      <th>ratio</th>\n",
       "      <th>ratio_cat</th>\n",
       "    </tr>\n",
       "  </thead>\n",
       "  <tbody>\n",
       "    <tr>\n",
       "      <th>578715</th>\n",
       "      <td>699396</td>\n",
       "      <td>1718541</td>\n",
       "      <td>930447</td>\n",
       "      <td>1</td>\n",
       "      <td>Search Engine Marketing</td>\n",
       "      <td>Search</td>\n",
       "      <td>170054</td>\n",
       "      <td>119632</td>\n",
       "      <td>NaN</td>\n",
       "      <td>2918</td>\n",
       "      <td>...</td>\n",
       "      <td>42585.0</td>\n",
       "      <td>Conference Tables</td>\n",
       "      <td>Radius</td>\n",
       "      <td>1 Terminal Dr</td>\n",
       "      <td>30.0</td>\n",
       "      <td>Antioch; Ashland City; Brentwood; Cottontown; ...</td>\n",
       "      <td>Nashville</td>\n",
       "      <td>1211208.0</td>\n",
       "      <td>1.002241</td>\n",
       "      <td>100-110%</td>\n",
       "    </tr>\n",
       "    <tr>\n",
       "      <th>594058</th>\n",
       "      <td>716562</td>\n",
       "      <td>1737033</td>\n",
       "      <td>930447</td>\n",
       "      <td>1</td>\n",
       "      <td>Search Engine Marketing</td>\n",
       "      <td>Search</td>\n",
       "      <td>170054</td>\n",
       "      <td>119632</td>\n",
       "      <td>NaN</td>\n",
       "      <td>2918</td>\n",
       "      <td>...</td>\n",
       "      <td>42585.0</td>\n",
       "      <td>Conference Tables</td>\n",
       "      <td>Radius</td>\n",
       "      <td>1 Terminal Dr</td>\n",
       "      <td>30.0</td>\n",
       "      <td>Antioch; Ashland City; Brentwood; Cottontown; ...</td>\n",
       "      <td>Nashville</td>\n",
       "      <td>1211208.0</td>\n",
       "      <td>1.000000</td>\n",
       "      <td>90-100%</td>\n",
       "    </tr>\n",
       "    <tr>\n",
       "      <th>607501</th>\n",
       "      <td>732020</td>\n",
       "      <td>1753456</td>\n",
       "      <td>930447</td>\n",
       "      <td>1</td>\n",
       "      <td>Search Engine Marketing</td>\n",
       "      <td>Search</td>\n",
       "      <td>170054</td>\n",
       "      <td>119632</td>\n",
       "      <td>NaN</td>\n",
       "      <td>2918</td>\n",
       "      <td>...</td>\n",
       "      <td>42585.0</td>\n",
       "      <td>Conference Tables</td>\n",
       "      <td>Radius</td>\n",
       "      <td>1 Terminal Dr</td>\n",
       "      <td>30.0</td>\n",
       "      <td>Antioch; Ashland City; Brentwood; Cottontown; ...</td>\n",
       "      <td>Nashville</td>\n",
       "      <td>1211208.0</td>\n",
       "      <td>1.073684</td>\n",
       "      <td>100-110%</td>\n",
       "    </tr>\n",
       "    <tr>\n",
       "      <th>619498</th>\n",
       "      <td>745757</td>\n",
       "      <td>1768058</td>\n",
       "      <td>930447</td>\n",
       "      <td>1</td>\n",
       "      <td>Search Engine Marketing</td>\n",
       "      <td>Search</td>\n",
       "      <td>170054</td>\n",
       "      <td>119632</td>\n",
       "      <td>NaN</td>\n",
       "      <td>2918</td>\n",
       "      <td>...</td>\n",
       "      <td>42585.0</td>\n",
       "      <td>Conference Tables</td>\n",
       "      <td>Radius</td>\n",
       "      <td>1 Terminal Dr</td>\n",
       "      <td>30.0</td>\n",
       "      <td>Antioch; Ashland City; Brentwood; Cottontown; ...</td>\n",
       "      <td>Nashville</td>\n",
       "      <td>1211208.0</td>\n",
       "      <td>1.000000</td>\n",
       "      <td>90-100%</td>\n",
       "    </tr>\n",
       "    <tr>\n",
       "      <th>631435</th>\n",
       "      <td>759476</td>\n",
       "      <td>1782805</td>\n",
       "      <td>930447</td>\n",
       "      <td>1</td>\n",
       "      <td>Search Engine Marketing</td>\n",
       "      <td>Search</td>\n",
       "      <td>170054</td>\n",
       "      <td>119632</td>\n",
       "      <td>NaN</td>\n",
       "      <td>2918</td>\n",
       "      <td>...</td>\n",
       "      <td>42585.0</td>\n",
       "      <td>Conference Tables</td>\n",
       "      <td>Radius</td>\n",
       "      <td>1 Terminal Dr</td>\n",
       "      <td>30.0</td>\n",
       "      <td>Antioch; Ashland City; Brentwood; Cottontown; ...</td>\n",
       "      <td>Nashville</td>\n",
       "      <td>1211208.0</td>\n",
       "      <td>0.985386</td>\n",
       "      <td>90-100%</td>\n",
       "    </tr>\n",
       "    <tr>\n",
       "      <th>644575</th>\n",
       "      <td>774527</td>\n",
       "      <td>1799056</td>\n",
       "      <td>930447</td>\n",
       "      <td>1</td>\n",
       "      <td>Search Engine Marketing</td>\n",
       "      <td>Search</td>\n",
       "      <td>170054</td>\n",
       "      <td>119632</td>\n",
       "      <td>NaN</td>\n",
       "      <td>2918</td>\n",
       "      <td>...</td>\n",
       "      <td>42585.0</td>\n",
       "      <td>Conference Tables</td>\n",
       "      <td>Radius</td>\n",
       "      <td>1 Terminal Dr</td>\n",
       "      <td>30.0</td>\n",
       "      <td>Antioch; Ashland City; Brentwood; Cottontown; ...</td>\n",
       "      <td>Nashville</td>\n",
       "      <td>1211208.0</td>\n",
       "      <td>1.000000</td>\n",
       "      <td>90-100%</td>\n",
       "    </tr>\n",
       "    <tr>\n",
       "      <th>656460</th>\n",
       "      <td>788089</td>\n",
       "      <td>1813639</td>\n",
       "      <td>930447</td>\n",
       "      <td>1</td>\n",
       "      <td>Search Engine Marketing</td>\n",
       "      <td>Search</td>\n",
       "      <td>170054</td>\n",
       "      <td>119632</td>\n",
       "      <td>NaN</td>\n",
       "      <td>2918</td>\n",
       "      <td>...</td>\n",
       "      <td>42585.0</td>\n",
       "      <td>Conference Tables</td>\n",
       "      <td>Radius</td>\n",
       "      <td>1 Terminal Dr</td>\n",
       "      <td>30.0</td>\n",
       "      <td>Antioch; Ashland City; Brentwood; Cottontown; ...</td>\n",
       "      <td>Nashville</td>\n",
       "      <td>1211208.0</td>\n",
       "      <td>0.989418</td>\n",
       "      <td>90-100%</td>\n",
       "    </tr>\n",
       "    <tr>\n",
       "      <th>669607</th>\n",
       "      <td>803224</td>\n",
       "      <td>1829967</td>\n",
       "      <td>930447</td>\n",
       "      <td>1</td>\n",
       "      <td>Search Engine Marketing</td>\n",
       "      <td>Search</td>\n",
       "      <td>170054</td>\n",
       "      <td>119632</td>\n",
       "      <td>NaN</td>\n",
       "      <td>2918</td>\n",
       "      <td>...</td>\n",
       "      <td>42585.0</td>\n",
       "      <td>Conference Tables</td>\n",
       "      <td>Radius</td>\n",
       "      <td>1 Terminal Dr</td>\n",
       "      <td>30.0</td>\n",
       "      <td>Antioch; Ashland City; Brentwood; Cottontown; ...</td>\n",
       "      <td>Nashville</td>\n",
       "      <td>1211208.0</td>\n",
       "      <td>0.994038</td>\n",
       "      <td>90-100%</td>\n",
       "    </tr>\n",
       "    <tr>\n",
       "      <th>683686</th>\n",
       "      <td>819339</td>\n",
       "      <td>1847532</td>\n",
       "      <td>930447</td>\n",
       "      <td>1</td>\n",
       "      <td>Search Engine Marketing</td>\n",
       "      <td>Search</td>\n",
       "      <td>170054</td>\n",
       "      <td>119632</td>\n",
       "      <td>NaN</td>\n",
       "      <td>2918</td>\n",
       "      <td>...</td>\n",
       "      <td>42585.0</td>\n",
       "      <td>Conference Tables</td>\n",
       "      <td>Radius</td>\n",
       "      <td>1 Terminal Dr</td>\n",
       "      <td>30.0</td>\n",
       "      <td>Antioch; Ashland City; Brentwood; Cottontown; ...</td>\n",
       "      <td>Nashville</td>\n",
       "      <td>1211208.0</td>\n",
       "      <td>1.000000</td>\n",
       "      <td>90-100%</td>\n",
       "    </tr>\n",
       "    <tr>\n",
       "      <th>696140</th>\n",
       "      <td>833442</td>\n",
       "      <td>1862565</td>\n",
       "      <td>930447</td>\n",
       "      <td>1</td>\n",
       "      <td>Search Engine Marketing</td>\n",
       "      <td>Search</td>\n",
       "      <td>170054</td>\n",
       "      <td>119632</td>\n",
       "      <td>NaN</td>\n",
       "      <td>2918</td>\n",
       "      <td>...</td>\n",
       "      <td>42585.0</td>\n",
       "      <td>Conference Tables</td>\n",
       "      <td>Radius</td>\n",
       "      <td>1 Terminal Dr</td>\n",
       "      <td>30.0</td>\n",
       "      <td>Antioch; Ashland City; Brentwood; Cottontown; ...</td>\n",
       "      <td>Nashville</td>\n",
       "      <td>1211208.0</td>\n",
       "      <td>1.018778</td>\n",
       "      <td>100-110%</td>\n",
       "    </tr>\n",
       "    <tr>\n",
       "      <th>708458</th>\n",
       "      <td>847478</td>\n",
       "      <td>1877486</td>\n",
       "      <td>930447</td>\n",
       "      <td>1</td>\n",
       "      <td>Search Engine Marketing</td>\n",
       "      <td>Search</td>\n",
       "      <td>170054</td>\n",
       "      <td>119632</td>\n",
       "      <td>NaN</td>\n",
       "      <td>2918</td>\n",
       "      <td>...</td>\n",
       "      <td>42585.0</td>\n",
       "      <td>Conference Tables</td>\n",
       "      <td>Radius</td>\n",
       "      <td>1 Terminal Dr</td>\n",
       "      <td>30.0</td>\n",
       "      <td>Antioch; Ashland City; Brentwood; Cottontown; ...</td>\n",
       "      <td>Nashville</td>\n",
       "      <td>1211208.0</td>\n",
       "      <td>0.999778</td>\n",
       "      <td>90-100%</td>\n",
       "    </tr>\n",
       "  </tbody>\n",
       "</table>\n",
       "<p>11 rows × 55 columns</p>\n",
       "</div>"
      ],
      "text/plain": [
       "        Unnamed: 0  idcampaign  idcampaign_master  idOffer  \\\n",
       "578715      699396     1718541             930447        1   \n",
       "594058      716562     1737033             930447        1   \n",
       "607501      732020     1753456             930447        1   \n",
       "619498      745757     1768058             930447        1   \n",
       "631435      759476     1782805             930447        1   \n",
       "644575      774527     1799056             930447        1   \n",
       "656460      788089     1813639             930447        1   \n",
       "669607      803224     1829967             930447        1   \n",
       "683686      819339     1847532             930447        1   \n",
       "696140      833442     1862565             930447        1   \n",
       "708458      847478     1877486             930447        1   \n",
       "\n",
       "                     Offer_Name Finance_Product  idadvertiser  \\\n",
       "578715  Search Engine Marketing          Search        170054   \n",
       "594058  Search Engine Marketing          Search        170054   \n",
       "607501  Search Engine Marketing          Search        170054   \n",
       "619498  Search Engine Marketing          Search        170054   \n",
       "631435  Search Engine Marketing          Search        170054   \n",
       "644575  Search Engine Marketing          Search        170054   \n",
       "656460  Search Engine Marketing          Search        170054   \n",
       "669607  Search Engine Marketing          Search        170054   \n",
       "683686  Search Engine Marketing          Search        170054   \n",
       "696140  Search Engine Marketing          Search        170054   \n",
       "708458  Search Engine Marketing          Search        170054   \n",
       "\n",
       "        idadvertiser_master Advertiser_URL  idBusiness    ...      \\\n",
       "578715               119632            NaN        2918    ...       \n",
       "594058               119632            NaN        2918    ...       \n",
       "607501               119632            NaN        2918    ...       \n",
       "619498               119632            NaN        2918    ...       \n",
       "631435               119632            NaN        2918    ...       \n",
       "644575               119632            NaN        2918    ...       \n",
       "656460               119632            NaN        2918    ...       \n",
       "669607               119632            NaN        2918    ...       \n",
       "683686               119632            NaN        2918    ...       \n",
       "696140               119632            NaN        2918    ...       \n",
       "708458               119632            NaN        2918    ...       \n",
       "\n",
       "       BusinessSpecialtyID  BusinessSpecialty TargetType  \\\n",
       "578715             42585.0  Conference Tables     Radius   \n",
       "594058             42585.0  Conference Tables     Radius   \n",
       "607501             42585.0  Conference Tables     Radius   \n",
       "619498             42585.0  Conference Tables     Radius   \n",
       "631435             42585.0  Conference Tables     Radius   \n",
       "644575             42585.0  Conference Tables     Radius   \n",
       "656460             42585.0  Conference Tables     Radius   \n",
       "669607             42585.0  Conference Tables     Radius   \n",
       "683686             42585.0  Conference Tables     Radius   \n",
       "696140             42585.0  Conference Tables     Radius   \n",
       "708458             42585.0  Conference Tables     Radius   \n",
       "\n",
       "        Radius_Target_Address  Radius_Target_Miles  \\\n",
       "578715          1 Terminal Dr                 30.0   \n",
       "594058          1 Terminal Dr                 30.0   \n",
       "607501          1 Terminal Dr                 30.0   \n",
       "619498          1 Terminal Dr                 30.0   \n",
       "631435          1 Terminal Dr                 30.0   \n",
       "644575          1 Terminal Dr                 30.0   \n",
       "656460          1 Terminal Dr                 30.0   \n",
       "669607          1 Terminal Dr                 30.0   \n",
       "683686          1 Terminal Dr                 30.0   \n",
       "696140          1 Terminal Dr                 30.0   \n",
       "708458          1 Terminal Dr                 30.0   \n",
       "\n",
       "                                           Cities_Targetd  DMAs_Targeted  \\\n",
       "578715  Antioch; Ashland City; Brentwood; Cottontown; ...      Nashville   \n",
       "594058  Antioch; Ashland City; Brentwood; Cottontown; ...      Nashville   \n",
       "607501  Antioch; Ashland City; Brentwood; Cottontown; ...      Nashville   \n",
       "619498  Antioch; Ashland City; Brentwood; Cottontown; ...      Nashville   \n",
       "631435  Antioch; Ashland City; Brentwood; Cottontown; ...      Nashville   \n",
       "644575  Antioch; Ashland City; Brentwood; Cottontown; ...      Nashville   \n",
       "656460  Antioch; Ashland City; Brentwood; Cottontown; ...      Nashville   \n",
       "669607  Antioch; Ashland City; Brentwood; Cottontown; ...      Nashville   \n",
       "683686  Antioch; Ashland City; Brentwood; Cottontown; ...      Nashville   \n",
       "696140  Antioch; Ashland City; Brentwood; Cottontown; ...      Nashville   \n",
       "708458  Antioch; Ashland City; Brentwood; Cottontown; ...      Nashville   \n",
       "\n",
       "        Population_Target     ratio  ratio_cat  \n",
       "578715          1211208.0  1.002241   100-110%  \n",
       "594058          1211208.0  1.000000    90-100%  \n",
       "607501          1211208.0  1.073684   100-110%  \n",
       "619498          1211208.0  1.000000    90-100%  \n",
       "631435          1211208.0  0.985386    90-100%  \n",
       "644575          1211208.0  1.000000    90-100%  \n",
       "656460          1211208.0  0.989418    90-100%  \n",
       "669607          1211208.0  0.994038    90-100%  \n",
       "683686          1211208.0  1.000000    90-100%  \n",
       "696140          1211208.0  1.018778   100-110%  \n",
       "708458          1211208.0  0.999778    90-100%  \n",
       "\n",
       "[11 rows x 55 columns]"
      ]
     },
     "execution_count": 11,
     "metadata": {},
     "output_type": "execute_result"
    }
   ],
   "source": [
    "df[pd.isnull(df.Country)]"
   ]
  },
  {
   "cell_type": "code",
   "execution_count": 12,
   "metadata": {},
   "outputs": [],
   "source": [
    "df['Country']=df.Country.fillna(value='USA')"
   ]
  },
  {
   "cell_type": "code",
   "execution_count": 14,
   "metadata": {},
   "outputs": [],
   "source": [
    "df=df[df.Country=='USA']"
   ]
  },
  {
   "cell_type": "code",
   "execution_count": 17,
   "metadata": {},
   "outputs": [
    {
     "data": {
      "text/plain": [
       "array(['USD', nan], dtype=object)"
      ]
     },
     "execution_count": 17,
     "metadata": {},
     "output_type": "execute_result"
    }
   ],
   "source": [
    "df.Currency.unique()"
   ]
  },
  {
   "cell_type": "code",
   "execution_count": 18,
   "metadata": {},
   "outputs": [
    {
     "data": {
      "text/plain": [
       "Unnamed: 0                             0\n",
       "idcampaign                             0\n",
       "idcampaign_master                      0\n",
       "idOffer                                0\n",
       "Offer_Name                            84\n",
       "Finance_Product                       84\n",
       "idadvertiser                           0\n",
       "idadvertiser_master                    0\n",
       "Advertiser_URL                     38344\n",
       "idBusiness                             0\n",
       "Channel                               11\n",
       "Country                                0\n",
       "Currency                              11\n",
       "campaign_budget                        0\n",
       "Retail_Cost                            0\n",
       "COGS                                   0\n",
       "Overage                                0\n",
       "impressions                            0\n",
       "clicks                                 0\n",
       "CVTs                                   0\n",
       "qualified_calls                        0\n",
       "calls                                  0\n",
       "emails                                 0\n",
       "qualified_web_events                   0\n",
       "Leads                                  0\n",
       "CPC                               170385\n",
       "CTR                               183228\n",
       "CPL                               163402\n",
       "CTL                               163402\n",
       "Paid_On                                1\n",
       "Cycle_Started                          0\n",
       "Cycle_Ended                            0\n",
       "MCID_Started                           0\n",
       "Cycle_Number                           0\n",
       "Advertiser_BC_ID                       0\n",
       "Advertiser_BusinessCategory           11\n",
       "Advertiser_BSC_ID                      0\n",
       "Advertiser_BusinessSubCategory       544\n",
       "BC_ID                                  0\n",
       "BusinessCategory                       0\n",
       "Primary_BSC_ID                        76\n",
       "Primary_BusinessSubCategory           76\n",
       "Secondary_BSC_Count                    0\n",
       "Secondary_BSC_IDs                 732152\n",
       "Seconardy_BSCs                    732152\n",
       "BusinessSpecialtyID               509836\n",
       "BusinessSpecialty                 509836\n",
       "TargetType                             0\n",
       "Radius_Target_Address             340201\n",
       "Radius_Target_Miles               339960\n",
       "Cities_Targetd                    281001\n",
       "DMAs_Targeted                      35783\n",
       "Population_Target                   2883\n",
       "ratio                                  0\n",
       "ratio_cat                              0\n",
       "dtype: int64"
      ]
     },
     "execution_count": 18,
     "metadata": {},
     "output_type": "execute_result"
    }
   ],
   "source": [
    "df.isnull().sum()"
   ]
  },
  {
   "cell_type": "code",
   "execution_count": 19,
   "metadata": {},
   "outputs": [
    {
     "data": {
      "text/plain": [
       "dtype('O')"
      ]
     },
     "execution_count": 19,
     "metadata": {},
     "output_type": "execute_result"
    }
   ],
   "source": [
    "df.Cycle_Started.dtypes"
   ]
  },
  {
   "cell_type": "code",
   "execution_count": 20,
   "metadata": {},
   "outputs": [],
   "source": [
    "df['Cycle_Started']=pd.to_datetime(df.Cycle_Started)"
   ]
  },
  {
   "cell_type": "code",
   "execution_count": 28,
   "metadata": {},
   "outputs": [
    {
     "data": {
      "text/plain": [
       "Timestamp('2009-10-22 00:00:00')"
      ]
     },
     "execution_count": 28,
     "metadata": {},
     "output_type": "execute_result"
    }
   ],
   "source": [
    "df.Cycle_Started.min()"
   ]
  },
  {
   "cell_type": "code",
   "execution_count": 29,
   "metadata": {},
   "outputs": [],
   "source": [
    "df['Cycle_Ended']=pd.to_datetime(df.Cycle_Ended)"
   ]
  },
  {
   "cell_type": "code",
   "execution_count": 37,
   "metadata": {},
   "outputs": [],
   "source": [
    "df=df[(df.Cycle_Started >= pd.to_datetime('2014-01-01')) & (df.Cycle_Started <= pd.to_datetime('2017-12-31'))]"
   ]
  },
  {
   "cell_type": "code",
   "execution_count": 38,
   "metadata": {},
   "outputs": [
    {
     "data": {
      "text/plain": [
       "(765312, 55)"
      ]
     },
     "execution_count": 38,
     "metadata": {},
     "output_type": "execute_result"
    }
   ],
   "source": [
    "df.shape"
   ]
  },
  {
   "cell_type": "code",
   "execution_count": 44,
   "metadata": {},
   "outputs": [],
   "source": [
    "df.drop(columns=['Unnamed: 0'], axis=1, inplace=True)"
   ]
  },
  {
   "cell_type": "code",
   "execution_count": 45,
   "metadata": {},
   "outputs": [
    {
     "data": {
      "text/plain": [
       "765312"
      ]
     },
     "execution_count": 45,
     "metadata": {},
     "output_type": "execute_result"
    }
   ],
   "source": [
    "df.idcampaign.nunique()"
   ]
  },
  {
   "cell_type": "code",
   "execution_count": 46,
   "metadata": {},
   "outputs": [],
   "source": [
    "df_rolled_up=pd.read_csv('../data/rolled_up_keri_2014_2017.csv')"
   ]
  },
  {
   "cell_type": "code",
   "execution_count": 48,
   "metadata": {},
   "outputs": [
    {
     "data": {
      "text/plain": [
       "44394"
      ]
     },
     "execution_count": 48,
     "metadata": {},
     "output_type": "execute_result"
    }
   ],
   "source": [
    "df.idcampaign.nunique()-df_rolled_up.idcampaign_varchar.nunique()"
   ]
  },
  {
   "cell_type": "code",
   "execution_count": null,
   "metadata": {},
   "outputs": [],
   "source": []
  }
 ],
 "metadata": {
  "kernelspec": {
   "display_name": "Python 3",
   "language": "python",
   "name": "python3"
  },
  "language_info": {
   "codemirror_mode": {
    "name": "ipython",
    "version": 3
   },
   "file_extension": ".py",
   "mimetype": "text/x-python",
   "name": "python",
   "nbconvert_exporter": "python",
   "pygments_lexer": "ipython3",
   "version": "3.7.0"
  }
 },
 "nbformat": 4,
 "nbformat_minor": 2
}
