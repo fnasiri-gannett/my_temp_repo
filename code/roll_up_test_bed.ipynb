{
 "cells": [
  {
   "cell_type": "code",
   "execution_count": 1,
   "metadata": {},
   "outputs": [],
   "source": [
    "import pandas as pd\n",
    "import numpy as np\n",
    "import matplotlib.pyplot as plt\n",
    "import sys\n",
    "import os\n",
    "import seaborn as sns\n",
    "import concurrent.futures"
   ]
  },
  {
   "cell_type": "code",
   "execution_count": 8,
   "metadata": {},
   "outputs": [],
   "source": [
    "#df=pd.read_csv(\"../data/keri_churn_data_tidy.csv\")"
   ]
  },
  {
   "cell_type": "code",
   "execution_count": 9,
   "metadata": {},
   "outputs": [],
   "source": [
    "#df.columns"
   ]
  },
  {
   "cell_type": "code",
   "execution_count": 4,
   "metadata": {},
   "outputs": [],
   "source": [
    "#df=df[(df.csr_year_varchar >=2014) & (df.csr_year_varchar<=2017)]"
   ]
  },
  {
   "cell_type": "code",
   "execution_count": 7,
   "metadata": {},
   "outputs": [],
   "source": [
    "#df.to_csv('../data/keri_2014_2017.csv', index=False)"
   ]
  },
  {
   "cell_type": "code",
   "execution_count": 2,
   "metadata": {},
   "outputs": [],
   "source": [
    "df=pd.read_csv(\"../data/keri_2014_2017.csv\")"
   ]
  },
  {
   "cell_type": "code",
   "execution_count": 4,
   "metadata": {},
   "outputs": [
    {
     "data": {
      "text/plain": [
       "(1487205, 29)"
      ]
     },
     "execution_count": 4,
     "metadata": {},
     "output_type": "execute_result"
    }
   ],
   "source": [
    "df.shape"
   ]
  },
  {
   "cell_type": "code",
   "execution_count": 5,
   "metadata": {},
   "outputs": [
    {
     "data": {
      "text/plain": [
       "Index(['csr_year_varchar', 'csr_month_varchar', 'idcampaign_master_varchar',\n",
       "       'idcampaign_varchar', 'idadvertiser_varchar', 'advertiser_name_varchar',\n",
       "       'advertiser_city_varchar', 'advertiser_state_varchar',\n",
       "       'advertiser_zipcode_varchar', 'idbusinesscategory_varchar',\n",
       "       'business_category_varchar', 'idbusinesssubcategory_varchar',\n",
       "       'business_subcategory_varchar', 'idoffer_varchar', 'product_varchar',\n",
       "       'stop_request_varchar', 'adv_change_type_varchar',\n",
       "       'campaign_budget_varchar', 'spend_varchar', 'clicks_varchar',\n",
       "       'impressions_varchar', 'calls_varchar', 'qualified_calls_varchar',\n",
       "       'emails_varchar', 'cvt_varchar', 'qualified_web_events_varchar',\n",
       "       'businessuser_varchar', 'system_varchar', 'advtrans_varchar'],\n",
       "      dtype='object')"
      ]
     },
     "execution_count": 5,
     "metadata": {},
     "output_type": "execute_result"
    }
   ],
   "source": [
    "df.columns"
   ]
  },
  {
   "cell_type": "code",
   "execution_count": 8,
   "metadata": {},
   "outputs": [],
   "source": [
    "act_header=pd.read_csv('../data/us_CID_activity_2014_2017.csv', nrows=1) # Read the data"
   ]
  },
  {
   "cell_type": "code",
   "execution_count": 10,
   "metadata": {},
   "outputs": [],
   "source": [
    "act_header=act_header.columns"
   ]
  },
  {
   "cell_type": "code",
   "execution_count": 26,
   "metadata": {},
   "outputs": [],
   "source": [
    "#act_header"
   ]
  },
  {
   "cell_type": "code",
   "execution_count": 3,
   "metadata": {},
   "outputs": [],
   "source": [
    "df.drop(columns=['advertiser_name_varchar','idbusinesscategory_varchar',\n",
    "                'business_category_varchar','idbusinesssubcategory_varchar',\n",
    "                'business_subcategory_varchar', 'idoffer_varchar', 'spend_varchar'],\n",
    "       axis=1, inplace=True)"
   ]
  },
  {
   "cell_type": "code",
   "execution_count": 20,
   "metadata": {},
   "outputs": [],
   "source": [
    "#df=df[~(df.campaign_budget_varchar==0)]\n"
   ]
  },
  {
   "cell_type": "code",
   "execution_count": 21,
   "metadata": {},
   "outputs": [],
   "source": [
    "#df.drop(columns=['campaign_budget_varchar'], axis=1, inplace=True)"
   ]
  },
  {
   "cell_type": "code",
   "execution_count": 27,
   "metadata": {},
   "outputs": [],
   "source": [
    "df.drop(columns=['csr_year_varchar','csr_month_varchar'], axis=1, inplace=True)"
   ]
  },
  {
   "cell_type": "code",
   "execution_count": 23,
   "metadata": {},
   "outputs": [
    {
     "data": {
      "text/plain": [
       "(1487205, 21)"
      ]
     },
     "execution_count": 23,
     "metadata": {},
     "output_type": "execute_result"
    }
   ],
   "source": [
    "df.shape"
   ]
  },
  {
   "cell_type": "code",
   "execution_count": 36,
   "metadata": {},
   "outputs": [],
   "source": [
    "test = df.loc[:1000, ['idcampaign_master_varchar','idcampaign_varchar', 'clicks_varchar', 'calls_varchar' ]]"
   ]
  },
  {
   "cell_type": "code",
   "execution_count": 38,
   "metadata": {},
   "outputs": [
    {
     "data": {
      "text/plain": [
       "20"
      ]
     },
     "execution_count": 38,
     "metadata": {},
     "output_type": "execute_result"
    }
   ],
   "source": [
    "test.idcampaign_master_varchar.nunique()"
   ]
  },
  {
   "cell_type": "code",
   "execution_count": 39,
   "metadata": {},
   "outputs": [
    {
     "data": {
      "text/plain": [
       "526"
      ]
     },
     "execution_count": 39,
     "metadata": {},
     "output_type": "execute_result"
    }
   ],
   "source": [
    "test.idcampaign_varchar.nunique()"
   ]
  },
  {
   "cell_type": "code",
   "execution_count": 47,
   "metadata": {},
   "outputs": [],
   "source": [
    "df.drop(['adv_change_type_varchar'], axis=1, inplace=True)"
   ]
  },
  {
   "cell_type": "code",
   "execution_count": 44,
   "metadata": {},
   "outputs": [
    {
     "data": {
      "text/plain": [
       "Index(['idcampaign_master_varchar', 'idcampaign_varchar',\n",
       "       'idadvertiser_varchar', 'advertiser_city_varchar',\n",
       "       'advertiser_state_varchar', 'advertiser_zipcode_varchar',\n",
       "       'product_varchar', 'stop_request_varchar', 'adv_change_type_varchar',\n",
       "       'clicks_varchar', 'impressions_varchar', 'calls_varchar',\n",
       "       'qualified_calls_varchar', 'emails_varchar', 'cvt_varchar',\n",
       "       'qualified_web_events_varchar', 'businessuser_varchar',\n",
       "       'system_varchar', 'advtrans_varchar'],\n",
       "      dtype='object')"
      ]
     },
     "execution_count": 44,
     "metadata": {},
     "output_type": "execute_result"
    }
   ],
   "source": [
    "df.columns"
   ]
  },
  {
   "cell_type": "code",
   "execution_count": 50,
   "metadata": {},
   "outputs": [
    {
     "data": {
      "text/plain": [
       "0"
      ]
     },
     "execution_count": 50,
     "metadata": {},
     "output_type": "execute_result"
    }
   ],
   "source": [
    "df.product_varchar.isnull().sum()"
   ]
  },
  {
   "cell_type": "code",
   "execution_count": 52,
   "metadata": {},
   "outputs": [],
   "source": [
    "rolled_up=df.groupby(by=['idadvertiser_varchar', 'idcampaign_master_varchar',\n",
    "               'idcampaign_varchar', 'advertiser_city_varchar',\n",
    "               'advertiser_state_varchar','product_varchar'], as_index=False). \\\n",
    "agg({'clicks_varchar':'sum', 'calls_varchar':'sum', 'impressions_varchar':'sum',\n",
    "     'qualified_calls_varchar':'sum', 'emails_varchar':'sum', 'cvt_varchar':'sum',\n",
    "     'qualified_web_events_varchar':'sum','stop_request_varchar':'sum',\n",
    "     'businessuser_varchar':'sum','system_varchar':'sum', 'advtrans_varchar':'max'})"
   ]
  },
  {
   "cell_type": "code",
   "execution_count": 54,
   "metadata": {},
   "outputs": [
    {
     "data": {
      "text/plain": [
       "(720925, 17)"
      ]
     },
     "execution_count": 54,
     "metadata": {},
     "output_type": "execute_result"
    }
   ],
   "source": [
    "rolled_up.shape"
   ]
  },
  {
   "cell_type": "code",
   "execution_count": 55,
   "metadata": {},
   "outputs": [],
   "source": [
    "rolled_up.to_csv('../data/rolled_up_keri_2014_2017.csv', index=False)"
   ]
  },
  {
   "cell_type": "code",
   "execution_count": null,
   "metadata": {},
   "outputs": [],
   "source": []
  }
 ],
 "metadata": {
  "kernelspec": {
   "display_name": "Python 3",
   "language": "python",
   "name": "python3"
  },
  "language_info": {
   "codemirror_mode": {
    "name": "ipython",
    "version": 3
   },
   "file_extension": ".py",
   "mimetype": "text/x-python",
   "name": "python",
   "nbconvert_exporter": "python",
   "pygments_lexer": "ipython3",
   "version": "3.7.0"
  }
 },
 "nbformat": 4,
 "nbformat_minor": 2
}
