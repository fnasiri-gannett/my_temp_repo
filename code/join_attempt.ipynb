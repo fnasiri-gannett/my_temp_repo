{
 "cells": [
  {
   "cell_type": "code",
   "execution_count": 1,
   "metadata": {},
   "outputs": [],
   "source": [
    "import pandas as pd\n",
    "import numpy as np\n",
    "import matplotlib.pyplot as plt"
   ]
  },
  {
   "cell_type": "code",
   "execution_count": 3,
   "metadata": {},
   "outputs": [],
   "source": [
    "df_rolled_up=pd.read_csv('../data/rolled_up_keri_2014_2017.csv')\n",
    "df_act=pd.read_csv('../data/us_CID_activity_2014_2017.csv')\n"
   ]
  },
  {
   "cell_type": "code",
   "execution_count": 17,
   "metadata": {},
   "outputs": [],
   "source": [
    "df_keri=pd.read_csv('../data/keri_2014_2017.csv')"
   ]
  },
  {
   "cell_type": "code",
   "execution_count": 4,
   "metadata": {},
   "outputs": [
    {
     "data": {
      "text/plain": [
       "Index(['idcampaign', 'idcampaign_master', 'idOffer', 'Offer_Name',\n",
       "       'Finance_Product', 'idadvertiser', 'idadvertiser_master',\n",
       "       'Advertiser_URL', 'idBusiness', 'Channel', 'Country', 'Currency',\n",
       "       'campaign_budget', 'Retail_Cost', 'COGS', 'Overage', 'impressions',\n",
       "       'clicks', 'CVTs', 'qualified_calls', 'calls', 'emails',\n",
       "       'qualified_web_events', 'Leads', 'CPC', 'CTR', 'CPL', 'CTL', 'Paid_On',\n",
       "       'Cycle_Started', 'Cycle_Ended', 'MCID_Started', 'Cycle_Number',\n",
       "       'Advertiser_BC_ID', 'Advertiser_BusinessCategory', 'Advertiser_BSC_ID',\n",
       "       'Advertiser_BusinessSubCategory', 'BC_ID', 'BusinessCategory',\n",
       "       'Primary_BSC_ID', 'Primary_BusinessSubCategory', 'Secondary_BSC_Count',\n",
       "       'Secondary_BSC_IDs', 'Seconardy_BSCs', 'BusinessSpecialtyID',\n",
       "       'BusinessSpecialty', 'TargetType', 'Radius_Target_Address',\n",
       "       'Radius_Target_Miles', 'Cities_Targetd', 'DMAs_Targeted',\n",
       "       'Population_Target'],\n",
       "      dtype='object')"
      ]
     },
     "execution_count": 4,
     "metadata": {},
     "output_type": "execute_result"
    }
   ],
   "source": [
    "df_act.columns"
   ]
  },
  {
   "cell_type": "code",
   "execution_count": 5,
   "metadata": {},
   "outputs": [
    {
     "data": {
      "text/plain": [
       "Index(['idadvertiser_varchar', 'idcampaign_master_varchar',\n",
       "       'idcampaign_varchar', 'advertiser_city_varchar',\n",
       "       'advertiser_state_varchar', 'product_varchar', 'clicks_varchar',\n",
       "       'calls_varchar', 'impressions_varchar', 'qualified_calls_varchar',\n",
       "       'emails_varchar', 'cvt_varchar', 'qualified_web_events_varchar',\n",
       "       'stop_request_varchar', 'businessuser_varchar', 'system_varchar',\n",
       "       'advtrans_varchar'],\n",
       "      dtype='object')"
      ]
     },
     "execution_count": 5,
     "metadata": {},
     "output_type": "execute_result"
    }
   ],
   "source": [
    "df_rolled_up.columns"
   ]
  },
  {
   "cell_type": "code",
   "execution_count": 8,
   "metadata": {},
   "outputs": [],
   "source": [
    "df_rolled_up=df_rolled_up.rename({'idadvertiser_varchar':'idadvertiser', \n",
    "                    'idcampaign_master_varchar':'idcampaign_master',\n",
    "                    'idcampaign_varchar':'idcampaign' }, axis='columns')"
   ]
  },
  {
   "cell_type": "code",
   "execution_count": 9,
   "metadata": {},
   "outputs": [
    {
     "data": {
      "text/plain": [
       "Index(['idadvertiser', 'idcampaign_master', 'idcampaign',\n",
       "       'advertiser_city_varchar', 'advertiser_state_varchar',\n",
       "       'product_varchar', 'clicks_varchar', 'calls_varchar',\n",
       "       'impressions_varchar', 'qualified_calls_varchar', 'emails_varchar',\n",
       "       'cvt_varchar', 'qualified_web_events_varchar', 'stop_request_varchar',\n",
       "       'businessuser_varchar', 'system_varchar', 'advtrans_varchar'],\n",
       "      dtype='object')"
      ]
     },
     "execution_count": 9,
     "metadata": {},
     "output_type": "execute_result"
    }
   ],
   "source": [
    "df_rolled_up.columns"
   ]
  },
  {
   "cell_type": "code",
   "execution_count": 28,
   "metadata": {},
   "outputs": [],
   "source": [
    "df_act=df_act[~(df_act.campaign_budget==0)]"
   ]
  },
  {
   "cell_type": "code",
   "execution_count": 31,
   "metadata": {},
   "outputs": [],
   "source": [
    "joined=df_act.merge(df_rolled_up, how='left', on=['idadvertiser','idcampaign_master','idcampaign'])"
   ]
  },
  {
   "cell_type": "code",
   "execution_count": 35,
   "metadata": {},
   "outputs": [
    {
     "data": {
      "text/plain": [
       "71524"
      ]
     },
     "execution_count": 35,
     "metadata": {},
     "output_type": "execute_result"
    }
   ],
   "source": [
    "df_rolled_up.idcampaign_master.nunique()"
   ]
  },
  {
   "cell_type": "code",
   "execution_count": 34,
   "metadata": {},
   "outputs": [
    {
     "data": {
      "text/plain": [
       "82725"
      ]
     },
     "execution_count": 34,
     "metadata": {},
     "output_type": "execute_result"
    }
   ],
   "source": [
    "df_act.idcampaign_master.nunique()"
   ]
  },
  {
   "cell_type": "code",
   "execution_count": 37,
   "metadata": {},
   "outputs": [
    {
     "data": {
      "text/plain": [
       "csr_year_varchar                      0\n",
       "csr_month_varchar                     0\n",
       "idcampaign_master_varchar             0\n",
       "idcampaign_varchar                    0\n",
       "idadvertiser_varchar                  0\n",
       "advertiser_name_varchar               0\n",
       "advertiser_city_varchar               0\n",
       "advertiser_state_varchar              0\n",
       "advertiser_zipcode_varchar            0\n",
       "idbusinesscategory_varchar            0\n",
       "business_category_varchar             0\n",
       "idbusinesssubcategory_varchar         0\n",
       "business_subcategory_varchar        124\n",
       "idoffer_varchar                       0\n",
       "product_varchar                       0\n",
       "stop_request_varchar             297197\n",
       "adv_change_type_varchar               0\n",
       "campaign_budget_varchar               0\n",
       "spend_varchar                         0\n",
       "clicks_varchar                        0\n",
       "impressions_varchar                   0\n",
       "calls_varchar                         0\n",
       "qualified_calls_varchar               0\n",
       "emails_varchar                        0\n",
       "cvt_varchar                           0\n",
       "qualified_web_events_varchar          0\n",
       "businessuser_varchar             297197\n",
       "system_varchar                   297197\n",
       "advtrans_varchar                      0\n",
       "dtype: int64"
      ]
     },
     "execution_count": 37,
     "metadata": {},
     "output_type": "execute_result"
    }
   ],
   "source": [
    "df_keri.isnull().sum()"
   ]
  },
  {
   "cell_type": "code",
   "execution_count": null,
   "metadata": {},
   "outputs": [],
   "source": []
  }
 ],
 "metadata": {
  "kernelspec": {
   "display_name": "Python 3",
   "language": "python",
   "name": "python3"
  },
  "language_info": {
   "codemirror_mode": {
    "name": "ipython",
    "version": 3
   },
   "file_extension": ".py",
   "mimetype": "text/x-python",
   "name": "python",
   "nbconvert_exporter": "python",
   "pygments_lexer": "ipython3",
   "version": "3.7.0"
  }
 },
 "nbformat": 4,
 "nbformat_minor": 2
}
