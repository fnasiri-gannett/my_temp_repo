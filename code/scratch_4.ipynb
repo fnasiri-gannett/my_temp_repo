{
 "cells": [
  {
   "cell_type": "code",
   "execution_count": 12,
   "metadata": {},
   "outputs": [],
   "source": [
    "import pandas as pd\n",
    "import numpy as np\n",
    "import matplotlib.pyplot as plt\n",
    "import warnings\n",
    "warnings.filterwarnings('ignore')\n",
    "from datetime import datetime"
   ]
  },
  {
   "cell_type": "code",
   "execution_count": 2,
   "metadata": {},
   "outputs": [],
   "source": [
    "threshold = 0.001\n",
    "ma_window=4"
   ]
  },
  {
   "cell_type": "code",
   "execution_count": 3,
   "metadata": {},
   "outputs": [
    {
     "name": "stdout",
     "output_type": "stream",
     "text": [
      "Reading input file\n"
     ]
    }
   ],
   "source": [
    "print('Reading input file')\n",
    "df=pd.read_csv('../data/all_activity_normal.csv') # Read the data"
   ]
  },
  {
   "cell_type": "code",
   "execution_count": 38,
   "metadata": {},
   "outputs": [
    {
     "data": {
      "text/plain": [
       "Index(['idcampaign', 'idcampaign_master', 'idOffer', 'Offer_Name',\n",
       "       'Finance_Product', 'idadvertiser', 'idadvertiser_master', 'idBusiness',\n",
       "       'Channel', 'campaign_budget', 'Retail_Cost', 'COGS', 'Overage',\n",
       "       'impressions', 'clicks', 'CVTs', 'qualified_calls', 'calls', 'emails',\n",
       "       'qualified_web_events', 'Leads', 'Paid_On', 'Cycle_Started',\n",
       "       'Cycle_Ended', 'MCID_Started', 'Cycle_Number', 'Advertiser_BC_ID',\n",
       "       'Advertiser_BusinessCategory', 'Advertiser_BSC_ID',\n",
       "       'Advertiser_BusinessSubCategory', 'TargetType', 'Radius_Target_Address',\n",
       "       'Radius_Target_Miles', 'Cities_Targetd', 'DMAs_Targeted',\n",
       "       'Population_Target', 'ratio', 'ratio_cat', 'cycle_duration'],\n",
       "      dtype='object')"
      ]
     },
     "execution_count": 38,
     "metadata": {},
     "output_type": "execute_result"
    }
   ],
   "source": [
    "df.columns"
   ]
  },
  {
   "cell_type": "code",
   "execution_count": 39,
   "metadata": {},
   "outputs": [
    {
     "data": {
      "text/plain": [
       "0"
      ]
     },
     "execution_count": 39,
     "metadata": {},
     "output_type": "execute_result"
    }
   ],
   "source": [
    "df.campaign_budget.isnull().sum()"
   ]
  },
  {
   "cell_type": "code",
   "execution_count": 4,
   "metadata": {},
   "outputs": [],
   "source": [
    "df.drop(columns=['Unnamed: 0','Country', 'Currency', 'Advertiser_URL',\n",
    "                'BC_ID','BusinessCategory', 'Primary_BSC_ID', 'Primary_BusinessSubCategory',\n",
    "                'Secondary_BSC_Count','Secondary_BSC_IDs','Seconardy_BSCs','BusinessSpecialtyID',\n",
    "                'CTL', 'CPL','CPC', 'CTR',\n",
    "                'BusinessSpecialty'], axis=1, inplace=True)\n",
    "df.reset_index(inplace=True,drop=True)\n",
    "\n",
    "\n",
    "# Dealing with Offer, Finance Product, idOffer (There are only a few of them?)\n",
    "\n",
    "missing_offer_ids=df[df.Offer_Name.isna()]['idadvertiser_master'].unique()\n",
    "\n",
    "# Check to see if their are missing at the exact same locations:\n",
    "\n",
    "df=df[~df.idadvertiser_master.isin(missing_offer_ids)]\n",
    "df.reset_index(inplace=True,drop=True)\n",
    "\n",
    "# Create a duration column. For missing values, one option is to replace with the average \n",
    "# campaign duration of a given advertiser--> Local!\n",
    "# However we're not sure why the cycle is missing an end date. Is that churn?\n",
    "df['Cycle_Started']=pd.to_datetime(df.Cycle_Started, format='%Y-%m-%d',  errors='ignore')\n",
    "df['Cycle_Ended']=pd.to_datetime(df.Cycle_Ended, format='%Y-%m-%d',  errors='ignore')\n",
    "\n",
    "my_index=df[df['Cycle_Ended'] < df['Cycle_Started']].index\n",
    "\n",
    "temp=df.loc[my_index, 'Cycle_Ended']\n",
    "\n",
    "df.loc[my_index, 'Cycle_Ended'] = df.loc[my_index, 'Cycle_Started']\n",
    "\n",
    "df.loc[my_index, 'Cycle_Started']=temp\n",
    "\n",
    "\n",
    "df.reset_index(inplace=True,drop=True)\n",
    "df['cycle_duration']=pd.to_timedelta(df['Cycle_Ended']-df['Cycle_Started']).astype('timedelta64[D]')\n",
    "\n",
    "df.reset_index(inplace=True,drop=True)\n",
    "\n",
    "# Get rid of the campaigns with zero budget and those starting at the end of the year.\n",
    "df=df[~(df.campaign_budget==0)]\n",
    "df=df[~(df.campaign_budget < 1)]\n",
    "\n",
    "df=df[~(df.Cycle_Started==pd.to_datetime('2018-12-31 00:00:00'))]\n",
    "\n",
    "df.reset_index(inplace=True,drop=True)\n",
    "\n",
    "ids=df[pd.isnull(df.Cycle_Started)]['idadvertiser_master'].unique()\n",
    "\n",
    "df=df[~(df.idadvertiser_master.isin(ids))]\n",
    "\n",
    "df.reset_index(inplace=True,drop=True)\n",
    "\n",
    "duration_mode=df.cycle_duration.mode() # Mode is 30. Let's impute the duration with this\n",
    "\n",
    "#my_index=df[pd.isnull(df.cycle_duration)].index\n",
    "#df.loc[my_index, 'cycle_duration']=duration_mode\n",
    "\n",
    "df['cycle_duration'].fillna(duration_mode[0], inplace=True)\n",
    "\n",
    "# Now reconstruct the end dates\n",
    "my_index=df[pd.isnull(df.Cycle_Ended)].index\n",
    "df.loc[my_index, 'Cycle_Ended']=df.loc[my_index, 'Cycle_Started']+pd.to_timedelta(str(duration_mode[0])+'D')"
   ]
  },
  {
   "cell_type": "code",
   "execution_count": 22,
   "metadata": {},
   "outputs": [],
   "source": [
    "df.reset_index(drop=True, inplace=True)\n",
    "# Trim down the dataframe\n",
    "temp=df[['idadvertiser_master','idadvertiser','Cycle_Started','Cycle_Ended','cycle_duration']]\n",
    "# Find unique ids \n",
    "adv_ids=temp.idadvertiser_master.unique()\n",
    "\n",
    "# Create additional columns\n",
    "temp['delta']=0.0\n",
    "temp['summation']=0.0\n",
    "\n",
    "from sklearn.linear_model import LinearRegression\n",
    "mdl=LinearRegression(n_jobs=4)\n",
    "\n",
    "\n",
    "\n",
    "seasonal=[]\n",
    "period=[]\n",
    "\n",
    "def ma(array, window=1):  # Moving average\n",
    "    return np.convolve(array[0], np.ones((1,window))[0]/window, mode='same').reshape(1,array.shape[1])\n",
    "\n",
    "\n",
    "# id_subset=np.random.choice(adv_ids, 10, replace=False)\n",
    "# has_zeros=[]\n",
    "# Loop over ids\n",
    "# for idd in id_subset:\n",
    "for idd in [41104]:    \n",
    "    #print('Processing advertiser ID=', idd)\n",
    "    subset = temp[temp.idadvertiser_master==idd]\n",
    "    subset.sort_values(by=['idadvertiser_master','Cycle_Started'],inplace=True)\n",
    "    subset.reset_index(drop=True, inplace=True)\n",
    "    \n",
    "    if subset.shape[0]<ma_window:\n",
    "        f=open('../data/seasonal.txt', 'a+')\n",
    "        f.write(str(0)+'\\n' )\n",
    "        f.close()\n",
    "\n",
    "        f=open('../data/periods.txt', 'a+')\n",
    "        f.write(str(0)+'\\n' )\n",
    "        f.close()\n",
    "    else:\n",
    "    \n",
    "        # Separating start and end\n",
    "        start = subset.Cycle_Started\n",
    "        end = subset.Cycle_Ended\n",
    "\n",
    "        end_shift = end\n",
    "        end_shift[1:]=end[0:-1]\n",
    "\n",
    "        delta = start-end_shift\n",
    "        subset['delta']=0.0\n",
    "        for i in range(0,subset.shape[0]):\n",
    "            subset.loc[i,'delta']=delta.iloc[i].days\n",
    "\n",
    "        subset.loc[0,'delta']=0\n",
    "\n",
    "        #subset['delta']=delta\n",
    "        subset['summation']=subset['cycle_duration']+subset['delta']\n",
    "\n",
    "        # Create the time series\n",
    "\n",
    "        time_series= np.ones((1,int(subset['summation'].sum())))\n",
    "       # print(time_series)\n",
    "        pivot = 0\n",
    "        for i in range(0,subset.shape[0]):\n",
    "            if subset.loc[i,'delta'] > 0:\n",
    "                start_index=int(subset.loc[0:i,'summation'].sum() )\n",
    "                end_index=start_index+int( subset.loc[i,'delta'] )\n",
    "                time_series[0][start_index:end_index]=0\n",
    "                #has_zeros.append(idd)\n",
    "                pivot=i\n",
    "        \n",
    "\n",
    "        time_series=time_series-ma(time_series, window=ma_window) # Remove the trend\n",
    "\n",
    "        # Next largest power of 2        \n",
    "        nfft=1<<(time_series.shape[1]-1).bit_length()\n",
    "\n",
    "        y=np.fft.fft(time_series, n=nfft)\n",
    "        y=abs(y**2)\n",
    "        y=(y-y.min())\n",
    "        y=y/y.max()\n",
    "\n",
    "        freq_ts=(np.linspace(0,nfft/2,int(nfft/2)) *1/float(nfft))\n",
    "        freq_ts=1/freq_ts\n",
    "        freq_ts=freq_ts[1:]\n",
    "        freq_ts=freq_ts.reshape(-1,1)\n",
    "        #period_ts=freq_ts[::-1]\n",
    "        #period_ts=period_ts.reshape(1,-1).T\n",
    "        \n",
    "        y=y[0][1:int(nfft/2)].reshape(1,-1).T"
   ]
  },
  {
   "cell_type": "code",
   "execution_count": 9,
   "metadata": {},
   "outputs": [
    {
     "data": {
      "text/plain": [
       "[126262,\n",
       " 80274,\n",
       " 80199,\n",
       " 80199,\n",
       " 80199,\n",
       " 41104,\n",
       " 41104,\n",
       " 41104,\n",
       " 41104,\n",
       " 41104,\n",
       " 41104,\n",
       " 41104,\n",
       " 41104]"
      ]
     },
     "execution_count": 9,
     "metadata": {},
     "output_type": "execute_result"
    }
   ],
   "source": [
    "has_zeros"
   ]
  },
  {
   "cell_type": "code",
   "execution_count": 14,
   "metadata": {},
   "outputs": [
    {
     "data": {
      "text/plain": [
       "(1, 207)"
      ]
     },
     "execution_count": 14,
     "metadata": {},
     "output_type": "execute_result"
    }
   ],
   "source": [
    "time_series.shape"
   ]
  },
  {
   "cell_type": "code",
   "execution_count": 34,
   "metadata": {},
   "outputs": [
    {
     "data": {
      "text/plain": [
       "[<matplotlib.lines.Line2D at 0x1e3c67367f0>]"
      ]
     },
     "execution_count": 34,
     "metadata": {},
     "output_type": "execute_result"
    },
    {
     "data": {
      "image/png": "[encoded data removed]",
      "text/plain": [
       "<Figure size 432x288 with 1 Axes>"
      ]
     },
     "metadata": {
      "needs_background": "light"
     },
     "output_type": "display_data"
    }
   ],
   "source": [
    "plt.plot(range(0,time_series.shape[1]), time_series[0])"
   ]
  },
  {
   "cell_type": "code",
   "execution_count": 25,
   "metadata": {},
   "outputs": [
    {
     "data": {
      "text/plain": [
       "(511, 1)"
      ]
     },
     "execution_count": 25,
     "metadata": {},
     "output_type": "execute_result"
    }
   ],
   "source": [
    "freq_ts.shape\n",
    "y.shape"
   ]
  },
  {
   "cell_type": "code",
   "execution_count": 33,
   "metadata": {},
   "outputs": [
    {
     "data": {
      "text/plain": [
       "(0, 50)"
      ]
     },
     "execution_count": 33,
     "metadata": {},
     "output_type": "execute_result"
    },
    {
     "data": {
      "image/png": "[encoded data removed]",
      "text/plain": [
       "<Figure size 432x288 with 1 Axes>"
      ]
     },
     "metadata": {
      "needs_background": "light"
     },
     "output_type": "display_data"
    }
   ],
   "source": [
    "plt.bar(freq_ts.T[0], y.T[0], width=0.1)\n",
    "plt.xlim(0,50)"
   ]
  },
  {
   "cell_type": "code",
   "execution_count": 35,
   "metadata": {},
   "outputs": [
    {
     "data": {
      "text/plain": [
       "367"
      ]
     },
     "execution_count": 35,
     "metadata": {},
     "output_type": "execute_result"
    }
   ],
   "source": [
    "np.argmax(y)"
   ]
  },
  {
   "cell_type": "code",
   "execution_count": 37,
   "metadata": {},
   "outputs": [
    {
     "data": {
      "text/plain": [
       "array([2.77717391])"
      ]
     },
     "execution_count": 37,
     "metadata": {},
     "output_type": "execute_result"
    }
   ],
   "source": [
    "freq_ts[np.argmax(y)]"
   ]
  },
  {
   "cell_type": "code",
   "execution_count": null,
   "metadata": {},
   "outputs": [],
   "source": []
  }
 ],
 "metadata": {
  "kernelspec": {
   "display_name": "Python 3",
   "language": "python",
   "name": "python3"
  },
  "language_info": {
   "codemirror_mode": {
    "name": "ipython",
    "version": 3
   },
   "file_extension": ".py",
   "mimetype": "text/x-python",
   "name": "python",
   "nbconvert_exporter": "python",
   "pygments_lexer": "ipython3",
   "version": "3.7.0"
  }
 },
 "nbformat": 4,
 "nbformat_minor": 2
}
