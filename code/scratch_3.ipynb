{
 "cells": [
  {
   "cell_type": "code",
   "execution_count": 1,
   "metadata": {},
   "outputs": [],
   "source": [
    "import pandas as pd\n",
    "import numpy as np\n",
    "import matplotlib.pyplot as plt\n",
    "import sys\n",
    "import os\n",
    "import seaborn as sns"
   ]
  },
  {
   "cell_type": "code",
   "execution_count": 2,
   "metadata": {},
   "outputs": [],
   "source": [
    "# Read the data for the last three years. Beware that master_adv_id is not part of the set and must be queried.\n",
    "df=pd.read_csv(\"../data/last_three_years.csv\")"
   ]
  },
  {
   "cell_type": "code",
   "execution_count": 3,
   "metadata": {},
   "outputs": [
    {
     "data": {
      "text/html": [
       "<div>\n",
       "<style scoped>\n",
       "    .dataframe tbody tr th:only-of-type {\n",
       "        vertical-align: middle;\n",
       "    }\n",
       "\n",
       "    .dataframe tbody tr th {\n",
       "        vertical-align: top;\n",
       "    }\n",
       "\n",
       "    .dataframe thead th {\n",
       "        text-align: right;\n",
       "    }\n",
       "</style>\n",
       "<table border=\"1\" class=\"dataframe\">\n",
       "  <thead>\n",
       "    <tr style=\"text-align: right;\">\n",
       "      <th></th>\n",
       "      <th>count</th>\n",
       "      <th>mean</th>\n",
       "      <th>std</th>\n",
       "      <th>min</th>\n",
       "      <th>25%</th>\n",
       "      <th>50%</th>\n",
       "      <th>75%</th>\n",
       "      <th>max</th>\n",
       "    </tr>\n",
       "  </thead>\n",
       "  <tbody>\n",
       "    <tr>\n",
       "      <th>csr_year</th>\n",
       "      <td>892438.0</td>\n",
       "      <td>2.016805e+03</td>\n",
       "      <td>0.707051</td>\n",
       "      <td>2016.0</td>\n",
       "      <td>2016.00</td>\n",
       "      <td>2017.00</td>\n",
       "      <td>2017.00</td>\n",
       "      <td>2018.00</td>\n",
       "    </tr>\n",
       "    <tr>\n",
       "      <th>csr_month</th>\n",
       "      <td>892438.0</td>\n",
       "      <td>6.035496e+00</td>\n",
       "      <td>3.531958</td>\n",
       "      <td>1.0</td>\n",
       "      <td>3.00</td>\n",
       "      <td>6.00</td>\n",
       "      <td>9.00</td>\n",
       "      <td>12.00</td>\n",
       "    </tr>\n",
       "    <tr>\n",
       "      <th>idcampaign_master</th>\n",
       "      <td>892438.0</td>\n",
       "      <td>1.799198e+06</td>\n",
       "      <td>560952.691773</td>\n",
       "      <td>820.0</td>\n",
       "      <td>1597675.00</td>\n",
       "      <td>1979310.00</td>\n",
       "      <td>2206470.00</td>\n",
       "      <td>2522502.00</td>\n",
       "    </tr>\n",
       "    <tr>\n",
       "      <th>idcampaign</th>\n",
       "      <td>892438.0</td>\n",
       "      <td>2.237547e+06</td>\n",
       "      <td>163107.688497</td>\n",
       "      <td>167394.0</td>\n",
       "      <td>2105700.00</td>\n",
       "      <td>2241402.50</td>\n",
       "      <td>2375570.00</td>\n",
       "      <td>2523052.00</td>\n",
       "    </tr>\n",
       "    <tr>\n",
       "      <th>idadvertiser</th>\n",
       "      <td>892438.0</td>\n",
       "      <td>1.636473e+05</td>\n",
       "      <td>41763.665278</td>\n",
       "      <td>137.0</td>\n",
       "      <td>154989.00</td>\n",
       "      <td>179454.00</td>\n",
       "      <td>188050.00</td>\n",
       "      <td>234488.00</td>\n",
       "    </tr>\n",
       "    <tr>\n",
       "      <th>idbusinesscategory</th>\n",
       "      <td>892438.0</td>\n",
       "      <td>1.718498e+01</td>\n",
       "      <td>7.761598</td>\n",
       "      <td>1.0</td>\n",
       "      <td>13.00</td>\n",
       "      <td>21.00</td>\n",
       "      <td>22.00</td>\n",
       "      <td>32.00</td>\n",
       "    </tr>\n",
       "    <tr>\n",
       "      <th>idbusinesssubcategory</th>\n",
       "      <td>892438.0</td>\n",
       "      <td>1.744083e+03</td>\n",
       "      <td>778.167065</td>\n",
       "      <td>0.0</td>\n",
       "      <td>1300.00</td>\n",
       "      <td>2110.00</td>\n",
       "      <td>2224.00</td>\n",
       "      <td>3301.00</td>\n",
       "    </tr>\n",
       "    <tr>\n",
       "      <th>idoffer</th>\n",
       "      <td>892438.0</td>\n",
       "      <td>7.207159e+02</td>\n",
       "      <td>842.917016</td>\n",
       "      <td>1.0</td>\n",
       "      <td>1.00</td>\n",
       "      <td>1.00</td>\n",
       "      <td>1674.00</td>\n",
       "      <td>2029.00</td>\n",
       "    </tr>\n",
       "    <tr>\n",
       "      <th>stop_request</th>\n",
       "      <td>646515.0</td>\n",
       "      <td>2.021763e-02</td>\n",
       "      <td>0.140744</td>\n",
       "      <td>0.0</td>\n",
       "      <td>0.00</td>\n",
       "      <td>0.00</td>\n",
       "      <td>0.00</td>\n",
       "      <td>1.00</td>\n",
       "    </tr>\n",
       "    <tr>\n",
       "      <th>campaign_budget</th>\n",
       "      <td>892438.0</td>\n",
       "      <td>1.230596e+03</td>\n",
       "      <td>2612.119352</td>\n",
       "      <td>10.0</td>\n",
       "      <td>300.00</td>\n",
       "      <td>800.00</td>\n",
       "      <td>1500.00</td>\n",
       "      <td>350000.00</td>\n",
       "    </tr>\n",
       "    <tr>\n",
       "      <th>spend</th>\n",
       "      <td>892438.0</td>\n",
       "      <td>5.723963e+02</td>\n",
       "      <td>1601.629730</td>\n",
       "      <td>0.0</td>\n",
       "      <td>42.27</td>\n",
       "      <td>239.58</td>\n",
       "      <td>694.92</td>\n",
       "      <td>342344.71</td>\n",
       "    </tr>\n",
       "    <tr>\n",
       "      <th>clicks</th>\n",
       "      <td>892438.0</td>\n",
       "      <td>2.244680e+02</td>\n",
       "      <td>920.176775</td>\n",
       "      <td>0.0</td>\n",
       "      <td>0.00</td>\n",
       "      <td>57.00</td>\n",
       "      <td>208.00</td>\n",
       "      <td>411768.00</td>\n",
       "    </tr>\n",
       "    <tr>\n",
       "      <th>impressions</th>\n",
       "      <td>892438.0</td>\n",
       "      <td>1.490904e+04</td>\n",
       "      <td>66744.655112</td>\n",
       "      <td>0.0</td>\n",
       "      <td>0.00</td>\n",
       "      <td>2115.00</td>\n",
       "      <td>9899.00</td>\n",
       "      <td>24484150.00</td>\n",
       "    </tr>\n",
       "    <tr>\n",
       "      <th>calls</th>\n",
       "      <td>892438.0</td>\n",
       "      <td>1.624221e+01</td>\n",
       "      <td>61.729655</td>\n",
       "      <td>0.0</td>\n",
       "      <td>0.00</td>\n",
       "      <td>1.00</td>\n",
       "      <td>14.00</td>\n",
       "      <td>9406.00</td>\n",
       "    </tr>\n",
       "    <tr>\n",
       "      <th>qualified_calls</th>\n",
       "      <td>892438.0</td>\n",
       "      <td>8.002246e+00</td>\n",
       "      <td>40.598548</td>\n",
       "      <td>0.0</td>\n",
       "      <td>0.00</td>\n",
       "      <td>0.00</td>\n",
       "      <td>5.00</td>\n",
       "      <td>7164.00</td>\n",
       "    </tr>\n",
       "    <tr>\n",
       "      <th>emails</th>\n",
       "      <td>892438.0</td>\n",
       "      <td>8.986832e-01</td>\n",
       "      <td>6.436938</td>\n",
       "      <td>0.0</td>\n",
       "      <td>0.00</td>\n",
       "      <td>0.00</td>\n",
       "      <td>0.00</td>\n",
       "      <td>875.00</td>\n",
       "    </tr>\n",
       "    <tr>\n",
       "      <th>cvt</th>\n",
       "      <td>892438.0</td>\n",
       "      <td>1.253488e+02</td>\n",
       "      <td>1923.278568</td>\n",
       "      <td>0.0</td>\n",
       "      <td>0.00</td>\n",
       "      <td>0.00</td>\n",
       "      <td>5.00</td>\n",
       "      <td>506326.00</td>\n",
       "    </tr>\n",
       "    <tr>\n",
       "      <th>qualified_web_events</th>\n",
       "      <td>892438.0</td>\n",
       "      <td>2.835926e+00</td>\n",
       "      <td>37.577305</td>\n",
       "      <td>0.0</td>\n",
       "      <td>0.00</td>\n",
       "      <td>0.00</td>\n",
       "      <td>1.00</td>\n",
       "      <td>11038.00</td>\n",
       "    </tr>\n",
       "    <tr>\n",
       "      <th>businessuser</th>\n",
       "      <td>646515.0</td>\n",
       "      <td>2.809151e+00</td>\n",
       "      <td>6.170380</td>\n",
       "      <td>0.0</td>\n",
       "      <td>0.00</td>\n",
       "      <td>0.00</td>\n",
       "      <td>3.00</td>\n",
       "      <td>266.00</td>\n",
       "    </tr>\n",
       "    <tr>\n",
       "      <th>system</th>\n",
       "      <td>646515.0</td>\n",
       "      <td>2.965056e+01</td>\n",
       "      <td>30.059266</td>\n",
       "      <td>0.0</td>\n",
       "      <td>1.00</td>\n",
       "      <td>21.00</td>\n",
       "      <td>50.00</td>\n",
       "      <td>1644.00</td>\n",
       "    </tr>\n",
       "    <tr>\n",
       "      <th>advtrans</th>\n",
       "      <td>892438.0</td>\n",
       "      <td>6.615586e-03</td>\n",
       "      <td>0.081067</td>\n",
       "      <td>0.0</td>\n",
       "      <td>0.00</td>\n",
       "      <td>0.00</td>\n",
       "      <td>0.00</td>\n",
       "      <td>1.00</td>\n",
       "    </tr>\n",
       "  </tbody>\n",
       "</table>\n",
       "</div>"
      ],
      "text/plain": [
       "                          count          mean            std       min  \\\n",
       "csr_year               892438.0  2.016805e+03       0.707051    2016.0   \n",
       "csr_month              892438.0  6.035496e+00       3.531958       1.0   \n",
       "idcampaign_master      892438.0  1.799198e+06  560952.691773     820.0   \n",
       "idcampaign             892438.0  2.237547e+06  163107.688497  167394.0   \n",
       "idadvertiser           892438.0  1.636473e+05   41763.665278     137.0   \n",
       "idbusinesscategory     892438.0  1.718498e+01       7.761598       1.0   \n",
       "idbusinesssubcategory  892438.0  1.744083e+03     778.167065       0.0   \n",
       "idoffer                892438.0  7.207159e+02     842.917016       1.0   \n",
       "stop_request           646515.0  2.021763e-02       0.140744       0.0   \n",
       "campaign_budget        892438.0  1.230596e+03    2612.119352      10.0   \n",
       "spend                  892438.0  5.723963e+02    1601.629730       0.0   \n",
       "clicks                 892438.0  2.244680e+02     920.176775       0.0   \n",
       "impressions            892438.0  1.490904e+04   66744.655112       0.0   \n",
       "calls                  892438.0  1.624221e+01      61.729655       0.0   \n",
       "qualified_calls        892438.0  8.002246e+00      40.598548       0.0   \n",
       "emails                 892438.0  8.986832e-01       6.436938       0.0   \n",
       "cvt                    892438.0  1.253488e+02    1923.278568       0.0   \n",
       "qualified_web_events   892438.0  2.835926e+00      37.577305       0.0   \n",
       "businessuser           646515.0  2.809151e+00       6.170380       0.0   \n",
       "system                 646515.0  2.965056e+01      30.059266       0.0   \n",
       "advtrans               892438.0  6.615586e-03       0.081067       0.0   \n",
       "\n",
       "                              25%         50%         75%          max  \n",
       "csr_year                  2016.00     2017.00     2017.00      2018.00  \n",
       "csr_month                    3.00        6.00        9.00        12.00  \n",
       "idcampaign_master      1597675.00  1979310.00  2206470.00   2522502.00  \n",
       "idcampaign             2105700.00  2241402.50  2375570.00   2523052.00  \n",
       "idadvertiser            154989.00   179454.00   188050.00    234488.00  \n",
       "idbusinesscategory          13.00       21.00       22.00        32.00  \n",
       "idbusinesssubcategory     1300.00     2110.00     2224.00      3301.00  \n",
       "idoffer                      1.00        1.00     1674.00      2029.00  \n",
       "stop_request                 0.00        0.00        0.00         1.00  \n",
       "campaign_budget            300.00      800.00     1500.00    350000.00  \n",
       "spend                       42.27      239.58      694.92    342344.71  \n",
       "clicks                       0.00       57.00      208.00    411768.00  \n",
       "impressions                  0.00     2115.00     9899.00  24484150.00  \n",
       "calls                        0.00        1.00       14.00      9406.00  \n",
       "qualified_calls              0.00        0.00        5.00      7164.00  \n",
       "emails                       0.00        0.00        0.00       875.00  \n",
       "cvt                          0.00        0.00        5.00    506326.00  \n",
       "qualified_web_events         0.00        0.00        1.00     11038.00  \n",
       "businessuser                 0.00        0.00        3.00       266.00  \n",
       "system                       1.00       21.00       50.00      1644.00  \n",
       "advtrans                     0.00        0.00        0.00         1.00  "
      ]
     },
     "execution_count": 3,
     "metadata": {},
     "output_type": "execute_result"
    }
   ],
   "source": [
    "# Get a description of the data\n",
    "df.describe().T"
   ]
  },
  {
   "cell_type": "code",
   "execution_count": 4,
   "metadata": {},
   "outputs": [
    {
     "data": {
      "text/plain": [
       "csr_year                      0\n",
       "csr_month                     0\n",
       "idcampaign_master             0\n",
       "idcampaign                    0\n",
       "idadvertiser                  0\n",
       "advertiser_name               0\n",
       "advertiser_city               0\n",
       "advertiser_state              0\n",
       "advertiser_zipcode            0\n",
       "idbusinesscategory            0\n",
       "business_category             0\n",
       "idbusinesssubcategory         0\n",
       "business_subcategory         97\n",
       "idoffer                       0\n",
       "product                       0\n",
       "stop_request             245923\n",
       "adv_change_type               0\n",
       "campaign_budget               0\n",
       "spend                         0\n",
       "clicks                        0\n",
       "impressions                   0\n",
       "calls                         0\n",
       "qualified_calls               0\n",
       "emails                        0\n",
       "cvt                           0\n",
       "qualified_web_events          0\n",
       "businessuser             245923\n",
       "system                   245923\n",
       "advtrans                      0\n",
       "dtype: int64"
      ]
     },
     "execution_count": 4,
     "metadata": {},
     "output_type": "execute_result"
    }
   ],
   "source": [
    "# Check for missing values\n",
    "df.isna().sum()"
   ]
  },
  {
   "cell_type": "code",
   "execution_count": 5,
   "metadata": {},
   "outputs": [
    {
     "data": {
      "text/plain": [
       "Index(['csr_year', 'csr_month', 'idcampaign_master', 'idcampaign',\n",
       "       'idadvertiser', 'advertiser_name', 'advertiser_city',\n",
       "       'advertiser_state', 'advertiser_zipcode', 'idbusinesscategory',\n",
       "       'business_category', 'idbusinesssubcategory', 'business_subcategory',\n",
       "       'idoffer', 'product', 'stop_request', 'adv_change_type',\n",
       "       'campaign_budget', 'spend', 'clicks', 'impressions', 'calls',\n",
       "       'qualified_calls', 'emails', 'cvt', 'qualified_web_events',\n",
       "       'businessuser', 'system', 'advtrans'],\n",
       "      dtype='object')"
      ]
     },
     "execution_count": 5,
     "metadata": {},
     "output_type": "execute_result"
    }
   ],
   "source": [
    "# Get a list of available columns\n",
    "df.columns"
   ]
  },
  {
   "cell_type": "code",
   "execution_count": 6,
   "metadata": {},
   "outputs": [
    {
     "data": {
      "text/plain": [
       "array(['No Change', 'Change Up', 'Change Down', 'Churn', 'Idle Down',\n",
       "       'Idle Up', 'New'], dtype=object)"
      ]
     },
     "execution_count": 6,
     "metadata": {},
     "output_type": "execute_result"
    }
   ],
   "source": [
    "df.adv_change_type.unique()"
   ]
  },
  {
   "cell_type": "code",
   "execution_count": 3,
   "metadata": {},
   "outputs": [],
   "source": [
    "# Dropping campaigns with zero budgets\n",
    "\n",
    "df=df[(df['campaign_budget']!= 0) & (df['spend']!=0)]"
   ]
  },
  {
   "cell_type": "code",
   "execution_count": 4,
   "metadata": {},
   "outputs": [
    {
     "data": {
      "text/html": [
       "<div>\n",
       "<style scoped>\n",
       "    .dataframe tbody tr th:only-of-type {\n",
       "        vertical-align: middle;\n",
       "    }\n",
       "\n",
       "    .dataframe tbody tr th {\n",
       "        vertical-align: top;\n",
       "    }\n",
       "\n",
       "    .dataframe thead th {\n",
       "        text-align: right;\n",
       "    }\n",
       "</style>\n",
       "<table border=\"1\" class=\"dataframe\">\n",
       "  <thead>\n",
       "    <tr style=\"text-align: right;\">\n",
       "      <th></th>\n",
       "      <th>count</th>\n",
       "      <th>mean</th>\n",
       "      <th>std</th>\n",
       "      <th>min</th>\n",
       "      <th>25%</th>\n",
       "      <th>50%</th>\n",
       "      <th>75%</th>\n",
       "      <th>max</th>\n",
       "    </tr>\n",
       "  </thead>\n",
       "  <tbody>\n",
       "    <tr>\n",
       "      <th>csr_year</th>\n",
       "      <td>712637.0</td>\n",
       "      <td>2.016795e+03</td>\n",
       "      <td>0.706415</td>\n",
       "      <td>2016.00</td>\n",
       "      <td>2016.0</td>\n",
       "      <td>2017.00</td>\n",
       "      <td>2017.00</td>\n",
       "      <td>2018.00</td>\n",
       "    </tr>\n",
       "    <tr>\n",
       "      <th>csr_month</th>\n",
       "      <td>712637.0</td>\n",
       "      <td>6.033943e+00</td>\n",
       "      <td>3.521026</td>\n",
       "      <td>1.00</td>\n",
       "      <td>3.0</td>\n",
       "      <td>6.00</td>\n",
       "      <td>9.00</td>\n",
       "      <td>12.00</td>\n",
       "    </tr>\n",
       "    <tr>\n",
       "      <th>idcampaign_master</th>\n",
       "      <td>712637.0</td>\n",
       "      <td>1.769426e+06</td>\n",
       "      <td>586639.440608</td>\n",
       "      <td>820.00</td>\n",
       "      <td>1537245.0</td>\n",
       "      <td>1967563.00</td>\n",
       "      <td>2205966.00</td>\n",
       "      <td>2522502.00</td>\n",
       "    </tr>\n",
       "    <tr>\n",
       "      <th>idcampaign</th>\n",
       "      <td>712637.0</td>\n",
       "      <td>2.239912e+06</td>\n",
       "      <td>158765.519388</td>\n",
       "      <td>167394.00</td>\n",
       "      <td>2106159.0</td>\n",
       "      <td>2241844.00</td>\n",
       "      <td>2376552.00</td>\n",
       "      <td>2522697.00</td>\n",
       "    </tr>\n",
       "    <tr>\n",
       "      <th>idadvertiser</th>\n",
       "      <td>712637.0</td>\n",
       "      <td>1.626252e+05</td>\n",
       "      <td>42785.236902</td>\n",
       "      <td>137.00</td>\n",
       "      <td>151421.0</td>\n",
       "      <td>179197.00</td>\n",
       "      <td>187985.00</td>\n",
       "      <td>234442.00</td>\n",
       "    </tr>\n",
       "    <tr>\n",
       "      <th>idbusinesscategory</th>\n",
       "      <td>712637.0</td>\n",
       "      <td>1.723211e+01</td>\n",
       "      <td>7.821502</td>\n",
       "      <td>1.00</td>\n",
       "      <td>12.0</td>\n",
       "      <td>21.00</td>\n",
       "      <td>23.00</td>\n",
       "      <td>32.00</td>\n",
       "    </tr>\n",
       "    <tr>\n",
       "      <th>idbusinesssubcategory</th>\n",
       "      <td>712637.0</td>\n",
       "      <td>1.748123e+03</td>\n",
       "      <td>783.466459</td>\n",
       "      <td>0.00</td>\n",
       "      <td>1226.0</td>\n",
       "      <td>2112.00</td>\n",
       "      <td>2305.00</td>\n",
       "      <td>3301.00</td>\n",
       "    </tr>\n",
       "    <tr>\n",
       "      <th>idoffer</th>\n",
       "      <td>712637.0</td>\n",
       "      <td>5.764528e+02</td>\n",
       "      <td>802.126030</td>\n",
       "      <td>1.00</td>\n",
       "      <td>1.0</td>\n",
       "      <td>1.00</td>\n",
       "      <td>1643.00</td>\n",
       "      <td>2029.00</td>\n",
       "    </tr>\n",
       "    <tr>\n",
       "      <th>stop_request</th>\n",
       "      <td>630973.0</td>\n",
       "      <td>1.656014e-02</td>\n",
       "      <td>0.127616</td>\n",
       "      <td>0.00</td>\n",
       "      <td>0.0</td>\n",
       "      <td>0.00</td>\n",
       "      <td>0.00</td>\n",
       "      <td>1.00</td>\n",
       "    </tr>\n",
       "    <tr>\n",
       "      <th>campaign_budget</th>\n",
       "      <td>712637.0</td>\n",
       "      <td>1.353528e+03</td>\n",
       "      <td>2754.309384</td>\n",
       "      <td>10.00</td>\n",
       "      <td>500.0</td>\n",
       "      <td>890.00</td>\n",
       "      <td>1500.00</td>\n",
       "      <td>350000.00</td>\n",
       "    </tr>\n",
       "    <tr>\n",
       "      <th>spend</th>\n",
       "      <td>712637.0</td>\n",
       "      <td>7.168140e+02</td>\n",
       "      <td>1763.210711</td>\n",
       "      <td>0.01</td>\n",
       "      <td>162.3</td>\n",
       "      <td>369.29</td>\n",
       "      <td>820.13</td>\n",
       "      <td>342344.71</td>\n",
       "    </tr>\n",
       "    <tr>\n",
       "      <th>clicks</th>\n",
       "      <td>712637.0</td>\n",
       "      <td>2.747198e+02</td>\n",
       "      <td>1019.513157</td>\n",
       "      <td>0.00</td>\n",
       "      <td>18.0</td>\n",
       "      <td>97.00</td>\n",
       "      <td>263.00</td>\n",
       "      <td>411768.00</td>\n",
       "    </tr>\n",
       "    <tr>\n",
       "      <th>impressions</th>\n",
       "      <td>712637.0</td>\n",
       "      <td>1.866531e+04</td>\n",
       "      <td>74215.949521</td>\n",
       "      <td>0.00</td>\n",
       "      <td>629.0</td>\n",
       "      <td>4161.00</td>\n",
       "      <td>13623.00</td>\n",
       "      <td>24484150.00</td>\n",
       "    </tr>\n",
       "    <tr>\n",
       "      <th>calls</th>\n",
       "      <td>712637.0</td>\n",
       "      <td>2.019960e+01</td>\n",
       "      <td>68.499190</td>\n",
       "      <td>0.00</td>\n",
       "      <td>0.0</td>\n",
       "      <td>4.00</td>\n",
       "      <td>20.00</td>\n",
       "      <td>9406.00</td>\n",
       "    </tr>\n",
       "    <tr>\n",
       "      <th>qualified_calls</th>\n",
       "      <td>712637.0</td>\n",
       "      <td>9.973511e+00</td>\n",
       "      <td>45.214290</td>\n",
       "      <td>0.00</td>\n",
       "      <td>0.0</td>\n",
       "      <td>1.00</td>\n",
       "      <td>8.00</td>\n",
       "      <td>7164.00</td>\n",
       "    </tr>\n",
       "    <tr>\n",
       "      <th>emails</th>\n",
       "      <td>712637.0</td>\n",
       "      <td>9.527094e-01</td>\n",
       "      <td>6.527847</td>\n",
       "      <td>0.00</td>\n",
       "      <td>0.0</td>\n",
       "      <td>0.00</td>\n",
       "      <td>0.00</td>\n",
       "      <td>875.00</td>\n",
       "    </tr>\n",
       "    <tr>\n",
       "      <th>cvt</th>\n",
       "      <td>712637.0</td>\n",
       "      <td>1.564951e+02</td>\n",
       "      <td>2150.930297</td>\n",
       "      <td>0.00</td>\n",
       "      <td>0.0</td>\n",
       "      <td>1.00</td>\n",
       "      <td>8.00</td>\n",
       "      <td>506326.00</td>\n",
       "    </tr>\n",
       "    <tr>\n",
       "      <th>qualified_web_events</th>\n",
       "      <td>712637.0</td>\n",
       "      <td>3.549003e+00</td>\n",
       "      <td>42.020562</td>\n",
       "      <td>0.00</td>\n",
       "      <td>0.0</td>\n",
       "      <td>0.00</td>\n",
       "      <td>1.00</td>\n",
       "      <td>11038.00</td>\n",
       "    </tr>\n",
       "    <tr>\n",
       "      <th>businessuser</th>\n",
       "      <td>630973.0</td>\n",
       "      <td>2.803505e+00</td>\n",
       "      <td>6.187740</td>\n",
       "      <td>0.00</td>\n",
       "      <td>0.0</td>\n",
       "      <td>0.00</td>\n",
       "      <td>3.00</td>\n",
       "      <td>266.00</td>\n",
       "    </tr>\n",
       "    <tr>\n",
       "      <th>system</th>\n",
       "      <td>630973.0</td>\n",
       "      <td>3.031968e+01</td>\n",
       "      <td>30.080584</td>\n",
       "      <td>0.00</td>\n",
       "      <td>1.0</td>\n",
       "      <td>22.00</td>\n",
       "      <td>51.00</td>\n",
       "      <td>1644.00</td>\n",
       "    </tr>\n",
       "    <tr>\n",
       "      <th>advtrans</th>\n",
       "      <td>712637.0</td>\n",
       "      <td>6.207929e-03</td>\n",
       "      <td>0.078546</td>\n",
       "      <td>0.00</td>\n",
       "      <td>0.0</td>\n",
       "      <td>0.00</td>\n",
       "      <td>0.00</td>\n",
       "      <td>1.00</td>\n",
       "    </tr>\n",
       "  </tbody>\n",
       "</table>\n",
       "</div>"
      ],
      "text/plain": [
       "                          count          mean            std        min  \\\n",
       "csr_year               712637.0  2.016795e+03       0.706415    2016.00   \n",
       "csr_month              712637.0  6.033943e+00       3.521026       1.00   \n",
       "idcampaign_master      712637.0  1.769426e+06  586639.440608     820.00   \n",
       "idcampaign             712637.0  2.239912e+06  158765.519388  167394.00   \n",
       "idadvertiser           712637.0  1.626252e+05   42785.236902     137.00   \n",
       "idbusinesscategory     712637.0  1.723211e+01       7.821502       1.00   \n",
       "idbusinesssubcategory  712637.0  1.748123e+03     783.466459       0.00   \n",
       "idoffer                712637.0  5.764528e+02     802.126030       1.00   \n",
       "stop_request           630973.0  1.656014e-02       0.127616       0.00   \n",
       "campaign_budget        712637.0  1.353528e+03    2754.309384      10.00   \n",
       "spend                  712637.0  7.168140e+02    1763.210711       0.01   \n",
       "clicks                 712637.0  2.747198e+02    1019.513157       0.00   \n",
       "impressions            712637.0  1.866531e+04   74215.949521       0.00   \n",
       "calls                  712637.0  2.019960e+01      68.499190       0.00   \n",
       "qualified_calls        712637.0  9.973511e+00      45.214290       0.00   \n",
       "emails                 712637.0  9.527094e-01       6.527847       0.00   \n",
       "cvt                    712637.0  1.564951e+02    2150.930297       0.00   \n",
       "qualified_web_events   712637.0  3.549003e+00      42.020562       0.00   \n",
       "businessuser           630973.0  2.803505e+00       6.187740       0.00   \n",
       "system                 630973.0  3.031968e+01      30.080584       0.00   \n",
       "advtrans               712637.0  6.207929e-03       0.078546       0.00   \n",
       "\n",
       "                             25%         50%         75%          max  \n",
       "csr_year                  2016.0     2017.00     2017.00      2018.00  \n",
       "csr_month                    3.0        6.00        9.00        12.00  \n",
       "idcampaign_master      1537245.0  1967563.00  2205966.00   2522502.00  \n",
       "idcampaign             2106159.0  2241844.00  2376552.00   2522697.00  \n",
       "idadvertiser            151421.0   179197.00   187985.00    234442.00  \n",
       "idbusinesscategory          12.0       21.00       23.00        32.00  \n",
       "idbusinesssubcategory     1226.0     2112.00     2305.00      3301.00  \n",
       "idoffer                      1.0        1.00     1643.00      2029.00  \n",
       "stop_request                 0.0        0.00        0.00         1.00  \n",
       "campaign_budget            500.0      890.00     1500.00    350000.00  \n",
       "spend                      162.3      369.29      820.13    342344.71  \n",
       "clicks                      18.0       97.00      263.00    411768.00  \n",
       "impressions                629.0     4161.00    13623.00  24484150.00  \n",
       "calls                        0.0        4.00       20.00      9406.00  \n",
       "qualified_calls              0.0        1.00        8.00      7164.00  \n",
       "emails                       0.0        0.00        0.00       875.00  \n",
       "cvt                          0.0        1.00        8.00    506326.00  \n",
       "qualified_web_events         0.0        0.00        1.00     11038.00  \n",
       "businessuser                 0.0        0.00        3.00       266.00  \n",
       "system                       1.0       22.00       51.00      1644.00  \n",
       "advtrans                     0.0        0.00        0.00         1.00  "
      ]
     },
     "execution_count": 4,
     "metadata": {},
     "output_type": "execute_result"
    }
   ],
   "source": [
    "# Check that it looks OK after dropping.\n",
    "df.describe().T"
   ]
  },
  {
   "cell_type": "code",
   "execution_count": 9,
   "metadata": {},
   "outputs": [
    {
     "data": {
      "text/plain": [
       "csr_year                     0\n",
       "csr_month                    0\n",
       "idcampaign_master            0\n",
       "idcampaign                   0\n",
       "idadvertiser                 0\n",
       "advertiser_name              0\n",
       "advertiser_city              0\n",
       "advertiser_state             0\n",
       "advertiser_zipcode           0\n",
       "idbusinesscategory           0\n",
       "business_category            0\n",
       "idbusinesssubcategory        0\n",
       "business_subcategory        91\n",
       "idoffer                      0\n",
       "product                      0\n",
       "stop_request             81664\n",
       "adv_change_type              0\n",
       "campaign_budget              0\n",
       "spend                        0\n",
       "clicks                       0\n",
       "impressions                  0\n",
       "calls                        0\n",
       "qualified_calls              0\n",
       "emails                       0\n",
       "cvt                          0\n",
       "qualified_web_events         0\n",
       "businessuser             81664\n",
       "system                   81664\n",
       "advtrans                     0\n",
       "dtype: int64"
      ]
     },
     "execution_count": 9,
     "metadata": {},
     "output_type": "execute_result"
    }
   ],
   "source": [
    "# Check for missing values again\n",
    "df.isna().sum()"
   ]
  },
  {
   "cell_type": "code",
   "execution_count": 10,
   "metadata": {},
   "outputs": [],
   "source": [
    "# For the time being, drop business_user and system columns.\n",
    "# These to columns have exactly the same number of missing values.\n",
    "# Check  whether they are missing values in the same rows.\n",
    "# In which case ehich case it's probably not MAR.\n",
    "df.drop(columns=['businessuser','system'], axis=1, inplace=True)"
   ]
  },
  {
   "cell_type": "code",
   "execution_count": 11,
   "metadata": {},
   "outputs": [
    {
     "data": {
      "text/plain": [
       "csr_year                     0\n",
       "csr_month                    0\n",
       "idcampaign_master            0\n",
       "idcampaign                   0\n",
       "idadvertiser                 0\n",
       "advertiser_name              0\n",
       "advertiser_city              0\n",
       "advertiser_state             0\n",
       "advertiser_zipcode           0\n",
       "idbusinesscategory           0\n",
       "business_category            0\n",
       "idbusinesssubcategory        0\n",
       "business_subcategory        91\n",
       "idoffer                      0\n",
       "product                      0\n",
       "stop_request             81664\n",
       "adv_change_type              0\n",
       "campaign_budget              0\n",
       "spend                        0\n",
       "clicks                       0\n",
       "impressions                  0\n",
       "calls                        0\n",
       "qualified_calls              0\n",
       "emails                       0\n",
       "cvt                          0\n",
       "qualified_web_events         0\n",
       "advtrans                     0\n",
       "dtype: int64"
      ]
     },
     "execution_count": 11,
     "metadata": {},
     "output_type": "execute_result"
    }
   ],
   "source": [
    "df.isna().sum()"
   ]
  },
  {
   "cell_type": "code",
   "execution_count": 12,
   "metadata": {},
   "outputs": [],
   "source": [
    "# Still a bit unsure of this column. Is it a precurser to churn?\n",
    "\n",
    "df.stop_request.unique()\n",
    "\n",
    "# Assuming that the missing values indicate no request (but needs to be confirmed)\n",
    "df.stop_request=df.stop_request.replace(to_replace=np.nan, value=0.0)"
   ]
  },
  {
   "cell_type": "code",
   "execution_count": 13,
   "metadata": {},
   "outputs": [],
   "source": [
    "# Change the missing BSCs to \"other\"\n",
    "df.business_subcategory=df.business_subcategory.replace(to_replace=np.nan, value='Other')"
   ]
  },
  {
   "cell_type": "code",
   "execution_count": 14,
   "metadata": {},
   "outputs": [
    {
     "data": {
      "text/plain": [
       "21977"
      ]
     },
     "execution_count": 14,
     "metadata": {},
     "output_type": "execute_result"
    }
   ],
   "source": [
    "# Data is clean now.idadvertiser\n",
    "\n",
    "df.idadvertiser.nunique() # number of unique adv_ids. We really need the master_id"
   ]
  },
  {
   "cell_type": "code",
   "execution_count": 15,
   "metadata": {},
   "outputs": [
    {
     "data": {
      "text/plain": [
       "Index(['Change Down', 'Change Up', 'Churn', 'Idle Down', 'Idle Up', 'New',\n",
       "       'No Change'],\n",
       "      dtype='object')"
      ]
     },
     "execution_count": 15,
     "metadata": {},
     "output_type": "execute_result"
    }
   ],
   "source": [
    "# adv_change_type is column of interest\n",
    "# The are seven possible values as follows:\n",
    "# No change ==> Nothing chagend in advertiser's behavior\n",
    "# Change up ==> Advertiser increased budget\n",
    "# Change down ==> Advertiser decreased budget\n",
    "# Churn ==> Advertiser did not renew contract in 30 days ---> check this def. with stakeholders\n",
    "# Idle down ==> A period of inactivity (apparently less than 30 days)\n",
    "# Idle up ==> Advertiser came back after churning\n",
    "# New ==> New advertiser\n",
    "\n",
    "# Example: if a row says change up, look at the csr_month column. That's the month they increased the budget.\n",
    "\n",
    "# Encode the column.\n",
    "df.adv_change_type=pd.Categorical(df.adv_change_type)\n",
    "df['type_encoded']=df.adv_change_type.cat.codes\n",
    "\n",
    "df.adv_change_type.cat.categories\n",
    "\n",
    "# Change down = 0\n",
    "# Change up = 1\n",
    "# Churn = 2\n",
    "# Idle down = 3\n",
    "# Idle up = 4\n",
    "# New = 5\n",
    "# No change = 6"
   ]
  },
  {
   "cell_type": "code",
   "execution_count": 16,
   "metadata": {},
   "outputs": [
    {
     "data": {
      "text/plain": [
       "7963"
      ]
     },
     "execution_count": 16,
     "metadata": {},
     "output_type": "execute_result"
    }
   ],
   "source": [
    "# Get the ids of all of the advertisers who have churned.\n",
    "churned_ids=df[df.adv_change_type=='Churn']['idadvertiser'].unique()\n",
    "\n",
    "len(churned_ids)"
   ]
  },
  {
   "cell_type": "code",
   "execution_count": 18,
   "metadata": {},
   "outputs": [],
   "source": [
    "# Get the subset of the data where they churn at some point.\n",
    "churn_df=df[df.idadvertiser.isin(churned_ids)]"
   ]
  },
  {
   "cell_type": "code",
   "execution_count": 19,
   "metadata": {},
   "outputs": [],
   "source": [
    "# Here is an example. This advertiser was active for the first 3 months of 2016 and churned the 4th month,\n",
    "# rather abruptly since the preceeding 3 months all have \"No change\" status.\n",
    "temp=df[df.idadvertiser==3281][['idadvertiser','idcampaign','csr_year', 'csr_month', 'spend', 'type_encoded']]\n",
    "\n",
    "\n",
    "temp['timestamp']=temp.csr_year*100+temp.csr_month\n",
    "temp.sort_values(by=['idadvertiser','timestamp'], inplace=True)"
   ]
  },
  {
   "cell_type": "code",
   "execution_count": 20,
   "metadata": {},
   "outputs": [
    {
     "data": {
      "text/html": [
       "<div>\n",
       "<style scoped>\n",
       "    .dataframe tbody tr th:only-of-type {\n",
       "        vertical-align: middle;\n",
       "    }\n",
       "\n",
       "    .dataframe tbody tr th {\n",
       "        vertical-align: top;\n",
       "    }\n",
       "\n",
       "    .dataframe thead th {\n",
       "        text-align: right;\n",
       "    }\n",
       "</style>\n",
       "<table border=\"1\" class=\"dataframe\">\n",
       "  <thead>\n",
       "    <tr style=\"text-align: right;\">\n",
       "      <th></th>\n",
       "      <th>idadvertiser</th>\n",
       "      <th>idcampaign</th>\n",
       "      <th>csr_year</th>\n",
       "      <th>csr_month</th>\n",
       "      <th>spend</th>\n",
       "      <th>type_encoded</th>\n",
       "      <th>timestamp</th>\n",
       "    </tr>\n",
       "  </thead>\n",
       "  <tbody>\n",
       "    <tr>\n",
       "      <th>278043</th>\n",
       "      <td>3281</td>\n",
       "      <td>1982787</td>\n",
       "      <td>2016</td>\n",
       "      <td>1</td>\n",
       "      <td>893.85</td>\n",
       "      <td>6</td>\n",
       "      <td>201601</td>\n",
       "    </tr>\n",
       "    <tr>\n",
       "      <th>278044</th>\n",
       "      <td>3281</td>\n",
       "      <td>1982787</td>\n",
       "      <td>2016</td>\n",
       "      <td>2</td>\n",
       "      <td>106.15</td>\n",
       "      <td>6</td>\n",
       "      <td>201602</td>\n",
       "    </tr>\n",
       "    <tr>\n",
       "      <th>278045</th>\n",
       "      <td>3281</td>\n",
       "      <td>2001151</td>\n",
       "      <td>2016</td>\n",
       "      <td>2</td>\n",
       "      <td>661.34</td>\n",
       "      <td>6</td>\n",
       "      <td>201602</td>\n",
       "    </tr>\n",
       "    <tr>\n",
       "      <th>278046</th>\n",
       "      <td>3281</td>\n",
       "      <td>2001151</td>\n",
       "      <td>2016</td>\n",
       "      <td>3</td>\n",
       "      <td>338.66</td>\n",
       "      <td>6</td>\n",
       "      <td>201603</td>\n",
       "    </tr>\n",
       "    <tr>\n",
       "      <th>278047</th>\n",
       "      <td>3281</td>\n",
       "      <td>2028763</td>\n",
       "      <td>2016</td>\n",
       "      <td>3</td>\n",
       "      <td>31.06</td>\n",
       "      <td>6</td>\n",
       "      <td>201603</td>\n",
       "    </tr>\n",
       "    <tr>\n",
       "      <th>278048</th>\n",
       "      <td>3281</td>\n",
       "      <td>2028763</td>\n",
       "      <td>2016</td>\n",
       "      <td>4</td>\n",
       "      <td>986.82</td>\n",
       "      <td>2</td>\n",
       "      <td>201604</td>\n",
       "    </tr>\n",
       "  </tbody>\n",
       "</table>\n",
       "</div>"
      ],
      "text/plain": [
       "        idadvertiser  idcampaign  csr_year  csr_month   spend  type_encoded  \\\n",
       "278043          3281     1982787      2016          1  893.85             6   \n",
       "278044          3281     1982787      2016          2  106.15             6   \n",
       "278045          3281     2001151      2016          2  661.34             6   \n",
       "278046          3281     2001151      2016          3  338.66             6   \n",
       "278047          3281     2028763      2016          3   31.06             6   \n",
       "278048          3281     2028763      2016          4  986.82             2   \n",
       "\n",
       "        timestamp  \n",
       "278043     201601  \n",
       "278044     201602  \n",
       "278045     201602  \n",
       "278046     201603  \n",
       "278047     201603  \n",
       "278048     201604  "
      ]
     },
     "execution_count": 20,
     "metadata": {},
     "output_type": "execute_result"
    }
   ],
   "source": [
    "temp"
   ]
  },
  {
   "cell_type": "code",
   "execution_count": 66,
   "metadata": {},
   "outputs": [
    {
     "data": {
      "text/plain": [
       "<matplotlib.collections.PathCollection at 0x7f9723cbb8d0>"
      ]
     },
     "execution_count": 66,
     "metadata": {},
     "output_type": "execute_result"
    },
    {
     "data": {
      "image/png": "[encoded data removed]",
      "text/plain": [
       "<Figure size 432x288 with 1 Axes>"
      ]
     },
     "metadata": {
      "needs_background": "light"
     },
     "output_type": "display_data"
    }
   ],
   "source": [
    "plt.scatter(temp.timestamp, temp.type_encoded)"
   ]
  },
  {
   "cell_type": "code",
   "execution_count": 22,
   "metadata": {},
   "outputs": [],
   "source": [
    "all_who_have_churned = len(churned_ids)"
   ]
  },
  {
   "cell_type": "code",
   "execution_count": 23,
   "metadata": {},
   "outputs": [],
   "source": [
    "temp=pd.get_dummies(churn_df[['adv_change_type']], drop_first=False)"
   ]
  },
  {
   "cell_type": "code",
   "execution_count": 24,
   "metadata": {},
   "outputs": [],
   "source": [
    "churn_df=pd.concat([churn_df, temp], axis=1, sort=False)"
   ]
  },
  {
   "cell_type": "code",
   "execution_count": 25,
   "metadata": {},
   "outputs": [
    {
     "data": {
      "text/plain": [
       "adv_change_type_Idle Down    742\n",
       "dtype: int64"
      ]
     },
     "execution_count": 25,
     "metadata": {},
     "output_type": "execute_result"
    }
   ],
   "source": [
    "# How many of the churned advertisers had an Idle Down status? (2 methods)\n",
    "#churn_df[churn_df.adv_change_type=='Idle Down']['idadvertiser'].nunique()\n",
    "\n",
    "churn_df.groupby(by=['idadvertiser']).agg({'adv_change_type_Idle Down': 'max'}).sum()"
   ]
  },
  {
   "cell_type": "code",
   "execution_count": 26,
   "metadata": {},
   "outputs": [
    {
     "data": {
      "text/plain": [
       "adv_change_type_Idle Up    923\n",
       "dtype: int64"
      ]
     },
     "execution_count": 26,
     "metadata": {},
     "output_type": "execute_result"
    }
   ],
   "source": [
    "# How many of the churned advertisers had an Idle Up status? (2 methods)\n",
    "# churn_df[churn_df.adv_change_type=='Idle Up']['idadvertiser'].nunique()\n",
    "\n",
    "churn_df.groupby(by=['idadvertiser']).agg({'adv_change_type_Idle Up': 'max'}).sum()"
   ]
  },
  {
   "cell_type": "code",
   "execution_count": 27,
   "metadata": {},
   "outputs": [
    {
     "data": {
      "text/plain": [
       "adv_change_type_Change Up    1758\n",
       "dtype: int64"
      ]
     },
     "execution_count": 27,
     "metadata": {},
     "output_type": "execute_result"
    }
   ],
   "source": [
    "# How many of the churned advertisers had an Change Up status?\n",
    "# churn_df[churn_df.adv_change_type=='Change Up']['idadvertiser'].nunique()\n",
    "\n",
    "churn_df.groupby(by=['idadvertiser']).agg({'adv_change_type_Change Up': 'max'}).sum()"
   ]
  },
  {
   "cell_type": "code",
   "execution_count": 28,
   "metadata": {},
   "outputs": [
    {
     "data": {
      "text/plain": [
       "2069"
      ]
     },
     "execution_count": 28,
     "metadata": {},
     "output_type": "execute_result"
    }
   ],
   "source": [
    "# How many of the churned advertisers had an Change Down status?\n",
    "# churn_df[churn_df.adv_change_type=='Change Down']['idadvertiser'].nunique()\n",
    "\n",
    "churn_df.groupby(by=['idadvertiser']).agg({'adv_change_type_Change Down': 'max'}).sum()"
   ]
  },
  {
   "cell_type": "code",
   "execution_count": 71,
   "metadata": {},
   "outputs": [
    {
     "data": {
      "text/plain": [
       "742"
      ]
     },
     "execution_count": 71,
     "metadata": {},
     "output_type": "execute_result"
    }
   ],
   "source": [
    "# How many of the churned advertisers had an Idle Down and Idle Up status?\n",
    "churn_df[(churn_df.adv_change_type=='Idle Down') | (churn_df.adv_change_type=='Idle UP')]['idadvertiser'].nunique()"
   ]
  },
  {
   "cell_type": "code",
   "execution_count": 41,
   "metadata": {},
   "outputs": [
    {
     "data": {
      "text/plain": [
       "1145"
      ]
     },
     "execution_count": 41,
     "metadata": {},
     "output_type": "execute_result"
    }
   ],
   "source": [
    "# How many of the churned advertisers had an Change Up and Change Down status?\n",
    "temp=churn_df.groupby(by=['idadvertiser'], as_index=False).agg({'adv_change_type_Change Down': 'max', \n",
    "                                           'adv_change_type_Change Up': 'max'})\n",
    "temp[(temp.iloc[:,1]==1) & (temp.iloc[:,2]==1)].shape[0]"
   ]
  },
  {
   "cell_type": "code",
   "execution_count": 42,
   "metadata": {},
   "outputs": [
    {
     "data": {
      "text/plain": [
       "222"
      ]
     },
     "execution_count": 42,
     "metadata": {},
     "output_type": "execute_result"
    }
   ],
   "source": [
    "# How many of the churned advertisers had an Change Down and Idle Down status?\n",
    "temp=churn_df.groupby(by=['idadvertiser'], as_index=False).agg({'adv_change_type_Change Down': 'max', \n",
    "                                           'adv_change_type_Idle Down': 'max'})\n",
    "temp[(temp.iloc[:,1]==1) & (temp.iloc[:,2]==1)].shape[0]"
   ]
  },
  {
   "cell_type": "code",
   "execution_count": 43,
   "metadata": {},
   "outputs": [
    {
     "data": {
      "text/plain": [
       "254"
      ]
     },
     "execution_count": 43,
     "metadata": {},
     "output_type": "execute_result"
    }
   ],
   "source": [
    "# How many of the churned advertisers had an Change Down and Idle Up status?\n",
    "temp=churn_df.groupby(by=['idadvertiser'], as_index=False).agg({'adv_change_type_Change Down': 'max', \n",
    "                                           'adv_change_type_Idle Up': 'max'})\n",
    "temp[(temp.iloc[:,1]==1) & (temp.iloc[:,2]==1)].shape[0]"
   ]
  },
  {
   "cell_type": "code",
   "execution_count": 44,
   "metadata": {},
   "outputs": [
    {
     "data": {
      "text/plain": [
       "7963"
      ]
     },
     "execution_count": 44,
     "metadata": {},
     "output_type": "execute_result"
    }
   ],
   "source": [
    "all_who_have_churned"
   ]
  },
  {
   "cell_type": "code",
   "execution_count": 59,
   "metadata": {},
   "outputs": [],
   "source": [
    "# Check out the geographic locaions of the churned\n",
    "\n",
    "temp=churn_df.groupby(by=['idadvertiser','advertiser_state'], as_index=False).count()\n",
    "temp.drop(temp.iloc[:,2:], axis=1, inplace=True)\n",
    "state_counts=temp.advertiser_state.value_counts()"
   ]
  },
  {
   "cell_type": "code",
   "execution_count": 60,
   "metadata": {},
   "outputs": [
    {
     "data": {
      "text/plain": [
       "8171"
      ]
     },
     "execution_count": 60,
     "metadata": {},
     "output_type": "execute_result"
    }
   ],
   "source": [
    "# Check out the business of the churned\n",
    "\n",
    "temp=churn_df.groupby(by=['idadvertiser','business_category'], as_index=False).count()\n",
    "temp.drop(temp.iloc[:,2:], axis=1, inplace=True)\n",
    "temp.business_category.value_counts().sum()\n",
    "\n",
    "# Looks like the business category of some adv_ids is not unique"
   ]
  },
  {
   "cell_type": "code",
   "execution_count": 61,
   "metadata": {},
   "outputs": [
    {
     "data": {
      "text/plain": [
       "8773"
      ]
     },
     "execution_count": 61,
     "metadata": {},
     "output_type": "execute_result"
    }
   ],
   "source": [
    "# Check out the business subcategory of the churned\n",
    "\n",
    "temp=churn_df.groupby(by=['idadvertiser','business_subcategory'], as_index=False).count()\n",
    "temp.drop(temp.iloc[:,2:], axis=1, inplace=True)\n",
    "temp.business_subcategory.value_counts().sum()\n",
    "\n",
    "# Looks like the business subcategory of some adv_ids is not unique"
   ]
  },
  {
   "cell_type": "code",
   "execution_count": null,
   "metadata": {},
   "outputs": [],
   "source": []
  },
  {
   "cell_type": "code",
   "execution_count": null,
   "metadata": {},
   "outputs": [],
   "source": []
  },
  {
   "cell_type": "code",
   "execution_count": null,
   "metadata": {},
   "outputs": [],
   "source": []
  },
  {
   "cell_type": "code",
   "execution_count": null,
   "metadata": {},
   "outputs": [],
   "source": []
  },
  {
   "cell_type": "markdown",
   "metadata": {},
   "source": [
    "# * ** ** ** ** ** ** ** ** ** ** ** ** ** ** ** ** ** ** ** ** ** ** ** ** ** ** ** ** ** ** *"
   ]
  },
  {
   "cell_type": "code",
   "execution_count": 98,
   "metadata": {},
   "outputs": [
    {
     "data": {
      "text/html": [
       "<div>\n",
       "<style scoped>\n",
       "    .dataframe tbody tr th:only-of-type {\n",
       "        vertical-align: middle;\n",
       "    }\n",
       "\n",
       "    .dataframe tbody tr th {\n",
       "        vertical-align: top;\n",
       "    }\n",
       "\n",
       "    .dataframe thead th {\n",
       "        text-align: right;\n",
       "    }\n",
       "</style>\n",
       "<table border=\"1\" class=\"dataframe\">\n",
       "  <thead>\n",
       "    <tr style=\"text-align: right;\">\n",
       "      <th></th>\n",
       "      <th>idadvertiser</th>\n",
       "      <th>csr_year</th>\n",
       "      <th>csr_month</th>\n",
       "      <th>spend</th>\n",
       "    </tr>\n",
       "  </thead>\n",
       "  <tbody>\n",
       "    <tr>\n",
       "      <th>0</th>\n",
       "      <td>3281</td>\n",
       "      <td>2016</td>\n",
       "      <td>1</td>\n",
       "      <td>893.85</td>\n",
       "    </tr>\n",
       "    <tr>\n",
       "      <th>1</th>\n",
       "      <td>3281</td>\n",
       "      <td>2016</td>\n",
       "      <td>2</td>\n",
       "      <td>767.49</td>\n",
       "    </tr>\n",
       "    <tr>\n",
       "      <th>2</th>\n",
       "      <td>3281</td>\n",
       "      <td>2016</td>\n",
       "      <td>3</td>\n",
       "      <td>369.72</td>\n",
       "    </tr>\n",
       "    <tr>\n",
       "      <th>3</th>\n",
       "      <td>3281</td>\n",
       "      <td>2016</td>\n",
       "      <td>4</td>\n",
       "      <td>986.82</td>\n",
       "    </tr>\n",
       "  </tbody>\n",
       "</table>\n",
       "</div>"
      ],
      "text/plain": [
       "   idadvertiser  csr_year  csr_month   spend\n",
       "0          3281      2016          1  893.85\n",
       "1          3281      2016          2  767.49\n",
       "2          3281      2016          3  369.72\n",
       "3          3281      2016          4  986.82"
      ]
     },
     "execution_count": 98,
     "metadata": {},
     "output_type": "execute_result"
    }
   ],
   "source": [
    "## Checking groupby functionality\n",
    "\n",
    "df[df.idadvertiser==3281][['idadvertiser','idcampaign','csr_year', 'csr_month', 'spend']] \\\n",
    ".groupby(by=['idadvertiser','csr_year','csr_month'], as_index=False) \\\n",
    ".aggregate({'spend':'sum'}, as_index=False)"
   ]
  },
  {
   "cell_type": "code",
   "execution_count": 111,
   "metadata": {},
   "outputs": [],
   "source": [
    "# Get all the churned instances and look into amount spent each month.\n",
    "\n",
    "sub_df=df[df.idadvertiser.isin(churned_ids)].groupby(by=['idadvertiser','csr_year','csr_month'], as_index=False) \\\n",
    ".aggregate({'spend':'sum'}, as_index=False)"
   ]
  },
  {
   "cell_type": "code",
   "execution_count": 112,
   "metadata": {},
   "outputs": [
    {
     "data": {
      "text/html": [
       "<div>\n",
       "<style scoped>\n",
       "    .dataframe tbody tr th:only-of-type {\n",
       "        vertical-align: middle;\n",
       "    }\n",
       "\n",
       "    .dataframe tbody tr th {\n",
       "        vertical-align: top;\n",
       "    }\n",
       "\n",
       "    .dataframe thead th {\n",
       "        text-align: right;\n",
       "    }\n",
       "</style>\n",
       "<table border=\"1\" class=\"dataframe\">\n",
       "  <thead>\n",
       "    <tr style=\"text-align: right;\">\n",
       "      <th></th>\n",
       "      <th>idadvertiser</th>\n",
       "      <th>csr_year</th>\n",
       "      <th>csr_month</th>\n",
       "      <th>spend</th>\n",
       "    </tr>\n",
       "  </thead>\n",
       "  <tbody>\n",
       "    <tr>\n",
       "      <th>0</th>\n",
       "      <td>369</td>\n",
       "      <td>2016</td>\n",
       "      <td>3</td>\n",
       "      <td>101.34</td>\n",
       "    </tr>\n",
       "    <tr>\n",
       "      <th>1</th>\n",
       "      <td>369</td>\n",
       "      <td>2016</td>\n",
       "      <td>4</td>\n",
       "      <td>18.66</td>\n",
       "    </tr>\n",
       "    <tr>\n",
       "      <th>2</th>\n",
       "      <td>2146</td>\n",
       "      <td>2016</td>\n",
       "      <td>1</td>\n",
       "      <td>749.53</td>\n",
       "    </tr>\n",
       "    <tr>\n",
       "      <th>3</th>\n",
       "      <td>2146</td>\n",
       "      <td>2016</td>\n",
       "      <td>2</td>\n",
       "      <td>797.86</td>\n",
       "    </tr>\n",
       "    <tr>\n",
       "      <th>4</th>\n",
       "      <td>2146</td>\n",
       "      <td>2016</td>\n",
       "      <td>3</td>\n",
       "      <td>644.91</td>\n",
       "    </tr>\n",
       "  </tbody>\n",
       "</table>\n",
       "</div>"
      ],
      "text/plain": [
       "   idadvertiser  csr_year  csr_month   spend\n",
       "0           369      2016          3  101.34\n",
       "1           369      2016          4   18.66\n",
       "2          2146      2016          1  749.53\n",
       "3          2146      2016          2  797.86\n",
       "4          2146      2016          3  644.91"
      ]
     },
     "execution_count": 112,
     "metadata": {},
     "output_type": "execute_result"
    }
   ],
   "source": [
    "sub_df.head()"
   ]
  },
  {
   "cell_type": "code",
   "execution_count": 113,
   "metadata": {},
   "outputs": [
    {
     "data": {
      "text/plain": [
       "(66242, 4)"
      ]
     },
     "execution_count": 113,
     "metadata": {},
     "output_type": "execute_result"
    }
   ],
   "source": [
    "sub_df.shape"
   ]
  },
  {
   "cell_type": "code",
   "execution_count": 64,
   "metadata": {},
   "outputs": [],
   "source": [
    "#sub_df.idcampaign_master.nunique()"
   ]
  },
  {
   "cell_type": "code",
   "execution_count": 114,
   "metadata": {},
   "outputs": [
    {
     "data": {
      "text/plain": [
       "7963"
      ]
     },
     "execution_count": 114,
     "metadata": {},
     "output_type": "execute_result"
    }
   ],
   "source": [
    "sub_df.idadvertiser.nunique()"
   ]
  },
  {
   "cell_type": "code",
   "execution_count": null,
   "metadata": {},
   "outputs": [],
   "source": [
    "sub_df['timestamp']=sub_df.csr_year*100+sub_df.csr_month\n",
    "\n",
    "sub_df.sort_values(by=['idadvertiser','timestamp'], inplace=True)"
   ]
  },
  {
   "cell_type": "code",
   "execution_count": 127,
   "metadata": {},
   "outputs": [
    {
     "data": {
      "text/html": [
       "<div>\n",
       "<style scoped>\n",
       "    .dataframe tbody tr th:only-of-type {\n",
       "        vertical-align: middle;\n",
       "    }\n",
       "\n",
       "    .dataframe tbody tr th {\n",
       "        vertical-align: top;\n",
       "    }\n",
       "\n",
       "    .dataframe thead th {\n",
       "        text-align: right;\n",
       "    }\n",
       "</style>\n",
       "<table border=\"1\" class=\"dataframe\">\n",
       "  <thead>\n",
       "    <tr style=\"text-align: right;\">\n",
       "      <th></th>\n",
       "      <th>idadvertiser</th>\n",
       "      <th>csr_year</th>\n",
       "      <th>csr_month</th>\n",
       "      <th>spend</th>\n",
       "      <th>timestamp</th>\n",
       "    </tr>\n",
       "  </thead>\n",
       "  <tbody>\n",
       "    <tr>\n",
       "      <th>0</th>\n",
       "      <td>369</td>\n",
       "      <td>2016</td>\n",
       "      <td>3</td>\n",
       "      <td>101.34</td>\n",
       "      <td>201603</td>\n",
       "    </tr>\n",
       "    <tr>\n",
       "      <th>1</th>\n",
       "      <td>369</td>\n",
       "      <td>2016</td>\n",
       "      <td>4</td>\n",
       "      <td>18.66</td>\n",
       "      <td>201604</td>\n",
       "    </tr>\n",
       "    <tr>\n",
       "      <th>2</th>\n",
       "      <td>2146</td>\n",
       "      <td>2016</td>\n",
       "      <td>1</td>\n",
       "      <td>749.53</td>\n",
       "      <td>201601</td>\n",
       "    </tr>\n",
       "    <tr>\n",
       "      <th>3</th>\n",
       "      <td>2146</td>\n",
       "      <td>2016</td>\n",
       "      <td>2</td>\n",
       "      <td>797.86</td>\n",
       "      <td>201602</td>\n",
       "    </tr>\n",
       "    <tr>\n",
       "      <th>4</th>\n",
       "      <td>2146</td>\n",
       "      <td>2016</td>\n",
       "      <td>3</td>\n",
       "      <td>644.91</td>\n",
       "      <td>201603</td>\n",
       "    </tr>\n",
       "    <tr>\n",
       "      <th>5</th>\n",
       "      <td>2146</td>\n",
       "      <td>2016</td>\n",
       "      <td>4</td>\n",
       "      <td>1198.17</td>\n",
       "      <td>201604</td>\n",
       "    </tr>\n",
       "    <tr>\n",
       "      <th>6</th>\n",
       "      <td>2146</td>\n",
       "      <td>2016</td>\n",
       "      <td>5</td>\n",
       "      <td>1470.06</td>\n",
       "      <td>201605</td>\n",
       "    </tr>\n",
       "    <tr>\n",
       "      <th>7</th>\n",
       "      <td>2146</td>\n",
       "      <td>2016</td>\n",
       "      <td>6</td>\n",
       "      <td>679.02</td>\n",
       "      <td>201606</td>\n",
       "    </tr>\n",
       "    <tr>\n",
       "      <th>8</th>\n",
       "      <td>2146</td>\n",
       "      <td>2016</td>\n",
       "      <td>7</td>\n",
       "      <td>1306.01</td>\n",
       "      <td>201607</td>\n",
       "    </tr>\n",
       "    <tr>\n",
       "      <th>9</th>\n",
       "      <td>2146</td>\n",
       "      <td>2016</td>\n",
       "      <td>8</td>\n",
       "      <td>1291.61</td>\n",
       "      <td>201608</td>\n",
       "    </tr>\n",
       "    <tr>\n",
       "      <th>10</th>\n",
       "      <td>2146</td>\n",
       "      <td>2016</td>\n",
       "      <td>9</td>\n",
       "      <td>1117.57</td>\n",
       "      <td>201609</td>\n",
       "    </tr>\n",
       "    <tr>\n",
       "      <th>11</th>\n",
       "      <td>2146</td>\n",
       "      <td>2016</td>\n",
       "      <td>10</td>\n",
       "      <td>1268.86</td>\n",
       "      <td>201610</td>\n",
       "    </tr>\n",
       "    <tr>\n",
       "      <th>12</th>\n",
       "      <td>2146</td>\n",
       "      <td>2016</td>\n",
       "      <td>11</td>\n",
       "      <td>1413.96</td>\n",
       "      <td>201611</td>\n",
       "    </tr>\n",
       "    <tr>\n",
       "      <th>13</th>\n",
       "      <td>2146</td>\n",
       "      <td>2016</td>\n",
       "      <td>12</td>\n",
       "      <td>1225.35</td>\n",
       "      <td>201612</td>\n",
       "    </tr>\n",
       "    <tr>\n",
       "      <th>14</th>\n",
       "      <td>2146</td>\n",
       "      <td>2017</td>\n",
       "      <td>1</td>\n",
       "      <td>1063.81</td>\n",
       "      <td>201701</td>\n",
       "    </tr>\n",
       "  </tbody>\n",
       "</table>\n",
       "</div>"
      ],
      "text/plain": [
       "    idadvertiser  csr_year  csr_month    spend  timestamp\n",
       "0            369      2016          3   101.34     201603\n",
       "1            369      2016          4    18.66     201604\n",
       "2           2146      2016          1   749.53     201601\n",
       "3           2146      2016          2   797.86     201602\n",
       "4           2146      2016          3   644.91     201603\n",
       "5           2146      2016          4  1198.17     201604\n",
       "6           2146      2016          5  1470.06     201605\n",
       "7           2146      2016          6   679.02     201606\n",
       "8           2146      2016          7  1306.01     201607\n",
       "9           2146      2016          8  1291.61     201608\n",
       "10          2146      2016          9  1117.57     201609\n",
       "11          2146      2016         10  1268.86     201610\n",
       "12          2146      2016         11  1413.96     201611\n",
       "13          2146      2016         12  1225.35     201612\n",
       "14          2146      2017          1  1063.81     201701"
      ]
     },
     "execution_count": 127,
     "metadata": {},
     "output_type": "execute_result"
    }
   ],
   "source": [
    "sub_df.head(15)"
   ]
  },
  {
   "cell_type": "code",
   "execution_count": 131,
   "metadata": {},
   "outputs": [
    {
     "data": {
      "text/html": [
       "<div>\n",
       "<style scoped>\n",
       "    .dataframe tbody tr th:only-of-type {\n",
       "        vertical-align: middle;\n",
       "    }\n",
       "\n",
       "    .dataframe tbody tr th {\n",
       "        vertical-align: top;\n",
       "    }\n",
       "\n",
       "    .dataframe thead th {\n",
       "        text-align: right;\n",
       "    }\n",
       "</style>\n",
       "<table border=\"1\" class=\"dataframe\">\n",
       "  <thead>\n",
       "    <tr style=\"text-align: right;\">\n",
       "      <th></th>\n",
       "      <th>idadvertiser</th>\n",
       "      <th>csr_year</th>\n",
       "    </tr>\n",
       "  </thead>\n",
       "  <tbody>\n",
       "    <tr>\n",
       "      <th>0</th>\n",
       "      <td>369</td>\n",
       "      <td>2016</td>\n",
       "    </tr>\n",
       "    <tr>\n",
       "      <th>1</th>\n",
       "      <td>2146</td>\n",
       "      <td>2017</td>\n",
       "    </tr>\n",
       "    <tr>\n",
       "      <th>2</th>\n",
       "      <td>2295</td>\n",
       "      <td>2017</td>\n",
       "    </tr>\n",
       "    <tr>\n",
       "      <th>3</th>\n",
       "      <td>2467</td>\n",
       "      <td>2016</td>\n",
       "    </tr>\n",
       "    <tr>\n",
       "      <th>4</th>\n",
       "      <td>3281</td>\n",
       "      <td>2016</td>\n",
       "    </tr>\n",
       "  </tbody>\n",
       "</table>\n",
       "</div>"
      ],
      "text/plain": [
       "   idadvertiser  csr_year\n",
       "0           369      2016\n",
       "1          2146      2017\n",
       "2          2295      2017\n",
       "3          2467      2016\n",
       "4          3281      2016"
      ]
     },
     "execution_count": 131,
     "metadata": {},
     "output_type": "execute_result"
    }
   ],
   "source": [
    "sub_df.groupby(by=['idadvertiser'], as_index=False).agg({'csr_year':'min', 'csr_year':'max'}, as_index=False).head()"
   ]
  },
  {
   "cell_type": "markdown",
   "metadata": {},
   "source": [
    "### ----------------------------------"
   ]
  },
  {
   "cell_type": "code",
   "execution_count": 54,
   "metadata": {},
   "outputs": [
    {
     "data": {
      "text/html": [
       "<div>\n",
       "<style scoped>\n",
       "    .dataframe tbody tr th:only-of-type {\n",
       "        vertical-align: middle;\n",
       "    }\n",
       "\n",
       "    .dataframe tbody tr th {\n",
       "        vertical-align: top;\n",
       "    }\n",
       "\n",
       "    .dataframe thead th {\n",
       "        text-align: right;\n",
       "    }\n",
       "</style>\n",
       "<table border=\"1\" class=\"dataframe\">\n",
       "  <thead>\n",
       "    <tr style=\"text-align: right;\">\n",
       "      <th></th>\n",
       "      <th>adv_change_type</th>\n",
       "      <th>advertiser_state</th>\n",
       "    </tr>\n",
       "  </thead>\n",
       "  <tbody>\n",
       "    <tr>\n",
       "      <th>555133</th>\n",
       "      <td>Churn</td>\n",
       "      <td>FL</td>\n",
       "    </tr>\n",
       "    <tr>\n",
       "      <th>555134</th>\n",
       "      <td>Churn</td>\n",
       "      <td>FL</td>\n",
       "    </tr>\n",
       "    <tr>\n",
       "      <th>555135</th>\n",
       "      <td>Churn</td>\n",
       "      <td>FL</td>\n",
       "    </tr>\n",
       "    <tr>\n",
       "      <th>555136</th>\n",
       "      <td>Churn</td>\n",
       "      <td>FL</td>\n",
       "    </tr>\n",
       "  </tbody>\n",
       "</table>\n",
       "</div>"
      ],
      "text/plain": [
       "       adv_change_type advertiser_state\n",
       "555133           Churn               FL\n",
       "555134           Churn               FL\n",
       "555135           Churn               FL\n",
       "555136           Churn               FL"
      ]
     },
     "execution_count": 54,
     "metadata": {},
     "output_type": "execute_result"
    }
   ],
   "source": [
    "df[(df['adv_change_type']=='Churn') & (df['idcampaign_master']==2140758)][['adv_change_type', 'advertiser_state']]"
   ]
  },
  {
   "cell_type": "code",
   "execution_count": 8,
   "metadata": {},
   "outputs": [],
   "source": [
    "# bundle based on state\n",
    "state_counts=df.groupby(['idcampaign_master','advertiser_state']).count().index.get_level_values(level=1).value_counts()\n",
    "\n",
    "# bundle based on business category\n",
    "bc_counts=df.groupby(['idcampaign_master','business_category']).count().index.get_level_values(level=1).value_counts()\n",
    "\n",
    "# bundle based on business subcategory\n",
    "bsc_counts=df.groupby(['idcampaign_master','business_subcategory']).count().index.get_level_values(level=1).value_counts()"
   ]
  },
  {
   "cell_type": "code",
   "execution_count": 9,
   "metadata": {},
   "outputs": [],
   "source": [
    "temp=df[['idcampaign_master','campaign_budget']].sort_values(by=['idcampaign_master'])['idcampaign_master'].value_counts()"
   ]
  },
  {
   "cell_type": "code",
   "execution_count": 125,
   "metadata": {},
   "outputs": [],
   "source": [
    "#temp=df_s[['idcampaign_master','campaign_budget']].sort_values(by=['idcampaign_master'])"
   ]
  },
  {
   "cell_type": "code",
   "execution_count": 129,
   "metadata": {},
   "outputs": [
    {
     "data": {
      "text/plain": [
       "2460156    5\n",
       "2287723    5\n",
       "2463130    5\n",
       "1920788    5\n",
       "1899908    5\n",
       "Name: idcampaign_master, dtype: int64"
      ]
     },
     "execution_count": 129,
     "metadata": {},
     "output_type": "execute_result"
    }
   ],
   "source": [
    "temp[temp==5][0:5]"
   ]
  },
  {
   "cell_type": "code",
   "execution_count": 10,
   "metadata": {},
   "outputs": [],
   "source": [
    "temp=df[['idcampaign_master','campaign_budget']].sort_values(by=['idcampaign_master'])"
   ]
  },
  {
   "cell_type": "code",
   "execution_count": 11,
   "metadata": {},
   "outputs": [
    {
     "data": {
      "text/html": [
       "<div>\n",
       "<style scoped>\n",
       "    .dataframe tbody tr th:only-of-type {\n",
       "        vertical-align: middle;\n",
       "    }\n",
       "\n",
       "    .dataframe tbody tr th {\n",
       "        vertical-align: top;\n",
       "    }\n",
       "\n",
       "    .dataframe thead th {\n",
       "        text-align: right;\n",
       "    }\n",
       "</style>\n",
       "<table border=\"1\" class=\"dataframe\">\n",
       "  <thead>\n",
       "    <tr style=\"text-align: right;\">\n",
       "      <th></th>\n",
       "      <th>idcampaign_master</th>\n",
       "      <th>campaign_budget</th>\n",
       "    </tr>\n",
       "  </thead>\n",
       "  <tbody>\n",
       "    <tr>\n",
       "      <th>758996</th>\n",
       "      <td>2460156</td>\n",
       "      <td>99.0</td>\n",
       "    </tr>\n",
       "    <tr>\n",
       "      <th>761567</th>\n",
       "      <td>2460156</td>\n",
       "      <td>99.0</td>\n",
       "    </tr>\n",
       "    <tr>\n",
       "      <th>758997</th>\n",
       "      <td>2460156</td>\n",
       "      <td>99.0</td>\n",
       "    </tr>\n",
       "    <tr>\n",
       "      <th>761568</th>\n",
       "      <td>2460156</td>\n",
       "      <td>99.0</td>\n",
       "    </tr>\n",
       "    <tr>\n",
       "      <th>761569</th>\n",
       "      <td>2460156</td>\n",
       "      <td>99.0</td>\n",
       "    </tr>\n",
       "  </tbody>\n",
       "</table>\n",
       "</div>"
      ],
      "text/plain": [
       "        idcampaign_master  campaign_budget\n",
       "758996            2460156             99.0\n",
       "761567            2460156             99.0\n",
       "758997            2460156             99.0\n",
       "761568            2460156             99.0\n",
       "761569            2460156             99.0"
      ]
     },
     "execution_count": 11,
     "metadata": {},
     "output_type": "execute_result"
    }
   ],
   "source": [
    "temp[temp.idcampaign_master==2460156]"
   ]
  },
  {
   "cell_type": "markdown",
   "metadata": {},
   "source": [
    "### It looks like campaigns within the same campaign_master_id all have the same budget!"
   ]
  },
  {
   "cell_type": "code",
   "execution_count": null,
   "metadata": {},
   "outputs": [],
   "source": []
  }
 ],
 "metadata": {
  "kernelspec": {
   "display_name": "Python 3",
   "language": "python",
   "name": "python3"
  },
  "language_info": {
   "codemirror_mode": {
    "name": "ipython",
    "version": 3
   },
   "file_extension": ".py",
   "mimetype": "text/x-python",
   "name": "python",
   "nbconvert_exporter": "python",
   "pygments_lexer": "ipython3",
   "version": "3.7.0"
  }
 },
 "nbformat": 4,
 "nbformat_minor": 2
}
