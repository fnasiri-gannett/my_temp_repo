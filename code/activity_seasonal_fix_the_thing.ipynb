{
 "cells": [
  {
   "cell_type": "code",
   "execution_count": 79,
   "metadata": {},
   "outputs": [],
   "source": [
    "import pandas as pd\n",
    "import numpy as np\n",
    "import matplotlib.pyplot as plt\n",
    "#import sys\n",
    "#import os\n",
    "#import seaborn as sns\n",
    "import warnings\n",
    "warnings.filterwarnings('ignore')"
   ]
  },
  {
   "cell_type": "code",
   "execution_count": 2,
   "metadata": {},
   "outputs": [],
   "source": [
    "df=pd.read_csv('../data/us_CID_activity_2014_2017.csv') # Read the data"
   ]
  },
  {
   "cell_type": "code",
   "execution_count": 3,
   "metadata": {},
   "outputs": [],
   "source": [
    "#df.head() # Take a quick look"
   ]
  },
  {
   "cell_type": "code",
   "execution_count": 4,
   "metadata": {},
   "outputs": [
    {
     "data": {
      "text/plain": [
       "(887709, 52)"
      ]
     },
     "execution_count": 4,
     "metadata": {},
     "output_type": "execute_result"
    }
   ],
   "source": [
    "df.shape # Check out the size"
   ]
  },
  {
   "cell_type": "code",
   "execution_count": 5,
   "metadata": {},
   "outputs": [],
   "source": [
    "#df.columns # Check out the columns"
   ]
  },
  {
   "cell_type": "code",
   "execution_count": 6,
   "metadata": {},
   "outputs": [
    {
     "data": {
      "text/plain": [
       "array(['USA', nan], dtype=object)"
      ]
     },
     "execution_count": 6,
     "metadata": {},
     "output_type": "execute_result"
    }
   ],
   "source": [
    "df.Country.unique() # Given that this is the US data, the NaNs are USA as well"
   ]
  },
  {
   "cell_type": "code",
   "execution_count": 7,
   "metadata": {},
   "outputs": [
    {
     "data": {
      "text/plain": [
       "array(['USD', nan], dtype=object)"
      ]
     },
     "execution_count": 7,
     "metadata": {},
     "output_type": "execute_result"
    }
   ],
   "source": [
    "df.Currency.unique() # Given that this is the US data, the NaNs are USD as well"
   ]
  },
  {
   "cell_type": "code",
   "execution_count": 8,
   "metadata": {},
   "outputs": [
    {
     "data": {
      "text/plain": [
       "array(['Partner', 'DirectLocal', 'National', 'Deals', nan], dtype=object)"
      ]
     },
     "execution_count": 8,
     "metadata": {},
     "output_type": "execute_result"
    }
   ],
   "source": [
    "df.Channel.unique() # Need to figure out what to do with NaNs"
   ]
  },
  {
   "cell_type": "code",
   "execution_count": 9,
   "metadata": {},
   "outputs": [],
   "source": [
    "df.drop(columns=['Country', 'Currency', 'Advertiser_URL'], axis=1, inplace=True) # Useless data in this context\n",
    "df.reset_index(inplace=True,drop=True)"
   ]
  },
  {
   "cell_type": "code",
   "execution_count": 10,
   "metadata": {
    "scrolled": true
   },
   "outputs": [],
   "source": [
    "#df.dtypes # Check the data types"
   ]
  },
  {
   "cell_type": "code",
   "execution_count": 11,
   "metadata": {},
   "outputs": [
    {
     "data": {
      "text/plain": [
       "array(['Radius', 'Country', 'Metro', 'City', 'PostCode'], dtype=object)"
      ]
     },
     "execution_count": 11,
     "metadata": {},
     "output_type": "execute_result"
    }
   ],
   "source": [
    "df.TargetType.unique() # What's this column?"
   ]
  },
  {
   "cell_type": "code",
   "execution_count": 12,
   "metadata": {},
   "outputs": [],
   "source": [
    "#df.describe().T # Let's get a feel for the data --> There are campaign budgets equal to zero!"
   ]
  },
  {
   "cell_type": "code",
   "execution_count": 13,
   "metadata": {},
   "outputs": [],
   "source": [
    "# Drop the \"unnecessary\" columns (for now)\n",
    "\n",
    "df.drop(columns=['BC_ID','BusinessCategory', 'Primary_BSC_ID', 'Primary_BusinessSubCategory',\n",
    "                'Secondary_BSC_Count','Secondary_BSC_IDs','Seconardy_BSCs','BusinessSpecialtyID',\n",
    "                'BusinessSpecialty'], axis=1, inplace=True)\n",
    "df.reset_index(inplace=True,drop=True)"
   ]
  },
  {
   "cell_type": "markdown",
   "metadata": {},
   "source": [
    "## Let's look at the fishy stuff."
   ]
  },
  {
   "cell_type": "code",
   "execution_count": 14,
   "metadata": {},
   "outputs": [
    {
     "name": "stdout",
     "output_type": "stream",
     "text": [
      "True\n"
     ]
    },
    {
     "data": {
      "text/plain": [
       "18545"
      ]
     },
     "execution_count": 14,
     "metadata": {},
     "output_type": "execute_result"
    }
   ],
   "source": [
    "# CPL an CTL have exactly the same number of missing values. Check and see if this is because of the \n",
    "# product type.\n",
    "\n",
    "# Check to see if they're are missing at the exact same locations:\n",
    "\n",
    "print( (((np.isnan(df.CTL)) & (np.isnan(df.CPL))).sum()) == df.CTL.isna().sum() )\n",
    "\n",
    "temp=df[['idadvertiser_master', 'idOffer', 'Offer_Name','CPL', 'CTL']]\n",
    "\n",
    "temp[np.isnan(temp.CTL)]['idadvertiser_master'].nunique()\n"
   ]
  },
  {
   "cell_type": "code",
   "execution_count": 15,
   "metadata": {},
   "outputs": [
    {
     "data": {
      "text/plain": [
       "38042"
      ]
     },
     "execution_count": 15,
     "metadata": {},
     "output_type": "execute_result"
    }
   ],
   "source": [
    "df.idadvertiser_master.nunique()"
   ]
  },
  {
   "cell_type": "code",
   "execution_count": 16,
   "metadata": {},
   "outputs": [],
   "source": [
    "# Quite a lot of the data is missing from CPL and CLT. For about half of the \n",
    "# advertisers, this data is missing. Check what they are. For the time \n",
    "# being let's drop them. Same thing with CPC and CTR"
   ]
  },
  {
   "cell_type": "code",
   "execution_count": 17,
   "metadata": {},
   "outputs": [],
   "source": [
    "df.drop(columns=['CTL', 'CPL','CPC', 'CTR'], axis=1, inplace=True)\n",
    "df.reset_index(inplace=True,drop=True)"
   ]
  },
  {
   "cell_type": "code",
   "execution_count": 18,
   "metadata": {},
   "outputs": [],
   "source": [
    "#df.isna().sum()"
   ]
  },
  {
   "cell_type": "code",
   "execution_count": 19,
   "metadata": {},
   "outputs": [],
   "source": [
    "# Dealing with Offer, Finance Product, idOffer (There are only a few of them?)\n",
    "\n",
    "missing_offer_ids=df[df.Offer_Name.isna()]['idadvertiser_master'].unique()\n",
    "\n",
    "# Check to see if their are missing at the exact same locations:\n",
    "\n",
    "df=df[~df.idadvertiser_master.isin(missing_offer_ids)]\n",
    "df.reset_index(inplace=True,drop=True)"
   ]
  },
  {
   "cell_type": "code",
   "execution_count": 20,
   "metadata": {
    "scrolled": false
   },
   "outputs": [],
   "source": [
    "#df.isna().sum()"
   ]
  },
  {
   "cell_type": "code",
   "execution_count": 21,
   "metadata": {},
   "outputs": [],
   "source": [
    "# Create a duration column. For missing values, one option is to replace with the average \n",
    "# campaign duration of a given advertiser--> Local!\n",
    "# However we're not sure why the cycle is missing an end date. Is that churn?\n",
    "df['Cycle_Started']=pd.to_datetime(df.Cycle_Started, format='%Y-%m-%d',  errors='ignore')\n",
    "df['Cycle_Ended']=pd.to_datetime(df.Cycle_Ended, format='%Y-%m-%d',  errors='ignore')\n",
    "\n",
    "my_index=df[df['Cycle_Ended'] < df['Cycle_Started']].index\n",
    "\n",
    "temp=df.loc[my_index, 'Cycle_Ended']\n",
    "\n",
    "df.loc[my_index, 'Cycle_Ended'] = df.loc[my_index, 'Cycle_Started']\n",
    "\n",
    "df.loc[my_index, 'Cycle_Started']=temp\n",
    "\n",
    "\n",
    "df.reset_index(inplace=True,drop=True)\n",
    "df['cycle_duration']=pd.to_timedelta(df['Cycle_Ended']-df['Cycle_Started']).astype('timedelta64[D]')"
   ]
  },
  {
   "cell_type": "code",
   "execution_count": 22,
   "metadata": {},
   "outputs": [],
   "source": [
    "#df[np.isnan(df.cycle_duration)][['idadvertiser', 'campaign_budget','Cycle_Started', 'Cycle_Ended','cycle_duration']]"
   ]
  },
  {
   "cell_type": "code",
   "execution_count": 23,
   "metadata": {},
   "outputs": [],
   "source": [
    "df.reset_index(inplace=True,drop=True)"
   ]
  },
  {
   "cell_type": "markdown",
   "metadata": {},
   "source": [
    "There are campaigns for which duration is NaN but it's because the campaign started on 2017-12-31 and that's the cut off for the dataset. Let's drop those."
   ]
  },
  {
   "cell_type": "code",
   "execution_count": 24,
   "metadata": {},
   "outputs": [],
   "source": [
    "# Get rid of the campaigns with zero budget and those starting at the end of the year.\n",
    "df=df[~(df.campaign_budget==0)]\n",
    "df=df[~(df.campaign_budget < 1)]\n",
    "\n",
    "df=df[~(df.Cycle_Started==pd.to_datetime('2017-12-31 00:00:00'))]\n",
    "\n",
    "df.reset_index(inplace=True,drop=True)"
   ]
  },
  {
   "cell_type": "code",
   "execution_count": 25,
   "metadata": {},
   "outputs": [
    {
     "data": {
      "text/plain": [
       "2"
      ]
     },
     "execution_count": 25,
     "metadata": {},
     "output_type": "execute_result"
    }
   ],
   "source": [
    "df[pd.isnull(df.Cycle_Started)]['idadvertiser_master'].nunique() # Two master_adv_ids don't have a start date. Drop."
   ]
  },
  {
   "cell_type": "code",
   "execution_count": 26,
   "metadata": {},
   "outputs": [],
   "source": [
    "ids=df[pd.isnull(df.Cycle_Started)]['idadvertiser_master'].unique()\n",
    "\n",
    "df=df[~(df.idadvertiser_master.isin(ids))]\n",
    "\n",
    "df.reset_index(inplace=True,drop=True)"
   ]
  },
  {
   "cell_type": "code",
   "execution_count": 27,
   "metadata": {},
   "outputs": [
    {
     "data": {
      "text/plain": [
       "15.265992167101828"
      ]
     },
     "execution_count": 27,
     "metadata": {},
     "output_type": "execute_result"
    }
   ],
   "source": [
    "df[pd.isnull(df.Cycle_Ended)]['idadvertiser_master'].nunique()/df.idadvertiser_master.nunique()*100\n",
    "\n",
    "# 15% of the master_adv_ids have campaigns in them. Too much of the data. We need to impute this."
   ]
  },
  {
   "cell_type": "code",
   "execution_count": 28,
   "metadata": {},
   "outputs": [],
   "source": [
    "duration_mode=df.cycle_duration.mode() # Mode is 30. Let's impute the duration with this\n",
    "\n",
    "#my_index=df[pd.isnull(df.cycle_duration)].index\n",
    "#df.loc[my_index, 'cycle_duration']=duration_mode\n",
    "\n",
    "df['cycle_duration'].fillna(duration_mode[0], inplace=True)\n",
    "\n",
    "# Now reconstruct the end dates\n",
    "my_index=df[pd.isnull(df.Cycle_Ended)].index\n",
    "df.loc[my_index, 'Cycle_Ended']=df.loc[my_index, 'Cycle_Started']+pd.to_timedelta(str(duration_mode[0])+'D')\n"
   ]
  },
  {
   "cell_type": "code",
   "execution_count": null,
   "metadata": {},
   "outputs": [],
   "source": []
  },
  {
   "cell_type": "code",
   "execution_count": null,
   "metadata": {},
   "outputs": [],
   "source": []
  },
  {
   "cell_type": "code",
   "execution_count": null,
   "metadata": {},
   "outputs": [],
   "source": []
  },
  {
   "cell_type": "code",
   "execution_count": null,
   "metadata": {},
   "outputs": [],
   "source": []
  },
  {
   "cell_type": "code",
   "execution_count": 120,
   "metadata": {},
   "outputs": [],
   "source": [
    "# Sort my master_adv_id and cycle start date then reset the main index.\n",
    "# It's possible to do this with adv_id\n",
    "#df.sort_values(by=['idadvertiser_master','Cycle_Started'])\n",
    "df.reset_index(drop=True, inplace=True)\n",
    "# Trim down the dataframe\n",
    "temp=df[['idadvertiser_master','idadvertiser','Cycle_Started','Cycle_Ended','cycle_duration']]\n",
    "# Find unique ids \n",
    "adv_ids=temp.idadvertiser_master.unique()\n",
    "\n",
    "# Create additional columns\n",
    "temp['delta']=0.0\n",
    "temp['summation']=0.0\n",
    "\n",
    "from sklearn.linear_model import LinearRegression\n",
    "mdl=LinearRegression(n_jobs=4)\n",
    "\n",
    "threshold = 0.001\n",
    "\n",
    "seasonal=[]\n",
    "period=[]\n",
    "# Loop over ids\n",
    "for idd in adv_ids[0:100]:\n",
    "    subset = temp[temp.idadvertiser_master==idd]\n",
    "    subset.sort_values(by=['idadvertiser_master','Cycle_Started'],inplace=True)\n",
    "    subset.reset_index(drop=True, inplace=True)\n",
    "    \n",
    "    if subset.shape[0]<2:\n",
    "        seasonal.append(0)\n",
    "        period.append(0)\n",
    "    else:\n",
    "    \n",
    "        # Separating start and end\n",
    "        start = subset.Cycle_Started\n",
    "        end = subset.Cycle_Ended\n",
    "\n",
    "        end_shift = end\n",
    "        end_shift[1:]=end[0:-1]\n",
    "\n",
    "        delta = start-end_shift\n",
    "        subset['delta']=0.0\n",
    "        for i in range(0,subset.shape[0]):\n",
    "            subset.loc[i,'delta']=delta.iloc[i].days\n",
    "\n",
    "        subset.loc[0,'delta']=0\n",
    "\n",
    "        #subset['delta']=delta\n",
    "        subset['summation']=subset['cycle_duration']+subset['delta']\n",
    "\n",
    "        # Create the time series\n",
    "\n",
    "        time_series= np.ones((1,int(subset['summation'].sum())))\n",
    "        pivot = 0\n",
    "        for i in range(0,subset.shape[0]):\n",
    "            if subset.loc[i,'delta'] > 0:\n",
    "                start_index=int(subset.loc[0:i,'summation'].sum() )\n",
    "                end_index=start_index+int( subset.loc[i,'delta'] )\n",
    "                time_series[0][start_index:end_index]=0\n",
    "                pivot=i\n",
    "\n",
    "        # Next largest power of 2        \n",
    "        nfft=1<<(time_series.shape[1]-1).bit_length()\n",
    "\n",
    "        y=np.fft.fft(time_series, n=nfft)\n",
    "        y=abs(y**2)\n",
    "        y=(y-y.min())\n",
    "        y=y/y.max()\n",
    "\n",
    "        period_ts=(np.linspace(1,nfft+1,int(nfft/2)) *1/float(nfft))\n",
    "        period_ts=1/period_ts\n",
    "        period_ts=period_ts[1:]\n",
    "        period_ts=period_ts[::-1]\n",
    "        period_ts=period_ts.reshape(1,-1).T\n",
    "        \n",
    "        y=y[0][1:int(nfft/2)].reshape(1,-1).T\n",
    "        \n",
    "        mdl.fit(period_ts, y)\n",
    "               \n",
    "        if (mdl.coef_ > threshold): \n",
    "            seasonal.append(1)\n",
    "            period.append(period_ts( np.argmax(y) ))\n",
    "        else:\n",
    "            seasonal.append(0)\n",
    "            period.append(0.0)"
   ]
  },
  {
   "cell_type": "code",
   "execution_count": 119,
   "metadata": {},
   "outputs": [
    {
     "data": {
      "text/plain": [
       "[0,\n",
       " 0,\n",
       " 0,\n",
       " 0,\n",
       " 0,\n",
       " 0,\n",
       " 0,\n",
       " 0,\n",
       " 0,\n",
       " 0,\n",
       " 0,\n",
       " 0,\n",
       " 0,\n",
       " 0,\n",
       " 0,\n",
       " 0,\n",
       " 0,\n",
       " 0,\n",
       " 0,\n",
       " 0,\n",
       " 0,\n",
       " 0,\n",
       " 0,\n",
       " 0,\n",
       " 0,\n",
       " 0,\n",
       " 0,\n",
       " 0,\n",
       " 0,\n",
       " 0,\n",
       " 0,\n",
       " 0,\n",
       " 0,\n",
       " 0,\n",
       " 0,\n",
       " 0,\n",
       " 0,\n",
       " 0,\n",
       " 0,\n",
       " 0,\n",
       " 0,\n",
       " 0,\n",
       " 0,\n",
       " 0,\n",
       " 0,\n",
       " 0,\n",
       " 0,\n",
       " 0,\n",
       " 0,\n",
       " 0,\n",
       " 0,\n",
       " 0,\n",
       " 0,\n",
       " 0,\n",
       " 0,\n",
       " 0,\n",
       " 0,\n",
       " 0,\n",
       " 0,\n",
       " 0,\n",
       " 0,\n",
       " 0,\n",
       " 0,\n",
       " 0,\n",
       " 0,\n",
       " 0,\n",
       " 0,\n",
       " 0,\n",
       " 0,\n",
       " 0,\n",
       " 0,\n",
       " 0,\n",
       " 0,\n",
       " 0,\n",
       " 0,\n",
       " 0,\n",
       " 0,\n",
       " 0,\n",
       " 0,\n",
       " 0,\n",
       " 0,\n",
       " 0,\n",
       " 0,\n",
       " 0,\n",
       " 0,\n",
       " 0,\n",
       " 0,\n",
       " 0,\n",
       " 0,\n",
       " 0,\n",
       " 0,\n",
       " 0,\n",
       " 0,\n",
       " 0,\n",
       " 0,\n",
       " 0,\n",
       " 0,\n",
       " 0,\n",
       " 0,\n",
       " 0]"
      ]
     },
     "execution_count": 119,
     "metadata": {},
     "output_type": "execute_result"
    }
   ],
   "source": [
    "seasonal"
   ]
  },
  {
   "cell_type": "code",
   "execution_count": 59,
   "metadata": {},
   "outputs": [
    {
     "data": {
      "text/plain": [
       "[0]"
      ]
     },
     "execution_count": 59,
     "metadata": {},
     "output_type": "execute_result"
    }
   ],
   "source": [
    "seasonal"
   ]
  },
  {
   "cell_type": "code",
   "execution_count": 60,
   "metadata": {},
   "outputs": [
    {
     "data": {
      "text/plain": [
       "[0.0]"
      ]
     },
     "execution_count": 60,
     "metadata": {},
     "output_type": "execute_result"
    }
   ],
   "source": [
    "period"
   ]
  },
  {
   "cell_type": "code",
   "execution_count": 31,
   "metadata": {},
   "outputs": [],
   "source": [
    "#time_series=np.array([[1,1,1,1,0,0,0,1,1,1,1,0,0,0,1,1,1,1,0,0,0,1,1,1,1]])\n",
    "sz=100\n",
    "time_series=np.array([[1,0,0,0,0,0,0,0,0,0,0,0,0,0,0,0,0,0,1,0,0,0,0,1,1]])\n",
    "\n",
    "time_series=np.random.choice([0, 1], size=(1,sz))\n",
    "\n",
    "x=np.arange(0,sz)\n",
    "x=x.reshape(1,-1)\n",
    "#time_series=np.random.uniform(low=0, high=1, size=1000) #-.5\n",
    "#time_series=np.array([time_series >= 0.5 ])-0.5\n",
    "\n",
    "#time_series"
   ]
  },
  {
   "cell_type": "code",
   "execution_count": 32,
   "metadata": {},
   "outputs": [
    {
     "data": {
      "text/plain": [
       "[<matplotlib.lines.Line2D at 0x1abf2a063c8>]"
      ]
     },
     "execution_count": 32,
     "metadata": {},
     "output_type": "execute_result"
    },
    {
     "data": {
      "image/png": "[encoded data removed]",
      "text/plain": [
       "<Figure size 432x288 with 1 Axes>"
      ]
     },
     "metadata": {
      "needs_background": "light"
     },
     "output_type": "display_data"
    }
   ],
   "source": [
    "plt.plot(x[0], time_series[0])"
   ]
  },
  {
   "cell_type": "code",
   "execution_count": 33,
   "metadata": {},
   "outputs": [],
   "source": [
    "nfft=1<<(time_series.shape[1]-1).bit_length()"
   ]
  },
  {
   "cell_type": "code",
   "execution_count": 34,
   "metadata": {},
   "outputs": [
    {
     "data": {
      "text/plain": [
       "128"
      ]
     },
     "execution_count": 34,
     "metadata": {},
     "output_type": "execute_result"
    }
   ],
   "source": [
    "nfft"
   ]
  },
  {
   "cell_type": "code",
   "execution_count": 80,
   "metadata": {},
   "outputs": [],
   "source": [
    "y=np.fft.fft(time_series[0], n=nfft)\n",
    "y=abs(y**2)\n",
    "y=(y-y.min())\n",
    "y=y/y.max()\n",
    "\n",
    "freq_range=np.linspace(0,nfft/2,nfft/2)*1/nfft\n",
    "\n",
    "#s, p  = sts.kstest(y[1:int(nfft/2)], 'uniform')\n",
    "\n",
    "#y=(y-y.min())\n",
    "#y=y/y.max()"
   ]
  },
  {
   "cell_type": "code",
   "execution_count": 84,
   "metadata": {},
   "outputs": [
    {
     "data": {
      "text/plain": [
       "array([  2.        ,   2.03225806,   2.06557377,   2.1       ,\n",
       "         2.13559322,   2.17241379,   2.21052632,   2.25      ,\n",
       "         2.29090909,   2.33333333,   2.37735849,   2.42307692,\n",
       "         2.47058824,   2.52      ,   2.57142857,   2.625     ,\n",
       "         2.68085106,   2.73913043,   2.8       ,   2.86363636,\n",
       "         2.93023256,   3.        ,   3.07317073,   3.15      ,\n",
       "         3.23076923,   3.31578947,   3.40540541,   3.5       ,\n",
       "         3.6       ,   3.70588235,   3.81818182,   3.9375    ,\n",
       "         4.06451613,   4.2       ,   4.34482759,   4.5       ,\n",
       "         4.66666667,   4.84615385,   5.04      ,   5.25      ,\n",
       "         5.47826087,   5.72727273,   6.        ,   6.3       ,\n",
       "         6.63157895,   7.        ,   7.41176471,   7.875     ,\n",
       "         8.4       ,   9.        ,   9.69230769,  10.5       ,\n",
       "        11.45454545,  12.6       ,  14.        ,  15.75      ,\n",
       "        18.        ,  21.        ,  25.2       ,  31.5       ,\n",
       "        42.        ,  63.        , 126.        ,          inf])"
      ]
     },
     "execution_count": 84,
     "metadata": {},
     "output_type": "execute_result"
    }
   ],
   "source": [
    "(1/freq_range)[::-1]"
   ]
  },
  {
   "cell_type": "code",
   "execution_count": 36,
   "metadata": {},
   "outputs": [
    {
     "data": {
      "text/plain": [
       "0.0"
      ]
     },
     "execution_count": 36,
     "metadata": {},
     "output_type": "execute_result"
    }
   ],
   "source": [
    "np.argmax(y)/nfft"
   ]
  },
  {
   "cell_type": "code",
   "execution_count": 37,
   "metadata": {},
   "outputs": [],
   "source": [
    "y=np.array(y)\n",
    "y=y.reshape(1,-1)"
   ]
  },
  {
   "cell_type": "code",
   "execution_count": 39,
   "metadata": {},
   "outputs": [],
   "source": [
    "from sklearn.linear_model import LinearRegression"
   ]
  },
  {
   "cell_type": "code",
   "execution_count": 67,
   "metadata": {},
   "outputs": [],
   "source": [
    "new_x = np.array(range(0,y.shape[1])).reshape(1,-1)\n",
    "\n",
    "freq_range=(np.linspace(nfft/2,nfft,int(nfft/2)) *1/float(nfft))\n",
    "freq_range=1/freq_range"
   ]
  },
  {
   "cell_type": "code",
   "execution_count": 68,
   "metadata": {},
   "outputs": [
    {
     "data": {
      "text/plain": [
       "array([0.5       , 0.50793651, 0.51587302, 0.52380952, 0.53174603,\n",
       "       0.53968254, 0.54761905, 0.55555556, 0.56349206, 0.57142857,\n",
       "       0.57936508, 0.58730159, 0.5952381 , 0.6031746 , 0.61111111,\n",
       "       0.61904762, 0.62698413, 0.63492063, 0.64285714, 0.65079365,\n",
       "       0.65873016, 0.66666667, 0.67460317, 0.68253968, 0.69047619,\n",
       "       0.6984127 , 0.70634921, 0.71428571, 0.72222222, 0.73015873,\n",
       "       0.73809524, 0.74603175, 0.75396825, 0.76190476, 0.76984127,\n",
       "       0.77777778, 0.78571429, 0.79365079, 0.8015873 , 0.80952381,\n",
       "       0.81746032, 0.82539683, 0.83333333, 0.84126984, 0.84920635,\n",
       "       0.85714286, 0.86507937, 0.87301587, 0.88095238, 0.88888889,\n",
       "       0.8968254 , 0.9047619 , 0.91269841, 0.92063492, 0.92857143,\n",
       "       0.93650794, 0.94444444, 0.95238095, 0.96031746, 0.96825397,\n",
       "       0.97619048, 0.98412698, 0.99206349, 1.        ])"
      ]
     },
     "execution_count": 68,
     "metadata": {},
     "output_type": "execute_result"
    }
   ],
   "source": [
    "1/freq_range"
   ]
  },
  {
   "cell_type": "code",
   "execution_count": 69,
   "metadata": {},
   "outputs": [
    {
     "data": {
      "text/plain": [
       "(64,)"
      ]
     },
     "execution_count": 69,
     "metadata": {},
     "output_type": "execute_result"
    }
   ],
   "source": [
    "freq_range.shape"
   ]
  },
  {
   "cell_type": "code",
   "execution_count": 76,
   "metadata": {},
   "outputs": [],
   "source": [
    "y=y[0][int(nfft/2):]"
   ]
  },
  {
   "cell_type": "code",
   "execution_count": 41,
   "metadata": {},
   "outputs": [
    {
     "data": {
      "text/plain": [
       "(1, 128)"
      ]
     },
     "execution_count": 41,
     "metadata": {},
     "output_type": "execute_result"
    }
   ],
   "source": [
    "new_x.shape"
   ]
  },
  {
   "cell_type": "code",
   "execution_count": 77,
   "metadata": {
    "scrolled": true
   },
   "outputs": [
    {
     "data": {
      "text/plain": [
       "array([[-0.0084519]])"
      ]
     },
     "execution_count": 77,
     "metadata": {},
     "output_type": "execute_result"
    }
   ],
   "source": [
    "mdl=LinearRegression()\n",
    "mdl.fit(freq_range.reshape(1,-1).T, y.reshape(1,-1).T)\n",
    "#mdl.fit(np.array(range(0,y.shape[0])[0:int(nfft/2)]).reshape(1,-1).T, np.array(range(0,y.shape[0])[0:int(nfft/2)]).reshape(1,-1).T*2 )\n",
    "mdl.coef_"
   ]
  },
  {
   "cell_type": "code",
   "execution_count": 78,
   "metadata": {},
   "outputs": [
    {
     "data": {
      "text/plain": [
       "<matplotlib.collections.PathCollection at 0x1abe40716d8>"
      ]
     },
     "execution_count": 78,
     "metadata": {},
     "output_type": "execute_result"
    },
    {
     "data": {
      "image/png": "[encoded data removed]",
      "text/plain": [
       "<Figure size 432x288 with 1 Axes>"
      ]
     },
     "metadata": {
      "needs_background": "light"
     },
     "output_type": "display_data"
    }
   ],
   "source": [
    "#plt.bar(range(0,y.shape[1])[1:16], y[0][1:16], width=0.5)\n",
    "plt.scatter(freq_range, y)"
   ]
  },
  {
   "cell_type": "code",
   "execution_count": 317,
   "metadata": {},
   "outputs": [
    {
     "data": {
      "text/plain": [
       "0.035709128189077316"
      ]
     },
     "execution_count": 317,
     "metadata": {},
     "output_type": "execute_result"
    }
   ],
   "source": [
    "y[0][1:16].mean()"
   ]
  },
  {
   "cell_type": "code",
   "execution_count": 315,
   "metadata": {},
   "outputs": [
    {
     "name": "stderr",
     "output_type": "stream",
     "text": [
      "C:\\Users\\FNasiri\\AppData\\Local\\Continuum\\anaconda3\\lib\\site-packages\\ipykernel_launcher.py:1: RuntimeWarning: divide by zero encountered in true_divide\n",
      "  \"\"\"Entry point for launching an IPython kernel.\n",
      "C:\\Users\\FNasiri\\AppData\\Local\\Continuum\\anaconda3\\lib\\site-packages\\matplotlib\\transforms.py:443: RuntimeWarning: invalid value encountered in double_scalars\n",
      "  return (x0, y0, x1 - x0, y1 - y0)\n"
     ]
    },
    {
     "data": {
      "text/plain": [
       "<BarContainer object of 16 artists>"
      ]
     },
     "execution_count": 315,
     "metadata": {},
     "output_type": "execute_result"
    },
    {
     "data": {
      "image/png": "[encoded data removed]",
      "text/plain": [
       "<Figure size 432x288 with 1 Axes>"
      ]
     },
     "metadata": {
      "needs_background": "light"
     },
     "output_type": "display_data"
    }
   ],
   "source": [
    "plt.bar(1/freq_range, y[0][0:int(nfft/2)], width=0.5)\n",
    "#plt.xlim((0,64))\n",
    "#plt.ylim((0,200))"
   ]
  },
  {
   "cell_type": "code",
   "execution_count": 232,
   "metadata": {},
   "outputs": [
    {
     "data": {
      "text/plain": [
       "numpy.ndarray"
      ]
     },
     "execution_count": 232,
     "metadata": {},
     "output_type": "execute_result"
    }
   ],
   "source": [
    "type(y)"
   ]
  },
  {
   "cell_type": "code",
   "execution_count": 246,
   "metadata": {},
   "outputs": [
    {
     "data": {
      "text/plain": [
       "0.03425641566512311"
      ]
     },
     "execution_count": 246,
     "metadata": {},
     "output_type": "execute_result"
    }
   ],
   "source": [
    "y[0][1:].std()"
   ]
  },
  {
   "cell_type": "code",
   "execution_count": 247,
   "metadata": {},
   "outputs": [
    {
     "data": {
      "text/plain": [
       "0.03544676393282001"
      ]
     },
     "execution_count": 247,
     "metadata": {},
     "output_type": "execute_result"
    }
   ],
   "source": [
    "y[0][1:].mean()"
   ]
  },
  {
   "cell_type": "code",
   "execution_count": 156,
   "metadata": {},
   "outputs": [
    {
     "data": {
      "text/plain": [
       "1.0"
      ]
     },
     "execution_count": 156,
     "metadata": {},
     "output_type": "execute_result"
    }
   ],
   "source": [
    "y.max()"
   ]
  },
  {
   "cell_type": "code",
   "execution_count": 260,
   "metadata": {},
   "outputs": [
    {
     "data": {
      "text/plain": [
       "array([8.95664293e-05, 5.28435279e-01, 1.19418827e+00, 7.43812562e-01,\n",
       "       1.80361093e-04, 1.61597332e+00, 6.90634196e+00, 1.35423966e+01,\n",
       "       1.43997930e+02, 1.27374627e+01, 6.74964180e+00, 1.62377512e+00,\n",
       "       1.84885471e-04, 7.02704619e-01, 1.14878291e+00, 5.11141771e-01,\n",
       "       9.30565054e-05, 5.11141771e-01, 1.14878291e+00, 7.02704619e-01,\n",
       "       1.84885471e-04, 1.62377512e+00, 6.74964180e+00, 1.27374627e+01,\n",
       "       1.43997930e+02, 1.35423966e+01, 6.90634196e+00, 1.61597332e+00,\n",
       "       1.80361093e-04, 7.43812562e-01, 1.19418827e+00, 5.28435279e-01])"
      ]
     },
     "execution_count": 260,
     "metadata": {},
     "output_type": "execute_result"
    }
   ],
   "source": [
    "y"
   ]
  },
  {
   "cell_type": "code",
   "execution_count": 440,
   "metadata": {},
   "outputs": [
    {
     "name": "stderr",
     "output_type": "stream",
     "text": [
      "C:\\Users\\FNasiri\\AppData\\Local\\Continuum\\anaconda3\\lib\\site-packages\\mkl_fft\\_numpy_fft.py:158: FutureWarning: Using a non-tuple sequence for multidimensional indexing is deprecated; use `arr[tuple(seq)]` instead of `arr[seq]`. In the future this will be interpreted as an array index, `arr[np.array(seq)]`, which will result either in an error or a different result.\n",
      "  output = mkl_fft.fft(a, n, axis)\n"
     ]
    },
    {
     "data": {
      "text/plain": [
       "[<matplotlib.lines.Line2D at 0x12c02ab95f8>]"
      ]
     },
     "execution_count": 440,
     "metadata": {},
     "output_type": "execute_result"
    },
    {
     "data": {
      "image/png": "[encoded data removed]",
      "text/plain": [
       "<Figure size 432x288 with 1 Axes>"
      ]
     },
     "metadata": {
      "needs_background": "light"
     },
     "output_type": "display_data"
    },
    {
     "data": {
      "image/png": "[encoded data removed]",
      "text/plain": [
       "<Figure size 432x288 with 1 Axes>"
      ]
     },
     "metadata": {
      "needs_background": "light"
     },
     "output_type": "display_data"
    }
   ],
   "source": [
    "x=np.arange(0,25)\n",
    "x=np.sin(2*3.14*0.25*x)+np.sin(2*3.14*0.125*x) + \\\n",
    "  np.sin(2*3.14*0.0625*x)+np.sin(2*3.14*0.15*x)+ \\\n",
    "  np.sin(2*3.14*0.03*x)+np.sin(2*3.14*0.07*x)+ \\\n",
    "  np.sin(2*3.14*0.3*x)+np.sin(2*3.14*0.4*x)+ \\\n",
    "  np.sin(2*3.14*0.1*x)+np.sin(2*3.14*0.6*x)\n",
    "nfft=1<<(len(x)-1).bit_length()\n",
    "y=np.fft.fft(x, n=nfft)\n",
    "y=abs(y**2)\n",
    "#y=(y-y.min())\n",
    "#y=y/y.max()\n",
    "\n",
    "sss=[1.0,1.0,1.0,1.0,1.0,1.0,1.0,1.0,1.0,1.0,1.0,1.0,1.0,1.0,1.0,1.0,1.0,1.0,1.0,1.0,1.0,1.0,1.0,1.0,1.0]\n",
    "\n",
    "\n",
    "\n",
    "plt.figure(1)\n",
    "plt.plot(np.arange(0,25), x)\n",
    "\n",
    "\n",
    "plt.figure(2)\n",
    "plt.bar(range(0,len(y))[0:16], y[0:16], width=0.5)\n",
    "plt.plot(range(0,len(y))[0:16], np.array(sss[0:16])*(y[0:16].mean())  )\n",
    "plt.plot(range(0,len(y))[0:16], 2*np.array(sss[0:16])*(y[0:16].mean())  )"
   ]
  },
  {
   "cell_type": "code",
   "execution_count": 441,
   "metadata": {},
   "outputs": [
    {
     "data": {
      "text/plain": [
       "128.85572856005354"
      ]
     },
     "execution_count": 441,
     "metadata": {},
     "output_type": "execute_result"
    }
   ],
   "source": [
    "y[0:16].std()"
   ]
  },
  {
   "cell_type": "code",
   "execution_count": 442,
   "metadata": {},
   "outputs": [
    {
     "data": {
      "text/plain": [
       "110.0370211491407"
      ]
     },
     "execution_count": 442,
     "metadata": {},
     "output_type": "execute_result"
    }
   ],
   "source": [
    "y[0:16].mean()"
   ]
  },
  {
   "cell_type": "code",
   "execution_count": 443,
   "metadata": {},
   "outputs": [
    {
     "data": {
      "text/plain": [
       "1.1710215999523157"
      ]
     },
     "execution_count": 443,
     "metadata": {},
     "output_type": "execute_result"
    }
   ],
   "source": [
    "y[0:16].std()/y[0:16].mean()"
   ]
  },
  {
   "cell_type": "code",
   "execution_count": 444,
   "metadata": {},
   "outputs": [
    {
     "data": {
      "text/plain": [
       "array([[-19.07253709]])"
      ]
     },
     "execution_count": 444,
     "metadata": {},
     "output_type": "execute_result"
    }
   ],
   "source": [
    "mdl=LinearRegression()\n",
    "mdl.fit(np.array(range(0,y.shape[0])[0:int(nfft/2)]).reshape(1,-1).T, np.array(y[0:int(nfft/2)]).reshape(1,-1).T)\n",
    "#mdl.fit(np.array(range(0,y.shape[0])[0:int(nfft/2)]).reshape(1,-1).T, np.array(range(0,y.shape[0])[0:int(nfft/2)]).reshape(1,-1).T*2 )\n",
    "mdl.coef_"
   ]
  },
  {
   "cell_type": "code",
   "execution_count": 109,
   "metadata": {},
   "outputs": [],
   "source": [
    "bb=np.array([[1,2,3,4]])"
   ]
  },
  {
   "cell_type": "code",
   "execution_count": 111,
   "metadata": {},
   "outputs": [],
   "source": [
    "bb=bb.T"
   ]
  },
  {
   "cell_type": "code",
   "execution_count": 110,
   "metadata": {},
   "outputs": [
    {
     "data": {
      "text/plain": [
       "(1, 4)"
      ]
     },
     "execution_count": 110,
     "metadata": {},
     "output_type": "execute_result"
    }
   ],
   "source": [
    "bb.shape\n"
   ]
  },
  {
   "cell_type": "code",
   "execution_count": 112,
   "metadata": {},
   "outputs": [
    {
     "name": "stdout",
     "output_type": "stream",
     "text": [
      "[3]\n"
     ]
    }
   ],
   "source": [
    "print(np.argmax(bb, axis=0))"
   ]
  },
  {
   "cell_type": "code",
   "execution_count": null,
   "metadata": {},
   "outputs": [],
   "source": []
  }
 ],
 "metadata": {
  "kernelspec": {
   "display_name": "Python 3",
   "language": "python",
   "name": "python3"
  },
  "language_info": {
   "codemirror_mode": {
    "name": "ipython",
    "version": 3
   },
   "file_extension": ".py",
   "mimetype": "text/x-python",
   "name": "python",
   "nbconvert_exporter": "python",
   "pygments_lexer": "ipython3",
   "version": "3.7.0"
  }
 },
 "nbformat": 4,
 "nbformat_minor": 2
}
